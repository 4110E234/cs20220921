{
  "nbformat": 4,
  "nbformat_minor": 0,
  "metadata": {
    "colab": {
      "provenance": []
    },
    "kernelspec": {
      "name": "python3",
      "display_name": "Python 3"
    },
    "language_info": {
      "name": "python"
    }
  },
  "cells": [
    {
      "cell_type": "markdown",
      "source": [
        "# 1012 Exercises 4110E234"
      ],
      "metadata": {
        "id": "lfolTL_-LRIY"
      }
    },
    {
      "cell_type": "markdown",
      "source": [
        "# Python List remove()"
      ],
      "metadata": {
        "id": "JrPJMtfZLYN_"
      }
    },
    {
      "cell_type": "markdown",
      "source": [
        "Exercise 1: Remove element from the list"
      ],
      "metadata": {
        "id": "T1m3TPbLLpBO"
      }
    },
    {
      "cell_type": "code",
      "source": [
        "# snacks list\n",
        "snacks = ['Turon', 'Banana Cue', 'Puto', 'Taho']\n",
        "\n",
        "# 'Puto' is removed\n",
        "snacks.remove('Puto')\n",
        "\n",
        "\n",
        "# Updated snacks List\n",
        "print('Updated snacks list: ', snacks)"
      ],
      "metadata": {
        "colab": {
          "base_uri": "https://localhost:8080/"
        },
        "id": "kI2TKeyCLO__",
        "outputId": "717ab2bd-1460-48f4-9204-b217b0744ae3"
      },
      "execution_count": 2,
      "outputs": [
        {
          "output_type": "stream",
          "name": "stdout",
          "text": [
            "Updated snacks list:  ['Turon', 'Banana Cue', 'Taho']\n"
          ]
        }
      ]
    },
    {
      "cell_type": "markdown",
      "source": [
        "Exercise 2: remove() method on a list having duplicate elements"
      ],
      "metadata": {
        "id": "fO3HES9XUld1"
      }
    },
    {
      "cell_type": "code",
      "source": [
        "# snacks list\n",
        "snacks = ['Turon', 'Banana Cue', 'Banana Cue', 'Puto', 'Banana Cue']\n",
        "\n",
        "# 'Banana Cue' is removed\n",
        "snacks.remove('Banana Cue')\n",
        "\n",
        "\n",
        "# Updated snacks list\n",
        "print('Updated snacks list: ', snacks)"
      ],
      "metadata": {
        "colab": {
          "base_uri": "https://localhost:8080/"
        },
        "id": "1gAq_dX3Ld_-",
        "outputId": "e28a1170-bad3-4889-878e-cdb9a12fa472"
      },
      "execution_count": 4,
      "outputs": [
        {
          "output_type": "stream",
          "name": "stdout",
          "text": [
            "Updated snacks list:  ['Turon', 'Banana Cue', 'Puto', 'Banana Cue']\n"
          ]
        }
      ]
    },
    {
      "cell_type": "markdown",
      "source": [
        "Exercise 3: Deleting element that doesn't exist"
      ],
      "metadata": {
        "id": "lFJzYre-VXUz"
      }
    },
    {
      "cell_type": "code",
      "source": [
        "# snacks list\n",
        "snacks =['Turon', 'Banana Cue', 'Puto', 'Taho']\n",
        "\n",
        "# Deleting 'Suman' element\n",
        "snacks.remove('Suman')\n",
        "\n",
        "# Updated snacks list\n",
        "print('Updated snacks list: ', snacks)"
      ],
      "metadata": {
        "colab": {
          "base_uri": "https://localhost:8080/",
          "height": 234
        },
        "id": "5ojTs0y2VaLa",
        "outputId": "7932b6b8-7192-4d0e-a779-7bb78c14f5ac"
      },
      "execution_count": 6,
      "outputs": [
        {
          "output_type": "error",
          "ename": "ValueError",
          "evalue": "ignored",
          "traceback": [
            "\u001b[0;31m---------------------------------------------------------------------------\u001b[0m",
            "\u001b[0;31mValueError\u001b[0m                                Traceback (most recent call last)",
            "\u001b[0;32m<ipython-input-6-1ad45b06553a>\u001b[0m in \u001b[0;36m<module>\u001b[0;34m\u001b[0m\n\u001b[1;32m      3\u001b[0m \u001b[0;34m\u001b[0m\u001b[0m\n\u001b[1;32m      4\u001b[0m \u001b[0;31m# Deleting 'Suman' element\u001b[0m\u001b[0;34m\u001b[0m\u001b[0;34m\u001b[0m\u001b[0;34m\u001b[0m\u001b[0m\n\u001b[0;32m----> 5\u001b[0;31m \u001b[0msnacks\u001b[0m\u001b[0;34m.\u001b[0m\u001b[0mremove\u001b[0m\u001b[0;34m(\u001b[0m\u001b[0;34m'Suman'\u001b[0m\u001b[0;34m)\u001b[0m\u001b[0;34m\u001b[0m\u001b[0;34m\u001b[0m\u001b[0m\n\u001b[0m\u001b[1;32m      6\u001b[0m \u001b[0;34m\u001b[0m\u001b[0m\n\u001b[1;32m      7\u001b[0m \u001b[0;31m# Updated snacks list\u001b[0m\u001b[0;34m\u001b[0m\u001b[0;34m\u001b[0m\u001b[0;34m\u001b[0m\u001b[0m\n",
            "\u001b[0;31mValueError\u001b[0m: list.remove(x): x not in list"
          ]
        }
      ]
    }
  ]
}
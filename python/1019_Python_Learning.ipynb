{
  "nbformat": 4,
  "nbformat_minor": 0,
  "metadata": {
    "colab": {
      "provenance": []
    },
    "kernelspec": {
      "name": "python3",
      "display_name": "Python 3"
    },
    "language_info": {
      "name": "python"
    }
  },
  "cells": [
    {
      "cell_type": "markdown",
      "source": [
        "# 1019 Python Learning 4110E234"
      ],
      "metadata": {
        "id": "LCjUFZ1AF-ty"
      }
    },
    {
      "cell_type": "markdown",
      "source": [
        "# Python Conditions and If statements\n"
      ],
      "metadata": {
        "id": "gU6zi_v9GPWn"
      }
    },
    {
      "cell_type": "markdown",
      "source": [
        "If statement:"
      ],
      "metadata": {
        "id": "kyXgWD55ISCP"
      }
    },
    {
      "cell_type": "code",
      "execution_count": 1,
      "metadata": {
        "colab": {
          "base_uri": "https://localhost:8080/"
        },
        "id": "yu4AKDGiFXyg",
        "outputId": "1537c092-e2c5-4da6-f5df-1c674ce30735"
      },
      "outputs": [
        {
          "output_type": "stream",
          "name": "stdout",
          "text": [
            "b is greater than a\n"
          ]
        }
      ],
      "source": [
        "a = 89\n",
        "b = 169\n",
        "\n",
        "if b > a:\n",
        "  print(\"b is greater than a\")"
      ]
    },
    {
      "cell_type": "markdown",
      "source": [
        "# Indentation"
      ],
      "metadata": {
        "id": "AVNtMDHjHrV_"
      }
    },
    {
      "cell_type": "markdown",
      "source": [
        "If statement, without indentation (will raise an error):"
      ],
      "metadata": {
        "id": "RFtOgloSH7l_"
      }
    },
    {
      "cell_type": "code",
      "source": [
        "a = 89\n",
        "b = 169\n",
        "if b > a:\n",
        "print(\"b is greater than a\") # you will get an error"
      ],
      "metadata": {
        "colab": {
          "base_uri": "https://localhost:8080/",
          "height": 134
        },
        "id": "Oub8xuv8HrC4",
        "outputId": "e02888d1-bbb2-4ef9-8115-4e751b0156dd"
      },
      "execution_count": 2,
      "outputs": [
        {
          "output_type": "error",
          "ename": "IndentationError",
          "evalue": "ignored",
          "traceback": [
            "\u001b[0;36m  File \u001b[0;32m\"<ipython-input-2-ed2bc87ad356>\"\u001b[0;36m, line \u001b[0;32m4\u001b[0m\n\u001b[0;31m    print(\"b is greater than a\") # you will get an error\u001b[0m\n\u001b[0m        ^\u001b[0m\n\u001b[0;31mIndentationError\u001b[0m\u001b[0;31m:\u001b[0m expected an indented block\n"
          ]
        }
      ]
    },
    {
      "cell_type": "markdown",
      "source": [
        "# Elif"
      ],
      "metadata": {
        "id": "5Fj2U7sgKDBH"
      }
    },
    {
      "cell_type": "code",
      "source": [
        "a = 69\n",
        "b = 69\n",
        "if b > a:\n",
        "  print(\"b is greater than a\")\n",
        "elif a == b:\n",
        "  print(\"a and b are equal\")"
      ],
      "metadata": {
        "colab": {
          "base_uri": "https://localhost:8080/"
        },
        "id": "p75PMldaMTjn",
        "outputId": "d6d40420-4dac-45e0-dcbd-2289e0486390"
      },
      "execution_count": 3,
      "outputs": [
        {
          "output_type": "stream",
          "name": "stdout",
          "text": [
            "a and b are equal\n"
          ]
        }
      ]
    },
    {
      "cell_type": "markdown",
      "source": [
        "# Else"
      ],
      "metadata": {
        "id": "1y7h7tQiOeGf"
      }
    },
    {
      "cell_type": "code",
      "source": [
        "a = 169\n",
        "b = 89\n",
        "if b > a:\n",
        "  print(\"b is greater than a\")\n",
        "elif a == b:\n",
        "  print(\"a and b are equal\")\n",
        "else:\n",
        "  print(\"a is greater than b\")"
      ],
      "metadata": {
        "colab": {
          "base_uri": "https://localhost:8080/"
        },
        "id": "depjGd-eOe6e",
        "outputId": "8c8ff6d4-c554-4e68-ed72-6a0f4a9657ef"
      },
      "execution_count": 4,
      "outputs": [
        {
          "output_type": "stream",
          "name": "stdout",
          "text": [
            "a is greater than b\n"
          ]
        }
      ]
    },
    {
      "cell_type": "code",
      "source": [
        "a = 169\n",
        "b = 89\n",
        "if b > a:\n",
        "  print(\"b is greater than a\")\n",
        "else:\n",
        "  print(\"b is not greater than a\")"
      ],
      "metadata": {
        "colab": {
          "base_uri": "https://localhost:8080/"
        },
        "id": "vfIJLra_QLS9",
        "outputId": "a92f89ad-7c2c-4237-cc09-31999209f8a2"
      },
      "execution_count": 5,
      "outputs": [
        {
          "output_type": "stream",
          "name": "stdout",
          "text": [
            "b is not greater than a\n"
          ]
        }
      ]
    },
    {
      "cell_type": "markdown",
      "source": [
        "# Short Hand If"
      ],
      "metadata": {
        "id": "z5E4L3HlRH5M"
      }
    },
    {
      "cell_type": "markdown",
      "source": [
        "One line if statement:"
      ],
      "metadata": {
        "id": "HsHlV4bIRLkd"
      }
    },
    {
      "cell_type": "code",
      "source": [
        "a = 169\n",
        "b = 89\n",
        "\n",
        "if a > b: print(\"a is greater than b\")"
      ],
      "metadata": {
        "colab": {
          "base_uri": "https://localhost:8080/"
        },
        "id": "P1JqETh-ROJu",
        "outputId": "41e6bc6f-1cf3-4704-a29c-741ae1982d05"
      },
      "execution_count": 6,
      "outputs": [
        {
          "output_type": "stream",
          "name": "stdout",
          "text": [
            "a is greater than b\n"
          ]
        }
      ]
    },
    {
      "cell_type": "markdown",
      "source": [
        "# Short Hand If ... Else"
      ],
      "metadata": {
        "id": "36c93qXzTtE2"
      }
    },
    {
      "cell_type": "markdown",
      "source": [
        "One line if else statement:"
      ],
      "metadata": {
        "id": "F4ukGWpXTviD"
      }
    },
    {
      "cell_type": "code",
      "source": [
        "a = 9\n",
        "b = 371\n",
        "\n",
        "print(\"A\") if a > b else print(\"B\")"
      ],
      "metadata": {
        "colab": {
          "base_uri": "https://localhost:8080/"
        },
        "id": "p7h-7iwVTx8R",
        "outputId": "c63d51f2-11ec-4b77-e165-a632aed01263"
      },
      "execution_count": 7,
      "outputs": [
        {
          "output_type": "stream",
          "name": "stdout",
          "text": [
            "B\n"
          ]
        }
      ]
    },
    {
      "cell_type": "markdown",
      "source": [
        "One line if else statement, with 3 conditions:"
      ],
      "metadata": {
        "id": "nIhf8ksyWsXS"
      }
    },
    {
      "cell_type": "code",
      "source": [
        "a = 371\n",
        "b = 371\n",
        "\n",
        "print(\"A\") if a > b else print(\"=\") if a == b else print(\"B\")"
      ],
      "metadata": {
        "colab": {
          "base_uri": "https://localhost:8080/"
        },
        "id": "sgJgh0-vWk30",
        "outputId": "9572b7c8-41a3-48f8-f23f-f6f450e786d4"
      },
      "execution_count": 8,
      "outputs": [
        {
          "output_type": "stream",
          "name": "stdout",
          "text": [
            "=\n"
          ]
        }
      ]
    },
    {
      "cell_type": "markdown",
      "source": [
        "# And"
      ],
      "metadata": {
        "id": "Zt6WuTBhXol7"
      }
    },
    {
      "cell_type": "markdown",
      "source": [
        "Test if a is greater than b, AND if c is greater than a:"
      ],
      "metadata": {
        "id": "jEvLziAAXwsb"
      }
    },
    {
      "cell_type": "code",
      "source": [
        "a = 390\n",
        "b = 69\n",
        "c = 750\n",
        "if a > b and c > a:\n",
        "  print(\"Both conditions are True\")"
      ],
      "metadata": {
        "colab": {
          "base_uri": "https://localhost:8080/"
        },
        "id": "V0hXgS1kX0Sb",
        "outputId": "3a9bfd1f-bb25-4304-be36-582fbb1a477e"
      },
      "execution_count": 9,
      "outputs": [
        {
          "output_type": "stream",
          "name": "stdout",
          "text": [
            "Both conditions are True\n"
          ]
        }
      ]
    },
    {
      "cell_type": "markdown",
      "source": [
        "# Or"
      ],
      "metadata": {
        "id": "bS3fhxlGZzOq"
      }
    },
    {
      "cell_type": "markdown",
      "source": [
        "Test if a is greater than b, OR if a is greater than c:"
      ],
      "metadata": {
        "id": "hUNrmGBFZ2vJ"
      }
    },
    {
      "cell_type": "code",
      "source": [
        "a = 390\n",
        "b = 69\n",
        "c = 750\n",
        "if a > b or a > c:\n",
        "  print(\"At least one of the conditions is True\")"
      ],
      "metadata": {
        "colab": {
          "base_uri": "https://localhost:8080/"
        },
        "id": "jLsdzXUVZ5M5",
        "outputId": "5236fbb6-05b6-42d9-94ed-d979a2c2472e"
      },
      "execution_count": 10,
      "outputs": [
        {
          "output_type": "stream",
          "name": "stdout",
          "text": [
            "At least one of the conditions is True\n"
          ]
        }
      ]
    },
    {
      "cell_type": "markdown",
      "source": [
        "# Nested If"
      ],
      "metadata": {
        "id": "V47vrhQ8b-k7"
      }
    },
    {
      "cell_type": "code",
      "source": [
        "x = 61\n",
        "\n",
        "if x > 30:\n",
        "  print(\"Above thirty,\")\n",
        "  if x > 50:\n",
        "    print(\"and also above 50!\")\n",
        "  else:\n",
        "    print(\"but not above 50.\")"
      ],
      "metadata": {
        "colab": {
          "base_uri": "https://localhost:8080/"
        },
        "id": "i125KKsocGG5",
        "outputId": "47100622-841d-452c-e4e5-7458daf8f0f8"
      },
      "execution_count": 11,
      "outputs": [
        {
          "output_type": "stream",
          "name": "stdout",
          "text": [
            "Above thirty,\n",
            "and also above 50!\n"
          ]
        }
      ]
    },
    {
      "cell_type": "markdown",
      "source": [
        "# The pass Statement"
      ],
      "metadata": {
        "id": "WVv7Dmv4chZZ"
      }
    },
    {
      "cell_type": "code",
      "source": [
        "a = 89\n",
        "b = 169\n",
        "\n",
        "if b > a:\n",
        "  pass\n",
        "\n",
        "# having an empty if statement like this, would raise an error without the pass statement"
      ],
      "metadata": {
        "id": "T5PJMi3-clWA"
      },
      "execution_count": 13,
      "outputs": []
    },
    {
      "cell_type": "markdown",
      "source": [
        "# Python For Loops"
      ],
      "metadata": {
        "id": "XltoC9RDgUwM"
      }
    },
    {
      "cell_type": "markdown",
      "source": [
        "Print each fruit in a fruit list:"
      ],
      "metadata": {
        "id": "5Wws8PZTgYJX"
      }
    },
    {
      "cell_type": "code",
      "source": [
        "classmates = [\"james\", \"kenneth\", \"raive\"]\n",
        "for x in classmates:\n",
        "  print(x)"
      ],
      "metadata": {
        "colab": {
          "base_uri": "https://localhost:8080/"
        },
        "id": "REruPyXogc-X",
        "outputId": "af315d8b-6b4a-43ff-b7dc-95351069aabe"
      },
      "execution_count": 14,
      "outputs": [
        {
          "output_type": "stream",
          "name": "stdout",
          "text": [
            "james\n",
            "kenneth\n",
            "raive\n"
          ]
        }
      ]
    },
    {
      "cell_type": "markdown",
      "source": [
        "# Looping Through a String"
      ],
      "metadata": {
        "id": "qqcR1tWCin_J"
      }
    },
    {
      "cell_type": "markdown",
      "source": [
        "Loop through the letters in the word \"angelle\":"
      ],
      "metadata": {
        "id": "akCo2gBciuqZ"
      }
    },
    {
      "cell_type": "code",
      "source": [
        "for x in \"angelle\":\n",
        "  print(x)"
      ],
      "metadata": {
        "colab": {
          "base_uri": "https://localhost:8080/"
        },
        "id": "NrBy2yXCinoX",
        "outputId": "1acb9afb-92af-4c3e-c365-1ad7698daa55"
      },
      "execution_count": 15,
      "outputs": [
        {
          "output_type": "stream",
          "name": "stdout",
          "text": [
            "a\n",
            "n\n",
            "g\n",
            "e\n",
            "l\n",
            "l\n",
            "e\n"
          ]
        }
      ]
    },
    {
      "cell_type": "markdown",
      "source": [
        "# The break Statement"
      ],
      "metadata": {
        "id": "bPhX_o3sjvMw"
      }
    },
    {
      "cell_type": "markdown",
      "source": [
        "Exit the loop when x is \"kenneth\":\n"
      ],
      "metadata": {
        "id": "3sg7qYM0ktJ5"
      }
    },
    {
      "cell_type": "code",
      "source": [
        "classmates = [\"james\", \"kenneth\", \"raive\"]\n",
        "for x in classmates:\n",
        "  print(x) \n",
        "  if x == \"kenneth\":\n",
        "    break"
      ],
      "metadata": {
        "colab": {
          "base_uri": "https://localhost:8080/"
        },
        "id": "NlSFChUvkuAq",
        "outputId": "89b2b33b-61c5-428e-b599-65a9ba06836b"
      },
      "execution_count": 16,
      "outputs": [
        {
          "output_type": "stream",
          "name": "stdout",
          "text": [
            "james\n",
            "kenneth\n"
          ]
        }
      ]
    },
    {
      "cell_type": "markdown",
      "source": [
        "Exit the loop when x is \"kenneth\", but this time the break comes before the print:"
      ],
      "metadata": {
        "id": "ItgyeZJfnOgu"
      }
    },
    {
      "cell_type": "code",
      "source": [
        "classmates = [\"james\", \"kenneth\", \"raive\"]\n",
        "for x in classmates:\n",
        "  if x == \"kenneth\":\n",
        "    break\n",
        "  print(x) "
      ],
      "metadata": {
        "colab": {
          "base_uri": "https://localhost:8080/"
        },
        "id": "oYlQ7gSQnKOP",
        "outputId": "a909fe38-7866-4c91-e734-ccd0e54f8c54"
      },
      "execution_count": 17,
      "outputs": [
        {
          "output_type": "stream",
          "name": "stdout",
          "text": [
            "james\n"
          ]
        }
      ]
    },
    {
      "cell_type": "markdown",
      "source": [
        "# The continue Statement"
      ],
      "metadata": {
        "id": "8BiZYD9ypySE"
      }
    },
    {
      "cell_type": "markdown",
      "source": [
        " Do not print kenneth:"
      ],
      "metadata": {
        "id": "mkocUMANp1zH"
      }
    },
    {
      "cell_type": "code",
      "source": [
        "classmates = [\"james\", \"kenneth\", \"raive\"]\n",
        "for x in classmates:\n",
        "  if x == \"kenneth\":\n",
        "    continue\n",
        "  print(x) "
      ],
      "metadata": {
        "colab": {
          "base_uri": "https://localhost:8080/"
        },
        "id": "5k5tQHK4p6AB",
        "outputId": "4f7aef49-4646-42be-967e-48a601d769ae"
      },
      "execution_count": 18,
      "outputs": [
        {
          "output_type": "stream",
          "name": "stdout",
          "text": [
            "james\n",
            "raive\n"
          ]
        }
      ]
    },
    {
      "cell_type": "markdown",
      "source": [
        "# The range() Function"
      ],
      "metadata": {
        "id": "7oIEHAnaqTK7"
      }
    },
    {
      "cell_type": "markdown",
      "source": [
        "Using the range() function:\n",
        "\n"
      ],
      "metadata": {
        "id": "tyKa8MzjqV1s"
      }
    },
    {
      "cell_type": "code",
      "source": [
        "for x in range(9):\n",
        "  print(x)"
      ],
      "metadata": {
        "colab": {
          "base_uri": "https://localhost:8080/"
        },
        "id": "bN9TuppOqX-9",
        "outputId": "ba4af4ef-7bb8-41c1-dc3e-8f2af56dc555"
      },
      "execution_count": 19,
      "outputs": [
        {
          "output_type": "stream",
          "name": "stdout",
          "text": [
            "0\n",
            "1\n",
            "2\n",
            "3\n",
            "4\n",
            "5\n",
            "6\n",
            "7\n",
            "8\n"
          ]
        }
      ]
    },
    {
      "cell_type": "markdown",
      "source": [
        "Using the start parameter:"
      ],
      "metadata": {
        "id": "3ciBkm4RsAwf"
      }
    },
    {
      "cell_type": "code",
      "source": [
        "for x in range(3, 9):\n",
        "  print(x) "
      ],
      "metadata": {
        "colab": {
          "base_uri": "https://localhost:8080/"
        },
        "id": "bX8E0-1xsB-O",
        "outputId": "df27115f-dff1-48b8-a448-20d59083b36f"
      },
      "execution_count": 20,
      "outputs": [
        {
          "output_type": "stream",
          "name": "stdout",
          "text": [
            "3\n",
            "4\n",
            "5\n",
            "6\n",
            "7\n",
            "8\n"
          ]
        }
      ]
    },
    {
      "cell_type": "markdown",
      "source": [
        "Increment the sequence with 3 (default is 1):"
      ],
      "metadata": {
        "id": "dZlM4atOs6pZ"
      }
    },
    {
      "cell_type": "code",
      "source": [
        "for x in range(6, 90, 3):\n",
        "  print(x) "
      ],
      "metadata": {
        "colab": {
          "base_uri": "https://localhost:8080/"
        },
        "id": "oxNlg9Pus6zt",
        "outputId": "07697f51-691b-4da2-d646-eb22b3509290"
      },
      "execution_count": 21,
      "outputs": [
        {
          "output_type": "stream",
          "name": "stdout",
          "text": [
            "6\n",
            "9\n",
            "12\n",
            "15\n",
            "18\n",
            "21\n",
            "24\n",
            "27\n",
            "30\n",
            "33\n",
            "36\n",
            "39\n",
            "42\n",
            "45\n",
            "48\n",
            "51\n",
            "54\n",
            "57\n",
            "60\n",
            "63\n",
            "66\n",
            "69\n",
            "72\n",
            "75\n",
            "78\n",
            "81\n",
            "84\n",
            "87\n"
          ]
        }
      ]
    },
    {
      "cell_type": "markdown",
      "source": [
        "# Else in For Loop"
      ],
      "metadata": {
        "id": "UbuULL76ttuX"
      }
    },
    {
      "cell_type": "markdown",
      "source": [
        "Print all numbers from 0 to 8, and print a message when the loop has ended:"
      ],
      "metadata": {
        "id": "FF-v_kajtymk"
      }
    },
    {
      "cell_type": "code",
      "source": [
        "for x in range(9):\n",
        "  print(x)\n",
        "else:\n",
        "  print(\"Finally finished!\")"
      ],
      "metadata": {
        "colab": {
          "base_uri": "https://localhost:8080/"
        },
        "id": "N4O3t8HGt6y4",
        "outputId": "49bb87a8-8031-4e57-e839-7474ab203442"
      },
      "execution_count": 22,
      "outputs": [
        {
          "output_type": "stream",
          "name": "stdout",
          "text": [
            "0\n",
            "1\n",
            "2\n",
            "3\n",
            "4\n",
            "5\n",
            "6\n",
            "7\n",
            "8\n",
            "Finally finished!\n"
          ]
        }
      ]
    },
    {
      "cell_type": "markdown",
      "source": [
        "Break the loop when x is 6, and see what happens with the else block:"
      ],
      "metadata": {
        "id": "9hkvlhhYvIYL"
      }
    },
    {
      "cell_type": "code",
      "source": [
        "for x in range(9):\n",
        "  if x == 6: break\n",
        "  print(x)\n",
        "else:\n",
        "  print(\"Finally finished!\")\n",
        "\n",
        "#If the loop breaks, the else block is not executed."
      ],
      "metadata": {
        "colab": {
          "base_uri": "https://localhost:8080/"
        },
        "id": "cBTqXQy9vI9Z",
        "outputId": "662f1f1f-0e8c-460e-8633-b77f06b9f092"
      },
      "execution_count": 23,
      "outputs": [
        {
          "output_type": "stream",
          "name": "stdout",
          "text": [
            "0\n",
            "1\n",
            "2\n",
            "3\n",
            "4\n",
            "5\n"
          ]
        }
      ]
    },
    {
      "cell_type": "markdown",
      "source": [
        "# Nested Loops"
      ],
      "metadata": {
        "id": "to8iVTlBviOh"
      }
    },
    {
      "cell_type": "markdown",
      "source": [
        " Print each adjective for every classmates:"
      ],
      "metadata": {
        "id": "H1gZ8Kw8v_9z"
      }
    },
    {
      "cell_type": "code",
      "source": [
        "adj = [\"smart\", \"tall\", \"funny\"]\n",
        "classmates = [\"james\", \"kenneth\", \"raive\"]\n",
        "\n",
        "for x in adj:\n",
        "  for y in classmates:\n",
        "    print(x, y)"
      ],
      "metadata": {
        "colab": {
          "base_uri": "https://localhost:8080/"
        },
        "id": "_0_H6w3FwY3E",
        "outputId": "698b7793-cc3b-4170-b083-bb71c12275c7"
      },
      "execution_count": 24,
      "outputs": [
        {
          "output_type": "stream",
          "name": "stdout",
          "text": [
            "smart james\n",
            "smart kenneth\n",
            "smart raive\n",
            "tall james\n",
            "tall kenneth\n",
            "tall raive\n",
            "funny james\n",
            "funny kenneth\n",
            "funny raive\n"
          ]
        }
      ]
    },
    {
      "cell_type": "markdown",
      "source": [
        "# The pass Statement"
      ],
      "metadata": {
        "id": "G5UIAe1sxBpC"
      }
    },
    {
      "cell_type": "code",
      "source": [
        "for x in [0, 1, 2]:\n",
        "  pass\n",
        "\n",
        "# having an empty for loop like this, would raise an error without the pass statement"
      ],
      "metadata": {
        "id": "q1xoRaXlxCwV"
      },
      "execution_count": 25,
      "outputs": []
    },
    {
      "cell_type": "markdown",
      "source": [
        "# Python While Loops"
      ],
      "metadata": {
        "id": "K6q0OpKSxY8c"
      }
    },
    {
      "cell_type": "markdown",
      "source": [
        "The while Loop\n",
        "\n",
        "Print i as long as i is less than 9:"
      ],
      "metadata": {
        "id": "gVDk3VxPxZkk"
      }
    },
    {
      "cell_type": "code",
      "source": [
        "i = 1\n",
        "while i < 9:\n",
        "  print(i)\n",
        "  i += 1\n"
      ],
      "metadata": {
        "colab": {
          "base_uri": "https://localhost:8080/"
        },
        "id": "ibESY6nryCDr",
        "outputId": "013a8723-ab63-4cd0-c710-93809d91b3b8"
      },
      "execution_count": 26,
      "outputs": [
        {
          "output_type": "stream",
          "name": "stdout",
          "text": [
            "1\n",
            "2\n",
            "3\n",
            "4\n",
            "5\n",
            "6\n",
            "7\n",
            "8\n"
          ]
        }
      ]
    },
    {
      "cell_type": "markdown",
      "source": [
        "# The break Statement"
      ],
      "metadata": {
        "id": "cgCHGFtazxPU"
      }
    },
    {
      "cell_type": "markdown",
      "source": [
        "Exit the loop when i is 6:"
      ],
      "metadata": {
        "id": "sslfh5-AzylH"
      }
    },
    {
      "cell_type": "code",
      "source": [
        "i = 1\n",
        "while i < 9:\n",
        "  print(i)\n",
        "  if (i == 6):\n",
        "    break\n",
        "  i += 1"
      ],
      "metadata": {
        "colab": {
          "base_uri": "https://localhost:8080/"
        },
        "id": "7rm0g-pp0EEY",
        "outputId": "642b7e99-6f23-42c6-f48b-2f12508d08fb"
      },
      "execution_count": 27,
      "outputs": [
        {
          "output_type": "stream",
          "name": "stdout",
          "text": [
            "1\n",
            "2\n",
            "3\n",
            "4\n",
            "5\n",
            "6\n"
          ]
        }
      ]
    },
    {
      "cell_type": "markdown",
      "source": [
        "# The continue Statement"
      ],
      "metadata": {
        "id": "2sqaqHpC0tvz"
      }
    },
    {
      "cell_type": "markdown",
      "source": [
        " Exit the loop when i is 6:"
      ],
      "metadata": {
        "id": "1t3nV3ED0uI7"
      }
    },
    {
      "cell_type": "code",
      "source": [
        "i = 1\n",
        "while i < 9:\n",
        "  print(i)\n",
        "  if (i == 6):\n",
        "    break\n",
        "  i += 1"
      ],
      "metadata": {
        "colab": {
          "base_uri": "https://localhost:8080/"
        },
        "id": "D-8DjJP-0uSj",
        "outputId": "cced0990-2623-4e0f-f2e2-5450c296c91f"
      },
      "execution_count": 28,
      "outputs": [
        {
          "output_type": "stream",
          "name": "stdout",
          "text": [
            "1\n",
            "2\n",
            "3\n",
            "4\n",
            "5\n",
            "6\n"
          ]
        }
      ]
    },
    {
      "cell_type": "markdown",
      "source": [
        "# The else Statement"
      ],
      "metadata": {
        "id": "2pPkYUHp1VTC"
      }
    },
    {
      "cell_type": "markdown",
      "source": [
        "Print a message once the condition is false:"
      ],
      "metadata": {
        "id": "87ht9eVJ1Yw7"
      }
    },
    {
      "cell_type": "code",
      "source": [
        "i = 1\n",
        "while i < 9:\n",
        "  print(i)\n",
        "  i += 1\n",
        "else:\n",
        "  print(\"i is no longer less than 9\")"
      ],
      "metadata": {
        "colab": {
          "base_uri": "https://localhost:8080/"
        },
        "id": "BUiXfwLm1asH",
        "outputId": "7e54b495-a87a-484d-8e21-2e983f35b651"
      },
      "execution_count": 29,
      "outputs": [
        {
          "output_type": "stream",
          "name": "stdout",
          "text": [
            "1\n",
            "2\n",
            "3\n",
            "4\n",
            "5\n",
            "6\n",
            "7\n",
            "8\n",
            "i is no longer less than 9\n"
          ]
        }
      ]
    }
  ]
}
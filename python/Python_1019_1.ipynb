{
  "nbformat": 4,
  "nbformat_minor": 0,
  "metadata": {
    "colab": {
      "provenance": []
    },
    "kernelspec": {
      "name": "python3",
      "display_name": "Python 3"
    },
    "language_info": {
      "name": "python"
    }
  },
  "cells": [
    {
      "cell_type": "markdown",
      "source": [
        "# 1019 4110E234\n",
        "\n"
      ],
      "metadata": {
        "id": "28liobPVtWyR"
      }
    },
    {
      "cell_type": "markdown",
      "source": [
        "Python Conditions and If statements\n"
      ],
      "metadata": {
        "id": "QtDDe6U6tWBZ"
      }
    },
    {
      "cell_type": "markdown",
      "source": [
        "Exercise 1 : Print \"Hello Kunshan\" if a is greater than b.\n"
      ],
      "metadata": {
        "id": "4gE3ljgSuelJ"
      }
    },
    {
      "cell_type": "code",
      "execution_count": 1,
      "metadata": {
        "colab": {
          "base_uri": "https://localhost:8080/"
        },
        "id": "CgrfZ0ITs7ng",
        "outputId": "2963a200-d2aa-4243-8502-071283c4d8db"
      },
      "outputs": [
        {
          "output_type": "stream",
          "name": "stdout",
          "text": [
            "Hello Kunshan\n"
          ]
        }
      ],
      "source": [
        "a = 54\n",
        "b = 35\n",
        "\n",
        "if a > b :\n",
        "  print(\"Hello Kunshan\")"
      ]
    },
    {
      "cell_type": "markdown",
      "source": [
        "Exercise 2 : Print \"Hello Kunshan\" if a is not equal to b.\n",
        "\n"
      ],
      "metadata": {
        "id": "iu1aGXoDvYqI"
      }
    },
    {
      "cell_type": "code",
      "source": [
        "a = 64\n",
        "b = 29\n",
        "\n",
        "if a != b :\n",
        "  print(\"Hello Kunshan\")"
      ],
      "metadata": {
        "colab": {
          "base_uri": "https://localhost:8080/"
        },
        "id": "ONbDogeAvcvz",
        "outputId": "67e07fc0-70db-44b9-b1f0-cf14add5822e"
      },
      "execution_count": 2,
      "outputs": [
        {
          "output_type": "stream",
          "name": "stdout",
          "text": [
            "Hello Kunshan\n"
          ]
        }
      ]
    },
    {
      "cell_type": "markdown",
      "source": [
        "Exercise 3 : Print \"Yes\" if a is equal to b, otherwise print \"No\"."
      ],
      "metadata": {
        "id": "JABhWjc7v_Yh"
      }
    },
    {
      "cell_type": "code",
      "source": [
        "a = 87\n",
        "b = 73\n",
        "\n",
        "if a == b :\n",
        "  print(\"Yes\")\n",
        "else:\n",
        "  print(\"No\")"
      ],
      "metadata": {
        "colab": {
          "base_uri": "https://localhost:8080/"
        },
        "id": "2UTp_GWfwGud",
        "outputId": "b04d120e-ee1d-4729-d47e-06ed7b29dc4f"
      },
      "execution_count": 4,
      "outputs": [
        {
          "output_type": "stream",
          "name": "stdout",
          "text": [
            "No\n"
          ]
        }
      ]
    },
    {
      "cell_type": "markdown",
      "source": [
        "Exercise 4 : Print \"1\" if a is equal to b, print \"2\" if a is greater than b, otherwise print \"3\"."
      ],
      "metadata": {
        "id": "Hr1A9rD3wmmj"
      }
    },
    {
      "cell_type": "code",
      "source": [
        "a = 69\n",
        "b = 38\n",
        "\n",
        "if a == b :\n",
        " print(\"1\")\n",
        "elif a > b :\n",
        " print(\"2\")\n",
        "else:\n",
        " print(\"3\")"
      ],
      "metadata": {
        "colab": {
          "base_uri": "https://localhost:8080/"
        },
        "id": "-Zqhq2Mvwq3h",
        "outputId": "f0bc9dd5-d455-4326-88c6-89c8fc58a7b3"
      },
      "execution_count": 5,
      "outputs": [
        {
          "output_type": "stream",
          "name": "stdout",
          "text": [
            "2\n"
          ]
        }
      ]
    },
    {
      "cell_type": "markdown",
      "source": [
        "Exercise 5 : Print \"Hello Kunshan\" if a is equal to b, and c is equal to d.\n",
        "\n"
      ],
      "metadata": {
        "id": "k77n0oUZxIB5"
      }
    },
    {
      "cell_type": "code",
      "source": [
        "if a == b and c == d :\n",
        "  print(\"Hello Kunshan\")"
      ],
      "metadata": {
        "id": "7q-KkAktxN7d"
      },
      "execution_count": 16,
      "outputs": []
    },
    {
      "cell_type": "markdown",
      "source": [
        "Exercise 6 : Print \"Hello Kunshan\" if a is equal to b, or if c is equal to d."
      ],
      "metadata": {
        "id": "m_pYdGsfywvb"
      }
    },
    {
      "cell_type": "code",
      "source": [
        "if a == b or c == d:\n",
        "  print(\"Hello Kunshan\")"
      ],
      "metadata": {
        "colab": {
          "base_uri": "https://localhost:8080/"
        },
        "id": "JzbYsUhoy6t5",
        "outputId": "e8385c9c-8557-4b4a-c2bc-951c08a99807"
      },
      "execution_count": 15,
      "outputs": [
        {
          "output_type": "stream",
          "name": "stdout",
          "text": [
            "Hello Kunshan\n"
          ]
        }
      ]
    },
    {
      "cell_type": "markdown",
      "source": [
        "Exercise 7 :\n",
        "This example misses indentations to be correct.\n",
        "\n",
        "Insert the missing indentation to make the code correct:"
      ],
      "metadata": {
        "id": "e3EjR50TzI5S"
      }
    },
    {
      "cell_type": "code",
      "source": [
        "if 9 > 6 :\n",
        "  print(\"Nine is greater than Six!\")"
      ],
      "metadata": {
        "colab": {
          "base_uri": "https://localhost:8080/"
        },
        "id": "-oGzOgMRzTUR",
        "outputId": "a136f323-291b-4620-e375-84eb457fa387"
      },
      "execution_count": 17,
      "outputs": [
        {
          "output_type": "stream",
          "name": "stdout",
          "text": [
            "Nine is greater than Six!\n"
          ]
        }
      ]
    },
    {
      "cell_type": "markdown",
      "source": [
        "Exercise 8 : Use the correct short hand syntax to put the following statement on one line:\n",
        "\n"
      ],
      "metadata": {
        "id": "X38m2_fuzkoa"
      }
    },
    {
      "cell_type": "code",
      "source": [
        "if 9 > 3: print(\"Nine is greater than Three!\")"
      ],
      "metadata": {
        "colab": {
          "base_uri": "https://localhost:8080/"
        },
        "id": "2TOAmLbjzn2y",
        "outputId": "9212efda-823d-4ef5-8eee-96d57ab53d7b"
      },
      "execution_count": 18,
      "outputs": [
        {
          "output_type": "stream",
          "name": "stdout",
          "text": [
            "Nine is greater than Three!\n"
          ]
        }
      ]
    },
    {
      "cell_type": "markdown",
      "source": [
        "Exercise 9 : Use the correct short hand syntax to write the following conditional expression in one line:"
      ],
      "metadata": {
        "id": "M2jjhC-lzxfh"
      }
    },
    {
      "cell_type": "code",
      "source": [
        "if 9 > 7:\n",
        "  print(\"Yes\")\n",
        "else:    \n",
        "  print(\"No\")"
      ],
      "metadata": {
        "colab": {
          "base_uri": "https://localhost:8080/"
        },
        "id": "M4HBd7SFz0xi",
        "outputId": "7386ef78-abea-41ce-c955-a50ec0cbfdb7"
      },
      "execution_count": 24,
      "outputs": [
        {
          "output_type": "stream",
          "name": "stdout",
          "text": [
            "Yes\n"
          ]
        }
      ]
    }
  ]
}
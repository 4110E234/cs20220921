{
  "nbformat": 4,
  "nbformat_minor": 0,
  "metadata": {
    "colab": {
      "provenance": []
    },
    "kernelspec": {
      "name": "python3",
      "display_name": "Python 3"
    },
    "language_info": {
      "name": "python"
    }
  },
  "cells": [
    {
      "cell_type": "markdown",
      "source": [
        "# Quiz_1019"
      ],
      "metadata": {
        "id": "oRN9Bhp-GLxP"
      }
    },
    {
      "cell_type": "markdown",
      "source": [
        "\n",
        "# Exercise 1:\n"
      ],
      "metadata": {
        "id": "7O7gErnSFv3P"
      }
    },
    {
      "cell_type": "code",
      "execution_count": 5,
      "metadata": {
        "colab": {
          "base_uri": "https://localhost:8080/"
        },
        "id": "kEFlX2yv9ahI",
        "outputId": "159c1241-d3c8-4d1d-c492-00c1d0e5b879"
      },
      "outputs": [
        {
          "output_type": "stream",
          "name": "stdout",
          "text": [
            "222\n",
            "888\n",
            "5328\n"
          ]
        }
      ],
      "source": [
        "initial = 111\n",
        "\n",
        "for x in range (2, 7 ,2) :\n",
        "  initial *= x #initial = initial*x\n",
        "\n",
        "  print(initial)"
      ]
    },
    {
      "cell_type": "markdown",
      "source": [
        "# Exercise 2:"
      ],
      "metadata": {
        "id": "3UqFU5lUF2gf"
      }
    },
    {
      "cell_type": "code",
      "source": [
        "initial = 111\n",
        "\n",
        "for x in range(2,7,2):\n",
        "  initial -= x  #initial = initial - x\n",
        "\n",
        "print(initial)"
      ],
      "metadata": {
        "colab": {
          "base_uri": "https://localhost:8080/"
        },
        "id": "yADjY8IJFztW",
        "outputId": "7a3a4ecf-0e2f-4c3e-81dc-ba041b231ac7"
      },
      "execution_count": 6,
      "outputs": [
        {
          "output_type": "stream",
          "name": "stdout",
          "text": [
            "99\n"
          ]
        }
      ]
    }
  ]
}
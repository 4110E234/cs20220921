{
  "nbformat": 4,
  "nbformat_minor": 0,
  "metadata": {
    "colab": {
      "provenance": []
    },
    "kernelspec": {
      "name": "python3",
      "display_name": "Python 3"
    },
    "language_info": {
      "name": "python"
    }
  },
  "cells": [
    {
      "cell_type": "markdown",
      "source": [
        "# 1019 4110E234\n",
        "\n",
        "Python For Loops"
      ],
      "metadata": {
        "id": "dF30Hqh04apf"
      }
    },
    {
      "cell_type": "markdown",
      "source": [
        "Exercise 1 : Loop through the items in the fruits list."
      ],
      "metadata": {
        "id": "GjBcUNzu4i_D"
      }
    },
    {
      "cell_type": "code",
      "source": [
        "classmates = [\"james\", \"kenneth\", \"raive\"]\n",
        "for x in classmates:\n",
        "  print(x)"
      ],
      "metadata": {
        "colab": {
          "base_uri": "https://localhost:8080/"
        },
        "id": "d3DHjaCr47Fc",
        "outputId": "3f4fedb2-a90a-498a-a977-97f9ca2378b3"
      },
      "execution_count": 2,
      "outputs": [
        {
          "output_type": "stream",
          "name": "stdout",
          "text": [
            "james\n",
            "kenneth\n",
            "raive\n"
          ]
        }
      ]
    },
    {
      "cell_type": "markdown",
      "source": [
        "Exercise 2 : In the loop, when the item value is \"kenneth\", jump directly to the next item.\n",
        "\n"
      ],
      "metadata": {
        "id": "eTRINifh7cY0"
      }
    },
    {
      "cell_type": "code",
      "source": [
        "classmates = [\"james\", \"kenneth\", \"raive\"]\n",
        "for x in classmates:\n",
        "  if x == \"kenneth\":\n",
        "    continue\n",
        "  print(x) \n"
      ],
      "metadata": {
        "colab": {
          "base_uri": "https://localhost:8080/"
        },
        "id": "_UoBWmfH7cFu",
        "outputId": "47f3ad51-35c7-4a4c-f744-d775dab1aac0"
      },
      "execution_count": 9,
      "outputs": [
        {
          "output_type": "stream",
          "name": "stdout",
          "text": [
            "james\n",
            "raive\n"
          ]
        }
      ]
    },
    {
      "cell_type": "markdown",
      "source": [
        "Exercise 3 : Use the range function to loop through a code set 9 times."
      ],
      "metadata": {
        "id": "5ubsv2PCCTZy"
      }
    },
    {
      "cell_type": "code",
      "source": [
        "for x in range(9):\n",
        "  print(x)"
      ],
      "metadata": {
        "colab": {
          "base_uri": "https://localhost:8080/"
        },
        "id": "pAfuArZtCj6z",
        "outputId": "e59fd3f3-d2eb-402b-bfa2-3c261cb13107"
      },
      "execution_count": 10,
      "outputs": [
        {
          "output_type": "stream",
          "name": "stdout",
          "text": [
            "0\n",
            "1\n",
            "2\n",
            "3\n",
            "4\n",
            "5\n",
            "6\n",
            "7\n",
            "8\n"
          ]
        }
      ]
    },
    {
      "cell_type": "markdown",
      "source": [
        "Exercise 4 : Exit the loop when x is \"kenneth\"."
      ],
      "metadata": {
        "id": "urepN1OTCwCo"
      }
    },
    {
      "cell_type": "code",
      "source": [
        "classmates = [\"james\", \"kenneth\", \"raive\"]\n",
        "for x in classmates:\n",
        "  print(x) \n",
        "  if x == \"kenneth\":\n",
        "    break\n",
        "    print(X)"
      ],
      "metadata": {
        "colab": {
          "base_uri": "https://localhost:8080/"
        },
        "id": "-pIazf8gEBcp",
        "outputId": "78ecd8c0-fe56-44a4-966c-7dcda5d96a19"
      },
      "execution_count": 11,
      "outputs": [
        {
          "output_type": "stream",
          "name": "stdout",
          "text": [
            "james\n",
            "kenneth\n"
          ]
        }
      ]
    }
  ]
}
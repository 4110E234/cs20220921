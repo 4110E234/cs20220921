{
  "nbformat": 4,
  "nbformat_minor": 0,
  "metadata": {
    "colab": {
      "provenance": [],
      "collapsed_sections": []
    },
    "kernelspec": {
      "name": "python3",
      "display_name": "Python 3"
    },
    "language_info": {
      "name": "python"
    }
  },
  "cells": [
    {
      "cell_type": "markdown",
      "source": [
        "# 1102 Test\n",
        "\n",
        "4110E234-喬萬斯\n",
        "\n",
        "Multiple Choice"
      ],
      "metadata": {
        "id": "V_7XS4AQyBx-"
      }
    },
    {
      "cell_type": "markdown",
      "source": [
        "# 1.\n",
        "\n"
      ],
      "metadata": {
        "id": "eHOyh94AyPj5"
      }
    },
    {
      "cell_type": "markdown",
      "source": [
        "Which following is the correct way to create a dictionary in Python?\n",
        "\n",
        "   (A) students = { 'name' => 'alice' ;  'score' =>60 }\n",
        "\n",
        "   (B) students = { 'name' = 'alice' ;  'score' =60 }\n",
        "\n",
        "   (C) students = { 'name' : 'alice' ;  'score' : 60 }\n",
        "\n",
        "   (D) students = { 'name' => 'alice' ,  'score' =>60 }\n",
        "   \n",
        "   (E) students = { 'name' : 'alice' , 'score' : 60 }"
      ],
      "metadata": {
        "id": "YR4YR8SQ1qr9"
      }
    },
    {
      "cell_type": "markdown",
      "source": [
        "# Answer:\n",
        "\n",
        "**E**"
      ],
      "metadata": {
        "id": "BhU9nl_-zANd"
      }
    },
    {
      "cell_type": "code",
      "source": [
        " student = {\n",
        "  \"name\": \"alice\",\n",
        "  \"score\": 60\n",
        "}\n",
        "print(student)"
      ],
      "metadata": {
        "id": "k2vKstFUzF99",
        "colab": {
          "base_uri": "https://localhost:8080/"
        },
        "outputId": "4a571f19-f767-4313-fd04-941fd0445fec"
      },
      "execution_count": null,
      "outputs": [
        {
          "output_type": "stream",
          "name": "stdout",
          "text": [
            "{'name': 'alice', 'score': 60}\n"
          ]
        }
      ]
    },
    {
      "cell_type": "markdown",
      "source": [
        "# 2.\n"
      ],
      "metadata": {
        "id": "YlQgxpS31Bni"
      }
    },
    {
      "cell_type": "markdown",
      "source": [
        "What does the following Python program fragment do?\n",
        "\n",
        "   s=0\n",
        "\n",
        "   for i in range (3 , 10) :\n",
        "\n",
        "        s+=i\n",
        "\n",
        "   print (s)\n",
        "\n",
        "   (A) Calculate the sum of 1+2+…+10\n",
        "\n",
        "   (B) Calculate the sum of 1+4+7+10\n",
        "\n",
        "   (C) Calculate the sum of 3+4+5+6+…+9\n",
        "\n",
        "   (D) Calculate the sum of 3+4+5+6+…+10\n",
        "   \n",
        "   (E) Calculate the sum of 0+2+4+6+…+10"
      ],
      "metadata": {
        "id": "Py1YaSJC2GvX"
      }
    },
    {
      "cell_type": "markdown",
      "source": [
        "# Answer:\n",
        "\n",
        "**B**"
      ],
      "metadata": {
        "id": "Cg_eiX7K1HfV"
      }
    },
    {
      "cell_type": "code",
      "source": [
        "s=0\n",
        "for i in range (3 , 10) :\n",
        "  s+=i\n",
        "\n",
        "print (s)"
      ],
      "metadata": {
        "colab": {
          "base_uri": "https://localhost:8080/"
        },
        "id": "Vf0gQDT-1UGO",
        "outputId": "ac93b07b-9269-4509-fe27-5ae0cd6ec2a8"
      },
      "execution_count": null,
      "outputs": [
        {
          "output_type": "stream",
          "name": "stdout",
          "text": [
            "42\n"
          ]
        }
      ]
    },
    {
      "cell_type": "markdown",
      "source": [
        "# 3."
      ],
      "metadata": {
        "id": "tRoxs1LS2Ub0"
      }
    },
    {
      "cell_type": "markdown",
      "source": [
        "What is the output of this code in Python?\n",
        "\n",
        "      list = [ ' a ' ,  ' b ' ,  ' c ' ,  ' d ' ,  ' e ' ]\n",
        "\n",
        "      print (list [ 1 : ])\n",
        "\n",
        "   (A) [ ]\n",
        "\n",
        "   (B) [ 'b' ]\n",
        "\n",
        "   (C) [ 'a' ,  'b' ]\n",
        "   \n",
        "   (D) [ 'b' ,  'c' ,  'd' ,  'e' ]"
      ],
      "metadata": {
        "id": "_cJ1hT9M2Ylc"
      }
    },
    {
      "cell_type": "markdown",
      "source": [
        "# Answer:\n",
        "\n",
        "**D**"
      ],
      "metadata": {
        "id": "f-C9uy252hvl"
      }
    },
    {
      "cell_type": "code",
      "source": [
        "list = [ ' a ' ,  ' b ' ,  ' c ' ,  ' d ' ,  ' e ' ]\n",
        "\n",
        "print (list [ 1 : ])"
      ],
      "metadata": {
        "colab": {
          "base_uri": "https://localhost:8080/"
        },
        "id": "DVayHwTV3HsU",
        "outputId": "1350ac1c-a6ea-42f6-e1d4-75404e1f40aa"
      },
      "execution_count": null,
      "outputs": [
        {
          "output_type": "stream",
          "name": "stdout",
          "text": [
            "[' b ', ' c ', ' d ', ' e ']\n"
          ]
        }
      ]
    },
    {
      "cell_type": "markdown",
      "source": [
        "# 4."
      ],
      "metadata": {
        "id": "AU7buRKQ3SY9"
      }
    },
    {
      "cell_type": "markdown",
      "source": [
        "What is the output of this code in Python?\n",
        "\n",
        "        L1 = [ ]\n",
        "\n",
        "        L1.append ( [1, [2, 3], 4] )\n",
        "\n",
        "        L1.extend ( [7, 8, 9] )\n",
        "\n",
        "        print(L1[0][1][1] + L1[2] )\n",
        "\n",
        "   (A) 3\n",
        "\n",
        "  (B) 8 \n",
        "\n",
        "(C) 11\n",
        "\n",
        "(D) 38\n",
        "\n",
        "(E) None of these\n"
      ],
      "metadata": {
        "id": "oFKQYHDC3YK1"
      }
    },
    {
      "cell_type": "markdown",
      "source": [
        "# Answer:\n",
        "\n",
        "**C**"
      ],
      "metadata": {
        "id": "0o2X48NU3svb"
      }
    },
    {
      "cell_type": "code",
      "source": [
        "L1 = [ ]\n",
        "L1.append ( [1, [2, 3], 4] )\n",
        "L1.extend ( [7, 8, 9] )\n",
        "print(L1[0][1][1] + L1[2] )"
      ],
      "metadata": {
        "colab": {
          "base_uri": "https://localhost:8080/"
        },
        "id": "FCctb9k-3R79",
        "outputId": "d76c2677-d9ae-4a30-8317-0f10d79c6c51"
      },
      "execution_count": null,
      "outputs": [
        {
          "output_type": "stream",
          "name": "stdout",
          "text": [
            "11\n"
          ]
        }
      ]
    },
    {
      "cell_type": "markdown",
      "source": [
        "# 5.\n"
      ],
      "metadata": {
        "id": "gsrfKpfl4D-d"
      }
    },
    {
      "cell_type": "markdown",
      "source": [
        "What is the output of this code in python?\n",
        "\n",
        "        r = lambda q: q * 2\n",
        "\n",
        "        s = lambda q: q * 3\n",
        "\n",
        "        x = 2\n",
        "\n",
        "        x = r (x)\n",
        "\n",
        "        x = s (x)\n",
        "\n",
        "        x = r (x)\n",
        "\n",
        "        print (x)\n",
        "\n",
        "   (A) 2\n",
        "\n",
        "     \n",
        "  (B) 4\n",
        "\n",
        "  (C) 6\n",
        "\n",
        "  (D) 12\n",
        "\n",
        "  (E) 24\n"
      ],
      "metadata": {
        "id": "9-f8X_-Y4H2N"
      }
    },
    {
      "cell_type": "markdown",
      "source": [
        "# Answer:\n",
        "\n",
        "**E**\n"
      ],
      "metadata": {
        "id": "WXS5A2an4WIl"
      }
    },
    {
      "cell_type": "code",
      "source": [
        "r = lambda q: q * 2\n",
        "s = lambda q: q * 3\n",
        "x = 2\n",
        "x = r (x)\n",
        "x = s (x)\n",
        "x = r (x)\n",
        "print (x)"
      ],
      "metadata": {
        "colab": {
          "base_uri": "https://localhost:8080/"
        },
        "id": "634dd6Bc4U79",
        "outputId": "26d2aabc-c932-40d6-cdf3-f2f9c82fa111"
      },
      "execution_count": null,
      "outputs": [
        {
          "output_type": "stream",
          "name": "stdout",
          "text": [
            "24\n"
          ]
        }
      ]
    },
    {
      "cell_type": "markdown",
      "source": [
        "# 6."
      ],
      "metadata": {
        "id": "UO0GbWE24sVN"
      }
    },
    {
      "cell_type": "markdown",
      "source": [
        "Which of the following conditions correctly describes the output of this code in  Python?\n",
        "\n",
        "         first = [1 , 2 , 3 , 4 , 5]\n",
        "\n",
        "         second = first\n",
        "\n",
        "         second.append (6)\n",
        "\n",
        "         print (first)\n",
        "\n",
        "         print (second)\n",
        "\n",
        "   (A) first=[1, 2, 3, 4, 5], second=[1, 2, 3, 4, 5, 6]\n",
        "\n",
        "   (B) first=[1, 2, 3, 4, 5, 6], second=[1, 2, 3, 4, 5]\n",
        "\n",
        "   (C) first=[1, 2, 3, 4, 5], second=[1, 2, 3, 4, 5]\n",
        "\n",
        "   (D) first=[1, 2, 3, 4, 5, 6], second=[1, 2, 3, 4, 5, 6]\n",
        "   \n",
        "   (E) None of these"
      ],
      "metadata": {
        "id": "HDwrSQDx47Z-"
      }
    },
    {
      "cell_type": "markdown",
      "source": [
        "# Answer:\n",
        "\n",
        "**D**"
      ],
      "metadata": {
        "id": "YmyBn6W35CeF"
      }
    },
    {
      "cell_type": "code",
      "source": [
        "first = [1 , 2 , 3 , 4 , 5]\n",
        "second = first\n",
        "second.append (6)\n",
        "print (first)\n",
        "print (second)"
      ],
      "metadata": {
        "colab": {
          "base_uri": "https://localhost:8080/"
        },
        "id": "2PAeVLM65FFO",
        "outputId": "60268e42-7ae6-4183-83f9-da05637ef978"
      },
      "execution_count": null,
      "outputs": [
        {
          "output_type": "stream",
          "name": "stdout",
          "text": [
            "[1, 2, 3, 4, 5, 6]\n",
            "[1, 2, 3, 4, 5, 6]\n"
          ]
        }
      ]
    },
    {
      "cell_type": "markdown",
      "source": [
        "# 7."
      ],
      "metadata": {
        "id": "U2lO-7Gv5QiP"
      }
    },
    {
      "cell_type": "markdown",
      "source": [
        "If the function \n",
        "\n",
        "int volume (int x = 1, int y = 1, int z = 1);\n",
        "\n",
        "is called by the expression volume (7,8), \n",
        "\n",
        "how many default arguments are used?\n",
        "\n",
        "(A) None\n",
        "\n",
        "(B) One\n",
        "\n",
        "(C) Two\n",
        "\n",
        "(D) Three\n",
        "\n",
        "(E) It depends on the runtime environment."
      ],
      "metadata": {
        "id": "7W9FhWxJ5Tj9"
      }
    },
    {
      "cell_type": "markdown",
      "source": [
        "# Answer:\n",
        "\n",
        "**D**"
      ],
      "metadata": {
        "id": "q6KmniGm5dBe"
      }
    },
    {
      "cell_type": "markdown",
      "source": [
        "# Reading comprehension:What is the output of this code in Python?"
      ],
      "metadata": {
        "id": "NN8jBMcz8YVm"
      }
    },
    {
      "cell_type": "markdown",
      "source": [
        "# B1.What is the output of this code in Python? explain it."
      ],
      "metadata": {
        "id": "iCNgnqIl8bvl"
      }
    },
    {
      "cell_type": "markdown",
      "source": [
        "\n",
        "\n",
        "```\n",
        "# This is formatted as code\n",
        "\n",
        "# primes.py\n",
        "primes = []  # this will contain the primes at the end\n",
        "upto = 100  # the limit, inclusive\n",
        "for n in range(2, upto + 1):\n",
        "    is_prime = True  # flag, new at each iteration of outer for\n",
        "    for divisor in range(2, n):\n",
        "        if n % divisor == 0:\n",
        "            is_prime = False\n",
        "            break\n",
        "    if is_prime:  # check on flag\n",
        "        primes.append(n)\n",
        "print(primes)\n",
        "```"
      ],
      "metadata": {
        "id": "IduS4aHKGe4P"
      }
    },
    {
      "cell_type": "markdown",
      "source": [
        "# Answer:\n",
        "\n"
      ],
      "metadata": {
        "id": "iCflhgU-GR7N"
      }
    },
    {
      "cell_type": "code",
      "source": [
        "# primes.py\n",
        "primes = []  # this will contain the primes at the end\n",
        "upto = 100  # the limit, inclusive\n",
        "for n in range(2, upto + 1): \n",
        "    is_prime = True  # flag, new at each iteration of outer for\n",
        "    for divisor in range(2, n):\n",
        "        if n % divisor == 0:\n",
        "            is_prime = False\n",
        "            break\n",
        "    if is_prime:  # check on flag\n",
        "        primes.append(n) \n",
        "print(primes)"
      ],
      "metadata": {
        "colab": {
          "base_uri": "https://localhost:8080/"
        },
        "id": "AzmpHILZ9YKu",
        "outputId": "0ed74929-3a9a-4715-f31f-2db172b1cd9e"
      },
      "execution_count": null,
      "outputs": [
        {
          "output_type": "stream",
          "name": "stdout",
          "text": [
            "[2, 3, 5, 7, 11, 13, 17, 19, 23, 29, 31, 37, 41, 43, 47, 53, 59, 61, 67, 71, 73, 79, 83, 89, 97]\n"
          ]
        }
      ]
    },
    {
      "cell_type": "markdown",
      "source": [
        "# Explanation:"
      ],
      "metadata": {
        "id": "ZvbhfC-q-p0h"
      }
    },
    {
      "cell_type": "code",
      "source": [
        "# primes.py\n",
        "    primes = []  # primes will contaian in the end\n",
        "    upto = 100  # the inclusive limit \n",
        "    for n in range(2, upto + 1): # repeat an action a specific number of times  upto + 1 \n",
        "        is_prime = True  # if factor is found, set flag to True\n",
        "        for divisor in range(2, n): # repeat an action a specific number of times\n",
        "            if n % divisor == 0: #  zero values are false\n",
        "                is_prime = False  # if factor is found, set flag to False\n",
        "                break # break out of loop\n",
        "        if is_prime:  # check on flag\n",
        "            primes.append(n) # is_prime is true then it will append in the list\n",
        "    print(primes) # print prime numbers"
      ],
      "metadata": {
        "id": "G6f0hikN5TZh"
      },
      "execution_count": null,
      "outputs": []
    },
    {
      "cell_type": "markdown",
      "source": [
        "# B2.What is the output of this code in Python? explain it."
      ],
      "metadata": {
        "id": "heHP-Juf9mjN"
      }
    },
    {
      "cell_type": "markdown",
      "source": [
        "\n",
        "\n",
        "```\n",
        "# This is formatted as code\n",
        "# primes.else.py\n",
        "primes = []\n",
        "upto = 100\n",
        "for n in range(2, upto + 1):\n",
        "    for divisor in range(2, n):\n",
        "        if n % divisor == 0:\n",
        "            break\n",
        "    else:\n",
        "        primes.append(n)\n",
        "print(primes)\n",
        "```\n",
        "\n"
      ],
      "metadata": {
        "id": "Dju9JQaO4pUg"
      }
    },
    {
      "cell_type": "markdown",
      "source": [
        "# Answer:"
      ],
      "metadata": {
        "id": "mJCkyRnR4wlU"
      }
    },
    {
      "cell_type": "code",
      "source": [
        "# primes.else.py\n",
        "primes = []\n",
        "upto = 100\n",
        "for n in range(2, upto + 1):\n",
        "    for divisor in range(2, n):\n",
        "        if n % divisor == 0:\n",
        "            break\n",
        "    else:\n",
        "        primes.append(n)\n",
        "print(primes)"
      ],
      "metadata": {
        "colab": {
          "base_uri": "https://localhost:8080/"
        },
        "id": "WtuCFKVY9pB9",
        "outputId": "dcc9a720-c5de-4f08-9653-837c24c86dba"
      },
      "execution_count": null,
      "outputs": [
        {
          "output_type": "stream",
          "name": "stdout",
          "text": [
            "[2, 3, 5, 7, 11, 13, 17, 19, 23, 29, 31, 37, 41, 43, 47, 53, 59, 61, 67, 71, 73, 79, 83, 89, 97]\n"
          ]
        }
      ]
    },
    {
      "cell_type": "markdown",
      "source": [
        "# Explanation:"
      ],
      "metadata": {
        "id": "IwICJmC443mU"
      }
    },
    {
      "cell_type": "code",
      "source": [
        "# primes.else.py\n",
        "primes = [] # primes will contaian in the end\n",
        "upto = 100 # the inclusive limit\n",
        "for n in range(2, upto + 1): # repeat an action  a specific number of times  upto + 1 \n",
        "    for divisor in range(2, n): # repeat an action a specific number of times\n",
        "        if n % divisor == 0: #  zero values are false\n",
        "            break# break out of loop\n",
        "    else: # flag is true \n",
        "        primes.append(n)  # is_prime is true then it will append in the list\n",
        "print(primes) # print prime numbers "
      ],
      "metadata": {
        "id": "4eDhQ9B76P47"
      },
      "execution_count": null,
      "outputs": []
    },
    {
      "cell_type": "markdown",
      "source": [
        "# B3.What is the output of this code in Python?explain it."
      ],
      "metadata": {
        "id": "VvDv2X349tPP"
      }
    },
    {
      "cell_type": "markdown",
      "source": [
        "\n",
        "\n",
        "```\n",
        "# This is formatted as \n",
        "\n",
        "cubes = [x**3 for x in range(1,6)]\n",
        "print(cubes\n",
        "```\n",
        "\n"
      ],
      "metadata": {
        "id": "BrAs0b97IoB2"
      }
    },
    {
      "cell_type": "markdown",
      "source": [
        "# Answer:"
      ],
      "metadata": {
        "id": "GvLuDb3IIM3k"
      }
    },
    {
      "cell_type": "code",
      "source": [
        "cubes = [x**3 for x in range(1,6)]\n",
        "print(cubes)"
      ],
      "metadata": {
        "colab": {
          "base_uri": "https://localhost:8080/"
        },
        "id": "YZzD7W8h9szk",
        "outputId": "3eab68ef-53a2-4100-f621-6f7f6d52ae9a"
      },
      "execution_count": null,
      "outputs": [
        {
          "output_type": "stream",
          "name": "stdout",
          "text": [
            "[1, 8, 27, 64, 125]\n"
          ]
        }
      ]
    },
    {
      "cell_type": "markdown",
      "source": [
        "# Explanation:\n",
        "\n",
        "range(1,6) == > 1,2,3,4,5\n",
        "\n",
        "[x**3 for x in range(1,6)] ==> [1**3 , 2**3 , ...., 5**3]\n",
        "\n",
        "2**3 = 8"
      ],
      "metadata": {
        "id": "PYDlgjG5ISoz"
      }
    },
    {
      "cell_type": "markdown",
      "source": [
        "# Programming Python"
      ],
      "metadata": {
        "id": "OtanJvNCAT1t"
      }
    },
    {
      "cell_type": "markdown",
      "source": [
        "The Fibonacci numbers may be defined by the recurrence relation\n",
        "\n",
        " F_{0}=0, F_{1}=1\n",
        "\n",
        "and\n",
        "\n",
        "F_{n} = F_{n-1} + F_{n-2}   for n > 1.\n",
        "\n",
        "\n",
        "0,1,1,2,3,5,8,......\n",
        "\n",
        "\n",
        "Under some older definitions, the value  F_{0}=0 is omitted,\n",
        "\n",
        "so that the sequence starts with F_{1}=F_{2}=1 and \n",
        "\n",
        "the recurrence F_{n}=F_{n-1}+F_{n-2} is valid for n > 2\n",
        "\n",
        "\n",
        "(1)Write a Python function/Program to Find Fibonacci Numbers using Recursion\n",
        "\n",
        "(2)use iterative Approach To Find the nth Term Of Fibonacci Sequence(You need\n",
        " to write a function using loop)\n",
        " "
      ],
      "metadata": {
        "id": "xGzLWmW0ALkm"
      }
    },
    {
      "cell_type": "code",
      "source": [
        "# Python program to display the Fibonacci sequence\n",
        "\n",
        "def recur_fibo(n):\n",
        "   if n <= 1:\n",
        "       return n\n",
        "   else:\n",
        "       return(recur_fibo(n-1) + recur_fibo(n-2))\n",
        "\n",
        "nterms = 18\n",
        "\n",
        "# check if the number of terms is valid\n",
        "if nterms <= 0:\n",
        "   print(\"Plese enter a positive integer\")\n",
        "else:\n",
        "   print(\"Fibonacci sequence:\")\n",
        "   for i in range(nterms):\n",
        "       print(recur_fibo(i))\n"
      ],
      "metadata": {
        "colab": {
          "base_uri": "https://localhost:8080/"
        },
        "id": "1CJQp-wyAHVn",
        "outputId": "c4258707-bb8b-45f3-d2d4-bf9348ef92b9"
      },
      "execution_count": null,
      "outputs": [
        {
          "output_type": "stream",
          "name": "stdout",
          "text": [
            "Fibonacci sequence:\n",
            "0\n",
            "1\n",
            "1\n",
            "2\n",
            "3\n",
            "5\n",
            "8\n",
            "13\n",
            "21\n",
            "34\n",
            "55\n",
            "89\n",
            "144\n",
            "233\n",
            "377\n",
            "610\n",
            "987\n",
            "1597\n"
          ]
        }
      ]
    },
    {
      "cell_type": "markdown",
      "source": [
        "# 1.\n"
      ],
      "metadata": {
        "id": "VsRc0hY4_Efp"
      }
    },
    {
      "cell_type": "code",
      "source": [
        "def recur_fibo(n):  \n",
        "   if n <= 1:  \n",
        "       return n  \n",
        "   else:  \n",
        "       return(recur_fibo(n-1) + recur_fibo(n-2))  \n",
        " \n",
        "nterms = 24\n",
        " \n",
        "if nterms <= 0: \n",
        "   print(\"Plese enter a positive integer\")  \n",
        "else:  \n",
        "   print(\"Fibonacci sequence:\")  \n",
        "   for i in range(nterms):  \n",
        "       print(recur_fibo(i))  "
      ],
      "metadata": {
        "colab": {
          "base_uri": "https://localhost:8080/"
        },
        "id": "Bj968pQhFfW5",
        "outputId": "43f1fccc-a43b-4df2-cb81-1f5b3117daa8"
      },
      "execution_count": 5,
      "outputs": [
        {
          "output_type": "stream",
          "name": "stdout",
          "text": [
            "Fibonacci sequence:\n",
            "0\n",
            "1\n",
            "1\n",
            "2\n",
            "3\n",
            "5\n",
            "8\n",
            "13\n",
            "21\n",
            "34\n",
            "55\n",
            "89\n",
            "144\n",
            "233\n",
            "377\n",
            "610\n",
            "987\n",
            "1597\n",
            "2584\n",
            "4181\n",
            "6765\n",
            "10946\n",
            "17711\n",
            "28657\n"
          ]
        }
      ]
    },
    {
      "cell_type": "markdown",
      "source": [
        "# 2."
      ],
      "metadata": {
        "id": "d5axwt2kJW9x"
      }
    },
    {
      "cell_type": "code",
      "source": [
        "def fibonacci(n):\n",
        "    a,b = 0,1\n",
        "    for i in range(n):\n",
        "        a,b = b,a+b\n",
        "    return a\n",
        "\n",
        "print(fibonacci(8))"
      ],
      "metadata": {
        "colab": {
          "base_uri": "https://localhost:8080/"
        },
        "id": "_e1l4WiqJYLC",
        "outputId": "760d176a-c748-4887-9ae7-6d4dcdbd69d1"
      },
      "execution_count": 7,
      "outputs": [
        {
          "output_type": "stream",
          "name": "stdout",
          "text": [
            "21\n"
          ]
        }
      ]
    }
  ]
}
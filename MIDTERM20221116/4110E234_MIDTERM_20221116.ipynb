{
  "cells": [
    {
      "cell_type": "markdown",
      "metadata": {
        "id": "7SYYxntSx2qk"
      },
      "source": [
        "# **Kun Shan University  Computer Science Midterm Exam**\n",
        "\n",
        "# Name: 喬萬斯 SID: 4110E234"
      ]
    },
    {
      "cell_type": "markdown",
      "metadata": {
        "id": "xoNYYNCTy32L"
      },
      "source": [
        "# **4. Unpack a Collection:**\n",
        "**If you have a collection of values in a list, tuple etc. Python allows you to extract the values into variables.**"
      ]
    },
    {
      "cell_type": "markdown",
      "source": [
        "\n",
        "\n",
        "```\n",
        "fruits = [\"apple\", \"banana\", \"cherry\"]\n",
        "x, y, z = fruits\n",
        "print(x)\n",
        "```\n",
        "\n"
      ],
      "metadata": {
        "id": "7Izr1XsRTaJo"
      }
    },
    {
      "cell_type": "markdown",
      "source": [
        "What is the output of this code in Python?\n",
        "\n",
        "(A) apple\n",
        "\n",
        "(B) banana \n",
        "\n",
        "(C) cherry  \n",
        "\n",
        "(D) [\"apple\", \"banana\", \"cherry\"]"
      ],
      "metadata": {
        "id": "hied_1YnThwa"
      }
    },
    {
      "cell_type": "code",
      "execution_count": null,
      "metadata": {
        "colab": {
          "base_uri": "https://localhost:8080/"
        },
        "id": "qRtbWllo0LQ6",
        "outputId": "23b91267-2b82-4f16-81a0-94cd1c0ed264"
      },
      "outputs": [
        {
          "name": "stdout",
          "output_type": "stream",
          "text": [
            "apple\n"
          ]
        }
      ],
      "source": [
        "fruits = [\"apple\", \"banana\", \"cherry\"]\n",
        "x, y, z = fruits\n",
        "print(x)"
      ]
    },
    {
      "cell_type": "markdown",
      "metadata": {
        "id": "Fqxg2gKF1T78"
      },
      "source": [
        "# ANSWER :(A) apple"
      ]
    },
    {
      "cell_type": "markdown",
      "metadata": {
        "id": "2gtyrUqeyPq9"
      },
      "source": [
        "# **5. Which following is the correct way to create a dictionary in Python?**\n"
      ]
    },
    {
      "cell_type": "markdown",
      "source": [
        "\n",
        "\n",
        "```\n",
        "(A) students = { 'name' => 'alice' ;  'score' =>60 }\n",
        "\n",
        "(B) students = { 'name' = 'alice' ;  'score' =60 }\n",
        "\n",
        "(C) students = { 'name' : 'alice' ;  'score' : 60 }\n",
        "\n",
        "(D) students = { 'name' => 'alice' ,  'score' =>60 }\n",
        "\n",
        "(E) students = { 'name' : 'alice' , 'score' : 60 }\n",
        "```\n",
        "\n"
      ],
      "metadata": {
        "id": "j3nY5QVFT6jl"
      }
    },
    {
      "cell_type": "code",
      "execution_count": null,
      "metadata": {
        "colab": {
          "base_uri": "https://localhost:8080/",
          "height": 134
        },
        "id": "74eQBkKlz4Qx",
        "outputId": "24621c78-1f10-4497-c562-d88d09ed6b3d"
      },
      "outputs": [
        {
          "ename": "SyntaxError",
          "evalue": "ignored",
          "output_type": "error",
          "traceback": [
            "\u001b[0;36m  File \u001b[0;32m\"<ipython-input-12-ed12b19b76b9>\"\u001b[0;36m, line \u001b[0;32m1\u001b[0m\n\u001b[0;31m    students = { 'name' => 'alice' ;  'score' =>60 }\u001b[0m\n\u001b[0m                        ^\u001b[0m\n\u001b[0;31mSyntaxError\u001b[0m\u001b[0;31m:\u001b[0m invalid syntax\n"
          ]
        }
      ],
      "source": [
        "students = { 'name' => 'alice' ;  'score' =>60 }"
      ]
    },
    {
      "cell_type": "code",
      "execution_count": null,
      "metadata": {
        "colab": {
          "base_uri": "https://localhost:8080/",
          "height": 134
        },
        "id": "s3u6jAw81gUr",
        "outputId": "4b451426-31a6-4eb4-9766-19530a954cb5"
      },
      "outputs": [
        {
          "ename": "SyntaxError",
          "evalue": "ignored",
          "output_type": "error",
          "traceback": [
            "\u001b[0;36m  File \u001b[0;32m\"<ipython-input-13-2b6d7142b302>\"\u001b[0;36m, line \u001b[0;32m1\u001b[0m\n\u001b[0;31m    students = { 'name' = 'alice' ;  'score' =60 }\u001b[0m\n\u001b[0m                        ^\u001b[0m\n\u001b[0;31mSyntaxError\u001b[0m\u001b[0;31m:\u001b[0m invalid syntax\n"
          ]
        }
      ],
      "source": [
        "students = { 'name' = 'alice' ;  'score' =60 }"
      ]
    },
    {
      "cell_type": "code",
      "execution_count": null,
      "metadata": {
        "colab": {
          "base_uri": "https://localhost:8080/",
          "height": 134
        },
        "id": "4jkn7idL1jm2",
        "outputId": "e58859ba-e7e8-44eb-8001-9d1eb2da78e9"
      },
      "outputs": [
        {
          "ename": "SyntaxError",
          "evalue": "ignored",
          "output_type": "error",
          "traceback": [
            "\u001b[0;36m  File \u001b[0;32m\"<ipython-input-14-a6c06425b6ca>\"\u001b[0;36m, line \u001b[0;32m1\u001b[0m\n\u001b[0;31m    students = { 'name' : 'alice' ;  'score' : 60 }\u001b[0m\n\u001b[0m                                  ^\u001b[0m\n\u001b[0;31mSyntaxError\u001b[0m\u001b[0;31m:\u001b[0m invalid syntax\n"
          ]
        }
      ],
      "source": [
        "students = { 'name' : 'alice' ;  'score' : 60 }"
      ]
    },
    {
      "cell_type": "code",
      "execution_count": null,
      "metadata": {
        "colab": {
          "base_uri": "https://localhost:8080/",
          "height": 134
        },
        "id": "VxkSwEB71wBU",
        "outputId": "ecffd873-ae1c-4335-a99b-897528861e66"
      },
      "outputs": [
        {
          "ename": "SyntaxError",
          "evalue": "ignored",
          "output_type": "error",
          "traceback": [
            "\u001b[0;36m  File \u001b[0;32m\"<ipython-input-15-57cc8b55d372>\"\u001b[0;36m, line \u001b[0;32m1\u001b[0m\n\u001b[0;31m    students = { 'name' => 'alice' ,  'score' =>60 }\u001b[0m\n\u001b[0m                        ^\u001b[0m\n\u001b[0;31mSyntaxError\u001b[0m\u001b[0;31m:\u001b[0m invalid syntax\n"
          ]
        }
      ],
      "source": [
        "students = { 'name' => 'alice' ,  'score' =>60 }"
      ]
    },
    {
      "cell_type": "code",
      "execution_count": null,
      "metadata": {
        "id": "WQKeytr_1xEU"
      },
      "outputs": [],
      "source": [
        "students = { 'name' : 'alice' , 'score' : 60 }"
      ]
    },
    {
      "cell_type": "markdown",
      "metadata": {
        "id": "EzRnOjxT18qe"
      },
      "source": [
        "# The correct way to create a dictionary in Python\n",
        "# ANSWER : (E) students = { 'name' : 'alice' , 'score' : 60 }\n"
      ]
    },
    {
      "cell_type": "markdown",
      "metadata": {
        "id": "lKf0glyN3Zip"
      },
      "source": [
        "# **6. What is the output of this code in Python?**"
      ]
    },
    {
      "cell_type": "markdown",
      "source": [
        "\n",
        "\n",
        "```\n",
        "x = 5\n",
        "y = \"John\"\n",
        "print(x + y) \n",
        "```\n",
        "\n"
      ],
      "metadata": {
        "id": "BrWSFfoTUPMI"
      }
    },
    {
      "cell_type": "markdown",
      "source": [
        "(A) 5 John\n",
        "\n",
        "(B) 5 + John\n",
        "\n",
        "(C) John  \n",
        "\n",
        "(D) Python will give you an error"
      ],
      "metadata": {
        "id": "8IcNDPEWUds1"
      }
    },
    {
      "cell_type": "code",
      "execution_count": null,
      "metadata": {
        "colab": {
          "base_uri": "https://localhost:8080/"
        },
        "id": "HOpc4Odv4hVw",
        "outputId": "87b432b2-27b1-425d-a4aa-27e5152a035b"
      },
      "outputs": [
        {
          "name": "stdout",
          "output_type": "stream",
          "text": [
            "applebanana\n"
          ]
        }
      ],
      "source": [
        "X = 5\n",
        "Y = \"John\"\n",
        "print(x + y)"
      ]
    },
    {
      "cell_type": "markdown",
      "metadata": {
        "id": "Q8T5vfcf5cXt"
      },
      "source": [
        "# ANSWER : (D) Python will give you an error"
      ]
    },
    {
      "cell_type": "markdown",
      "metadata": {
        "id": "L0ldDJTF5ynm"
      },
      "source": [
        "# **7. Which one of the following outputs is wrong?**"
      ]
    },
    {
      "cell_type": "markdown",
      "source": [
        "(A)13//5 output: 2.6\n",
        "\n",
        "(B) 13/5   output: 2.6\n",
        "\n",
        "(C)13%5   output:3  \n",
        "\n",
        "(D)y = int(2.8)  output:2"
      ],
      "metadata": {
        "id": "lmRYh2jlpnSC"
      }
    },
    {
      "cell_type": "code",
      "execution_count": null,
      "metadata": {
        "colab": {
          "background_save": true,
          "base_uri": "https://localhost:8080/",
          "height": 134
        },
        "id": "v29oWWYN6AcY",
        "outputId": "a76b689e-2f16-4364-9f15-e55fa61ebc5a"
      },
      "outputs": [
        {
          "data": {
            "text/plain": [
              "2"
            ]
          },
          "execution_count": 29,
          "metadata": {},
          "output_type": "execute_result"
        }
      ],
      "source": [
        "13//5"
      ]
    },
    {
      "cell_type": "code",
      "execution_count": null,
      "metadata": {
        "colab": {
          "base_uri": "https://localhost:8080/"
        },
        "id": "_Xd0UGYZ6E5A",
        "outputId": "2735bddd-1ab8-4568-c3e8-818e0357eaf7"
      },
      "outputs": [
        {
          "output_type": "execute_result",
          "data": {
            "text/plain": [
              "2.6"
            ]
          },
          "metadata": {},
          "execution_count": 4
        }
      ],
      "source": [
        "13/5"
      ]
    },
    {
      "cell_type": "code",
      "execution_count": null,
      "metadata": {
        "colab": {
          "base_uri": "https://localhost:8080/"
        },
        "id": "U1B78NQh6IeY",
        "outputId": "f90aaadd-aa19-43c0-dad7-74a72014a6d4"
      },
      "outputs": [
        {
          "output_type": "execute_result",
          "data": {
            "text/plain": [
              "3"
            ]
          },
          "metadata": {},
          "execution_count": 3
        }
      ],
      "source": [
        "13%5"
      ]
    },
    {
      "cell_type": "code",
      "execution_count": null,
      "metadata": {
        "id": "0xQzuDct6Khp"
      },
      "outputs": [],
      "source": [
        "y = int(2.8)"
      ]
    },
    {
      "cell_type": "markdown",
      "source": [
        "\n",
        "#ANSWER : (A)13//5 output: 2.6"
      ],
      "metadata": {
        "id": "3YThLRwdqTd2"
      }
    },
    {
      "cell_type": "markdown",
      "source": [
        "#**8. What does the following Python program fragment do?**"
      ],
      "metadata": {
        "id": "lrmLEs9Yre2I"
      }
    },
    {
      "cell_type": "markdown",
      "source": [
        "```\n",
        "s=0\n",
        "for i in range (3,11) :\n",
        "  s+=i\n",
        "print (s)\n",
        "```"
      ],
      "metadata": {
        "id": "o75M609mUyJG"
      }
    },
    {
      "cell_type": "markdown",
      "source": [
        "(A) Calculate the sum of 1+2+…+10\n",
        "\n",
        "(B) Calculate the sum of 1+4+7+10\n",
        "\n",
        "(C) Calculate the sum of 3+4+5+6+…+9\n",
        "\n",
        "(D) Calculate the sum of 3+4+5+6+…+10\n",
        "\n",
        "(E) Calculate the sum of 0+2+4+6+…+10"
      ],
      "metadata": {
        "id": "rSVMkfzsU5BI"
      }
    },
    {
      "cell_type": "code",
      "source": [
        "s=0\n",
        "for i in range (3,11) :\n",
        "  s+=i\n",
        "print (s)"
      ],
      "metadata": {
        "colab": {
          "base_uri": "https://localhost:8080/"
        },
        "id": "07_0qG7zr_bc",
        "outputId": "29add598-f9e5-43ac-8182-7ea3c365cc4d"
      },
      "execution_count": null,
      "outputs": [
        {
          "output_type": "stream",
          "name": "stdout",
          "text": [
            "52\n"
          ]
        }
      ]
    },
    {
      "cell_type": "markdown",
      "source": [
        "# ANSWER :  (D) Calculate the sum of 3+4+5+6+…+10"
      ],
      "metadata": {
        "id": "RjBDy40Nsf6U"
      }
    },
    {
      "cell_type": "markdown",
      "source": [
        "#**9. What is the output of this code in Python?**"
      ],
      "metadata": {
        "id": "6jLveVJjtPXq"
      }
    },
    {
      "cell_type": "code",
      "source": [
        "a = \"Hello, World!\"\n",
        "print(a[2:5]+ a[3:8])"
      ],
      "metadata": {
        "colab": {
          "base_uri": "https://localhost:8080/"
        },
        "id": "UJeRMfS5t2Cp",
        "outputId": "32ed614f-1f36-4eaf-8b3a-1ac7ee207c8b"
      },
      "execution_count": null,
      "outputs": [
        {
          "output_type": "stream",
          "name": "stdout",
          "text": [
            "llolo, W\n"
          ]
        }
      ]
    },
    {
      "cell_type": "markdown",
      "source": [
        "(A)  W llolo,\n",
        "\n",
        "(B)  llolo,Wo\n",
        "\n",
        "(C)  llolo, W\n",
        "\n",
        "(D)  llolo,Wor"
      ],
      "metadata": {
        "id": "obQhgQA7VHEt"
      }
    },
    {
      "cell_type": "markdown",
      "source": [
        "\n",
        "\n",
        "```\n",
        "a = \"Hello, World!\"\n",
        "print(a[2:5]+ a[3:8])\n",
        "```\n",
        "\n"
      ],
      "metadata": {
        "id": "I9JNJl-KVBOZ"
      }
    },
    {
      "cell_type": "markdown",
      "source": [
        "# ANSWER : (C)  llolo, W"
      ],
      "metadata": {
        "id": "hk_vddOTu_tz"
      }
    },
    {
      "cell_type": "markdown",
      "source": [
        "#**11. What is the output of this code in Python?**"
      ],
      "metadata": {
        "id": "Dt8nk4ScvH4C"
      }
    },
    {
      "cell_type": "markdown",
      "source": [
        "\n",
        "\n",
        "```\n",
        "list = [ ' a ' ,  ' b ' ,  ' c ' ,  ' d ' ,  ' e ' ]\n",
        "print (list [ 1 : ])\n",
        "```\n",
        "\n"
      ],
      "metadata": {
        "id": "2ltGyRCIVLzn"
      }
    },
    {
      "cell_type": "markdown",
      "source": [
        "(A) [ ]\n",
        "\n",
        "(B) [ 'b' ]\n",
        "\n",
        "(C) [ 'a' ,  'b' ]"
      ],
      "metadata": {
        "id": "p38NxXHgVT_K"
      }
    },
    {
      "cell_type": "code",
      "source": [
        "list = [ ' a ' ,  ' b ' ,  ' c ' ,  ' d ' ,  ' e ' ]\n",
        "print (list [ 1 : ])"
      ],
      "metadata": {
        "colab": {
          "base_uri": "https://localhost:8080/"
        },
        "id": "7R9y2_Twu_c8",
        "outputId": "ec49d84b-4582-4528-c26c-f7e75606912a"
      },
      "execution_count": null,
      "outputs": [
        {
          "output_type": "stream",
          "name": "stdout",
          "text": [
            "[' b ', ' c ', ' d ', ' e ']\n"
          ]
        }
      ]
    },
    {
      "cell_type": "markdown",
      "source": [
        "#ANSWER : (D) [ 'b' ,  'c' ,  'd' ,  'e' ]"
      ],
      "metadata": {
        "id": "H-pjt9v-6TSE"
      }
    },
    {
      "cell_type": "markdown",
      "source": [
        "#**12. What is the output of this code in Python?**"
      ],
      "metadata": {
        "id": "nV01aKcr6YDH"
      }
    },
    {
      "cell_type": "markdown",
      "source": [
        "\n",
        "\n",
        "```\n",
        "L1 = [ ]\n",
        "L1.append ( [1, [2, 3], 4] )\n",
        "L1.extend ( [7, 8, 9] )\n",
        "print(L1[0][1][1] + L1[2] )\n",
        "```\n",
        "\n"
      ],
      "metadata": {
        "id": "y0hcrXce9zZP"
      }
    },
    {
      "cell_type": "markdown",
      "source": [
        "(A) 3\n",
        "\n",
        "(B) 8\n",
        "\n",
        "(C) 11\n",
        "\n",
        "(D) 38\n",
        "\n",
        "(E) None of these"
      ],
      "metadata": {
        "id": "2tugGRGN9l9A"
      }
    },
    {
      "cell_type": "code",
      "source": [
        "L1 = [ ]\n",
        "L1.append ( [1, [2, 3], 4] )\n",
        "L1.extend ( [7, 8, 9] )\n",
        "print(L1[0][1][1] + L1[2] )"
      ],
      "metadata": {
        "colab": {
          "base_uri": "https://localhost:8080/"
        },
        "id": "YMvazOu96eSA",
        "outputId": "1fe7a3af-036e-4ff3-efa3-9fdacf30db04"
      },
      "execution_count": null,
      "outputs": [
        {
          "output_type": "stream",
          "name": "stdout",
          "text": [
            "11\n"
          ]
        }
      ]
    },
    {
      "cell_type": "markdown",
      "source": [
        "# ANSWER : (C) 11"
      ],
      "metadata": {
        "id": "MkFhU2Md6oRQ"
      }
    },
    {
      "cell_type": "markdown",
      "source": [
        "#**13. Check if \"free\" is present in the following text**\n"
      ],
      "metadata": {
        "id": "XZh8BfVu6sPR"
      }
    },
    {
      "cell_type": "markdown",
      "source": [
        "\n",
        "\n",
        "```\n",
        "txt = \"The best things in life are free!\"\n",
        "print(\"free\"______txt)\n",
        "```\n",
        "\n"
      ],
      "metadata": {
        "id": "YGsIiRhM9CAw"
      }
    },
    {
      "cell_type": "markdown",
      "source": [
        "Which is the correct answer?\n",
        "\n",
        "(A) on\n",
        "\n",
        "(B) with\n",
        "\n",
        "(C) at\n",
        "\n",
        "(D) in"
      ],
      "metadata": {
        "id": "43tvmZaf8vRo"
      }
    },
    {
      "cell_type": "code",
      "source": [
        "txt = \"The best things in life are free!\"\n",
        "print(\"free\" in txt)"
      ],
      "metadata": {
        "colab": {
          "base_uri": "https://localhost:8080/"
        },
        "id": "_NdRw_vI7r1o",
        "outputId": "56f4e784-ed74-4515-d340-40763ebafdbb"
      },
      "execution_count": null,
      "outputs": [
        {
          "output_type": "stream",
          "name": "stdout",
          "text": [
            "True\n"
          ]
        }
      ]
    },
    {
      "cell_type": "markdown",
      "source": [
        "# ANSWER : (D) in"
      ],
      "metadata": {
        "id": "gOEuHmF29WIx"
      }
    },
    {
      "cell_type": "markdown",
      "source": [
        "#**14. Which of the following conditions correctly describes the output of this code in  Python?**"
      ],
      "metadata": {
        "id": "b0yAh-M2-BQH"
      }
    },
    {
      "cell_type": "markdown",
      "source": [
        "\n",
        "\n",
        "```\n",
        "first = [1 , 2 , 3 , 4 , 5]\n",
        "second = first\n",
        "second.append (6)\n",
        "print (first)\n",
        "print (second)\n",
        "```\n",
        "\n"
      ],
      "metadata": {
        "id": "RmLkUzq0-LdY"
      }
    },
    {
      "cell_type": "markdown",
      "source": [
        "(A) first=[1, 2, 3, 4, 5], second=[1, 2, 3, 4, 5, 6]\n",
        "\n",
        "(B) first=[1, 2, 3, 4, 5, 6], second=[1, 2, 3, 4, 5]\n",
        "\n",
        "(C) first=[1, 2, 3, 4, 5], second=[1, 2, 3, 4, 5]\n",
        "\n",
        "(D) first=[1, 2, 3, 4, 5, 6], second=[1, 2, 3, 4, 5, 6]\n",
        "\n",
        "(E) None of these"
      ],
      "metadata": {
        "id": "iaMvn_OH-XPw"
      }
    },
    {
      "cell_type": "code",
      "source": [
        "first = [1 , 2 , 3 , 4 , 5]\n",
        "second = first\n",
        "second.append (6)\n",
        "print (first)\n",
        "print (second)"
      ],
      "metadata": {
        "colab": {
          "base_uri": "https://localhost:8080/"
        },
        "id": "1_g7q9ql-dDr",
        "outputId": "9809c58b-562f-4de6-e914-9d3b51907798"
      },
      "execution_count": null,
      "outputs": [
        {
          "output_type": "stream",
          "name": "stdout",
          "text": [
            "[1, 2, 3, 4, 5, 6]\n",
            "[1, 2, 3, 4, 5, 6]\n"
          ]
        }
      ]
    },
    {
      "cell_type": "markdown",
      "source": [
        "# ANSWER : (D) first=[1, 2, 3, 4, 5, 6], second=[1, 2, 3, 4, 5, 6]"
      ],
      "metadata": {
        "id": "JKaaK1sS-s7x"
      }
    },
    {
      "cell_type": "markdown",
      "source": [
        "#**18. Which one of the codes will output**"
      ],
      "metadata": {
        "id": "liJEuV7x-3kY"
      }
    },
    {
      "cell_type": "markdown",
      "source": [
        "\n",
        "\n",
        "```\n",
        "['apple', 'orange', 'banana', 'cherry']  ?\n",
        "\n",
        "mylist = [\"apple\", \"banana\", \"cherry\"]\n",
        "\n",
        "print(mylist)\n",
        "```\n",
        "\n"
      ],
      "metadata": {
        "id": "_Mxpwcb2EgF3"
      }
    },
    {
      "cell_type": "markdown",
      "source": [
        "(A)mylist.append(\"orange\")\n",
        "\n",
        "(B)mylist.insert(0, \"orange\")\n",
        "\n",
        "(C)mylist.insert(1, \"orange\")   \n",
        "\n",
        "(D)mylist.insert(2, \"orange\")"
      ],
      "metadata": {
        "id": "yRzBau7aEqVn"
      }
    },
    {
      "cell_type": "code",
      "source": [
        "['apple', 'orange', 'banana', 'cherry']\n",
        "mylist = [\"apple\", \"banana\", \"cherry\"]\n",
        "mylist.insert(1, \"orange\")  \n",
        "print(mylist)"
      ],
      "metadata": {
        "colab": {
          "base_uri": "https://localhost:8080/"
        },
        "id": "WAyI9X27Es9f",
        "outputId": "eddc5cf5-8ed6-42f3-af96-aa705a8cedc7"
      },
      "execution_count": null,
      "outputs": [
        {
          "output_type": "stream",
          "name": "stdout",
          "text": [
            "['apple', 'orange', 'banana', 'cherry']\n"
          ]
        }
      ]
    },
    {
      "cell_type": "markdown",
      "source": [
        "# ANSWER : (C)mylist.insert(1, \"orange\")  "
      ],
      "metadata": {
        "id": "r014X4euFfny"
      }
    },
    {
      "cell_type": "markdown",
      "source": [
        "#**21. What is the output of this code in Python?**"
      ],
      "metadata": {
        "id": "Y4qn_tkCMVpv"
      }
    },
    {
      "cell_type": "markdown",
      "source": [
        "\n",
        "\n",
        "```\n",
        "i = 1\n",
        "while i < 6:\n",
        "  print(i)\n",
        "  if (i == 3):\n",
        "    break\n",
        "  i += 1\n",
        "```\n",
        "\n"
      ],
      "metadata": {
        "id": "y76tzbthMdK5"
      }
    },
    {
      "cell_type": "markdown",
      "source": [
        "(A)\n",
        "\n",
        "1 \n",
        "\n",
        "2 \n",
        "\n",
        "3 \n",
        "\n",
        "(B)\n",
        "\n",
        "1\n",
        "\n",
        "2\n",
        "\n",
        "4\n",
        "\n",
        "5\n",
        "\n",
        "6\n",
        "\n",
        "(C)\n",
        "\n",
        "1\n",
        "\n",
        "2\n",
        "\n",
        "3\n",
        "\n",
        "4\n",
        "\n",
        "5\n",
        "\n",
        "6\n",
        "\n",
        "(D)\n",
        "\n",
        "4\n",
        "\n",
        "5\n",
        "\n",
        "6\n",
        "\n",
        "\n",
        "\n",
        "\n",
        "\n"
      ],
      "metadata": {
        "id": "GupFKiiKMjhX"
      }
    },
    {
      "cell_type": "code",
      "source": [
        "i = 1\n",
        "while i < 6:\n",
        "  print(i)\n",
        "  if (i == 3):\n",
        "    break\n",
        "  i += 1"
      ],
      "metadata": {
        "colab": {
          "base_uri": "https://localhost:8080/"
        },
        "id": "JxLZG7h_NkA1",
        "outputId": "564c7736-8479-4102-ac66-a4fdd5e874ae"
      },
      "execution_count": null,
      "outputs": [
        {
          "output_type": "stream",
          "name": "stdout",
          "text": [
            "1\n",
            "2\n",
            "3\n"
          ]
        }
      ]
    },
    {
      "cell_type": "markdown",
      "source": [
        "# ANSWER : (A) 1 2 3"
      ],
      "metadata": {
        "id": "zDJxnVZAOmA2"
      }
    },
    {
      "cell_type": "markdown",
      "source": [
        "#**22. What is the output of this code in Python?**"
      ],
      "metadata": {
        "id": "UGNkMzPlOxpo"
      }
    },
    {
      "cell_type": "markdown",
      "source": [
        "\n",
        "\n",
        "```\n",
        "i = 0\n",
        "while i < 6:\n",
        "  i += 1\n",
        "  if i == 3:\n",
        "    continue\n",
        "  print(i)\n",
        "```\n",
        "\n"
      ],
      "metadata": {
        "id": "ZbQMBaWKO4y-"
      }
    },
    {
      "cell_type": "markdown",
      "source": [
        "(A)\n",
        "\n",
        "1 \n",
        "\n",
        "2 \n",
        "\n",
        "3 \n",
        "\n",
        "(B)\n",
        "\n",
        "1\n",
        "\n",
        "2\n",
        "\n",
        "4\n",
        "\n",
        "5\n",
        "\n",
        "6\n",
        "\n",
        "(C)\n",
        "\n",
        "1\n",
        "\n",
        "2\n",
        "\n",
        "3\n",
        "\n",
        "4\n",
        "\n",
        "5\n",
        "\n",
        "6\n",
        "\n",
        "(D)\n",
        "\n",
        "4\n",
        "\n",
        "5\n",
        "\n",
        "6"
      ],
      "metadata": {
        "id": "Rl-tJmojPG_u"
      }
    },
    {
      "cell_type": "code",
      "source": [
        "i = 0\n",
        "while i < 6:\n",
        "  i += 1\n",
        "  if i == 3:\n",
        "    continue\n",
        "  print(i)"
      ],
      "metadata": {
        "colab": {
          "base_uri": "https://localhost:8080/"
        },
        "id": "RufAsUT-Olyi",
        "outputId": "5c2ac465-f3f0-44c5-e1a9-22948e2a4712"
      },
      "execution_count": null,
      "outputs": [
        {
          "output_type": "stream",
          "name": "stdout",
          "text": [
            "1\n",
            "2\n",
            "4\n",
            "5\n",
            "6\n"
          ]
        }
      ]
    },
    {
      "cell_type": "markdown",
      "source": [
        "# ANSWER : (B) 1 2 4 5 6"
      ],
      "metadata": {
        "id": "gp3slfGbPSQZ"
      }
    },
    {
      "cell_type": "markdown",
      "source": [
        "#**24. What is the output of this code in python?**"
      ],
      "metadata": {
        "id": "gidH-5wLPigv"
      }
    },
    {
      "cell_type": "markdown",
      "source": [
        "\n",
        "\n",
        "```\n",
        "r = lambda q: q * 2\n",
        "s = lambda q: q * 3\n",
        "x = 2\n",
        "x = r (x)\n",
        "x = s (x)\n",
        "x = r (x)\n",
        "print (x)\n",
        "\n",
        "```\n",
        "\n"
      ],
      "metadata": {
        "id": "KvwW4vUqP2bw"
      }
    },
    {
      "cell_type": "markdown",
      "source": [
        "(A) 2\n",
        "\n",
        "(B) 4\n",
        "\n",
        "(C) 6\n",
        "\n",
        "(D) 12\n",
        "\n",
        "(E) 24"
      ],
      "metadata": {
        "id": "LzPkD_gWQKTu"
      }
    },
    {
      "cell_type": "code",
      "source": [
        "r = lambda q: q * 2\n",
        "s = lambda q: q * 3\n",
        "x = 2\n",
        "x = r (x)\n",
        "x = s (x)\n",
        "x = r (x)\n",
        "print (x)"
      ],
      "metadata": {
        "colab": {
          "base_uri": "https://localhost:8080/"
        },
        "id": "1eWCjrRKPiFf",
        "outputId": "f228b14a-9474-49df-fb5d-4b77cc62d56b"
      },
      "execution_count": null,
      "outputs": [
        {
          "output_type": "stream",
          "name": "stdout",
          "text": [
            "24\n"
          ]
        }
      ]
    },
    {
      "cell_type": "markdown",
      "source": [
        "# ANSWER : (E) 24"
      ],
      "metadata": {
        "id": "npircXMxQaZJ"
      }
    },
    {
      "cell_type": "markdown",
      "source": [
        "#**25. A recursive function is defined as below:**"
      ],
      "metadata": {
        "id": "g0W9bSxkQin3"
      }
    },
    {
      "cell_type": "markdown",
      "source": [
        "```\n",
        "def tri_recursion(k):\n",
        "  if(k > 0):\n",
        "    result = k + tri_recursion(k - 1)\n",
        "    print(result)\n",
        "  else:\n",
        "    result = 0\n",
        "```"
      ],
      "metadata": {
        "id": "ajJMEwnfQpeC"
      }
    },
    {
      "cell_type": "markdown",
      "source": [
        "What Is The Last Line Of The Output When tri_recursion(6) is executed? \n",
        "\n",
        "(A) 6  \n",
        "\n",
        "(B) 10  \n",
        "\n",
        "(C) 15  \n",
        "\n",
        "(D) 21\n",
        "\n",
        "(E) 28"
      ],
      "metadata": {
        "id": "YEyILa0kQv2G"
      }
    },
    {
      "cell_type": "code",
      "source": [
        "def tri_recursion(k):\n",
        "  if(k > 0):\n",
        "    result = k + tri_recursion(k - 1)\n",
        "    print(result)\n",
        "  else:\n",
        "    result = 0\n",
        "  return result\n",
        "\n",
        "print(\"\\n\\nRecursion  Results\")\n",
        "tri_recursion(6)"
      ],
      "metadata": {
        "colab": {
          "base_uri": "https://localhost:8080/"
        },
        "id": "ygL1L53nS9NA",
        "outputId": "30abf5d2-9739-4d91-8008-b140646d0e17"
      },
      "execution_count": 33,
      "outputs": [
        {
          "output_type": "stream",
          "name": "stdout",
          "text": [
            "\n",
            "\n",
            "Recursion  Results\n",
            "1\n",
            "3\n",
            "6\n",
            "10\n",
            "15\n",
            "21\n"
          ]
        },
        {
          "output_type": "execute_result",
          "data": {
            "text/plain": [
              "21"
            ]
          },
          "metadata": {},
          "execution_count": 33
        }
      ]
    },
    {
      "cell_type": "markdown",
      "source": [
        "ANSWER : (D) 21"
      ],
      "metadata": {
        "id": "E8-pVOMPTEYf"
      }
    }
  ],
  "metadata": {
    "colab": {
      "provenance": [],
      "collapsed_sections": [
        "3YThLRwdqTd2",
        "RjBDy40Nsf6U",
        "hk_vddOTu_tz",
        "H-pjt9v-6TSE",
        "MkFhU2Md6oRQ",
        "gOEuHmF29WIx",
        "JKaaK1sS-s7x",
        "r014X4euFfny",
        "zDJxnVZAOmA2",
        "gp3slfGbPSQZ",
        "npircXMxQaZJ"
      ]
    },
    "kernelspec": {
      "display_name": "Python 3",
      "name": "python3"
    },
    "language_info": {
      "name": "python"
    }
  },
  "nbformat": 4,
  "nbformat_minor": 0
}
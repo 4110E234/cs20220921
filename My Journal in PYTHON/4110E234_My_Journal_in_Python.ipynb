{
  "nbformat": 4,
  "nbformat_minor": 0,
  "metadata": {
    "colab": {
      "provenance": [],
      "collapsed_sections": [
        "G-e1xNeNtCSD",
        "bxIuxhdHwQQB",
        "aZMfuvqP1Qc3",
        "4vZKbPoC65Kh",
        "SfGwZrC6_hvq",
        "F0P5eDrXiN-Y"
      ]
    },
    "kernelspec": {
      "name": "python3",
      "display_name": "Python 3"
    },
    "language_info": {
      "name": "python"
    }
  },
  "cells": [
    {
      "cell_type": "markdown",
      "source": [
        "# **Python Intro**\n"
      ],
      "metadata": {
        "id": "rjMLxq7XiGww"
      }
    },
    {
      "cell_type": "markdown",
      "source": [
        "# Example\n"
      ],
      "metadata": {
        "id": "tPK8OqMPir5P"
      }
    },
    {
      "cell_type": "code",
      "execution_count": null,
      "metadata": {
        "colab": {
          "base_uri": "https://localhost:8080/"
        },
        "id": "dBixpBo0e5Yq",
        "outputId": "36d7baf6-b9e6-4c21-fa66-2b3a629ff99c"
      },
      "outputs": [
        {
          "output_type": "stream",
          "name": "stdout",
          "text": [
            "Hello,World!\n"
          ]
        }
      ],
      "source": [
        "print(\"Hello,World!\")"
      ]
    },
    {
      "cell_type": "markdown",
      "source": [
        "# **Python Indentation**"
      ],
      "metadata": {
        "id": "E_2OTz6tiJ0u"
      }
    },
    {
      "cell_type": "markdown",
      "source": [
        "# Example\n"
      ],
      "metadata": {
        "id": "CQKJOkD_izs9"
      }
    },
    {
      "cell_type": "code",
      "source": [
        "if 9 > 3:\n",
        "  print(\"Nine is greater than three!\")\n"
      ],
      "metadata": {
        "colab": {
          "base_uri": "https://localhost:8080/"
        },
        "id": "fPSl0LryiXBY",
        "outputId": "f20be9a0-e175-4d8c-d0d5-e78445140294"
      },
      "execution_count": null,
      "outputs": [
        {
          "output_type": "stream",
          "name": "stdout",
          "text": [
            "Nine is greater than three!\n"
          ]
        }
      ]
    },
    {
      "cell_type": "code",
      "source": [
        "if 9 > 3:\n",
        "print(\"Nine is greater than three!\")\n"
      ],
      "metadata": {
        "colab": {
          "base_uri": "https://localhost:8080/",
          "height": 131
        },
        "id": "xEYn1y3KkscX",
        "outputId": "95f9d4f4-257f-49d1-8b0d-68f470aed77e"
      },
      "execution_count": null,
      "outputs": [
        {
          "output_type": "error",
          "ename": "IndentationError",
          "evalue": "ignored",
          "traceback": [
            "\u001b[0;36m  File \u001b[0;32m\"<ipython-input-5-07668de806fb>\"\u001b[0;36m, line \u001b[0;32m2\u001b[0m\n\u001b[0;31m    print(\"Nine is greater than three!\")\u001b[0m\n\u001b[0m        ^\u001b[0m\n\u001b[0;31mIndentationError\u001b[0m\u001b[0;31m:\u001b[0m expected an indented block\n"
          ]
        }
      ]
    },
    {
      "cell_type": "markdown",
      "source": [
        "\n",
        "\n",
        "# Example\n",
        "\n",
        "\n"
      ],
      "metadata": {
        "id": "WwCWABpHmCyS"
      }
    },
    {
      "cell_type": "code",
      "source": [
        "if 9 > 3:\n",
        " print(\"Nine is greater than three!\")  \n",
        "if 9 > 3:\n",
        "        print(\"Nine is greater than three!\") "
      ],
      "metadata": {
        "colab": {
          "base_uri": "https://localhost:8080/"
        },
        "id": "LXbVOsLvmEnm",
        "outputId": "bbf2b083-1f34-4740-c994-9a01c8005aa0"
      },
      "execution_count": null,
      "outputs": [
        {
          "output_type": "stream",
          "name": "stdout",
          "text": [
            "Nine is greater than three!\n",
            "Nine is greater than three!\n"
          ]
        }
      ]
    },
    {
      "cell_type": "markdown",
      "source": [
        "\n",
        "\n",
        "# Example\n",
        "\n",
        "Syntax Error:\n"
      ],
      "metadata": {
        "id": "PRCGjlQskq8j"
      }
    },
    {
      "cell_type": "code",
      "source": [
        "if 9 > 3:\n",
        " print(\"Nine is greater than three!\")\n",
        "        print(\"Nine is greater than three!\")"
      ],
      "metadata": {
        "colab": {
          "base_uri": "https://localhost:8080/",
          "height": 131
        },
        "id": "8WqmxocrnAkw",
        "outputId": "a6beee47-5e4e-41ea-e250-8bc0b6964d68"
      },
      "execution_count": null,
      "outputs": [
        {
          "output_type": "error",
          "ename": "IndentationError",
          "evalue": "ignored",
          "traceback": [
            "\u001b[0;36m  File \u001b[0;32m\"<ipython-input-7-8188e35bdaa6>\"\u001b[0;36m, line \u001b[0;32m3\u001b[0m\n\u001b[0;31m    print(\"Nine is greater than three!\")\u001b[0m\n\u001b[0m    ^\u001b[0m\n\u001b[0;31mIndentationError\u001b[0m\u001b[0;31m:\u001b[0m unexpected indent\n"
          ]
        }
      ]
    },
    {
      "cell_type": "markdown",
      "source": [
        "#**Phython Comnments**"
      ],
      "metadata": {
        "id": "nYHEAusXwIaL"
      }
    },
    {
      "cell_type": "markdown",
      "source": [
        "\n",
        "\n",
        "# Example\n",
        "\n",
        "\n"
      ],
      "metadata": {
        "id": "-TtHgvDqqxYO"
      }
    },
    {
      "cell_type": "code",
      "source": [
        "#This is a comment.\n",
        "print(\"Hello, World!\")"
      ],
      "metadata": {
        "colab": {
          "base_uri": "https://localhost:8080/"
        },
        "id": "tIyQcd5fq01z",
        "outputId": "fb55ce73-2d42-4a3c-9b8a-7249a6801792"
      },
      "execution_count": null,
      "outputs": [
        {
          "output_type": "stream",
          "name": "stdout",
          "text": [
            "Hello, World!\n"
          ]
        }
      ]
    },
    {
      "cell_type": "markdown",
      "source": [
        "\n",
        "\n",
        "# Example\n",
        "\n",
        "\n"
      ],
      "metadata": {
        "id": "fAlbn8hCrkSV"
      }
    },
    {
      "cell_type": "code",
      "source": [
        "print(\"Hello, World!\") #This is a comment."
      ],
      "metadata": {
        "colab": {
          "base_uri": "https://localhost:8080/"
        },
        "id": "c-x1bItprnQz",
        "outputId": "4ed0df19-016b-41f5-dd58-310e1d01d2e5"
      },
      "execution_count": null,
      "outputs": [
        {
          "output_type": "stream",
          "name": "stdout",
          "text": [
            "Hello, World!\n"
          ]
        }
      ]
    },
    {
      "cell_type": "markdown",
      "source": [
        "\n",
        "\n",
        "# Example\n",
        "\n",
        "\n"
      ],
      "metadata": {
        "id": "G-e1xNeNtCSD"
      }
    },
    {
      "cell_type": "code",
      "source": [
        "#print(\"Hello, World!\")\n",
        "print(\"Go, Tigers!\")"
      ],
      "metadata": {
        "colab": {
          "base_uri": "https://localhost:8080/"
        },
        "id": "xO4l4kQGtFlV",
        "outputId": "66970e53-6a67-4e68-8a1c-cbe2c6a15fcc"
      },
      "execution_count": null,
      "outputs": [
        {
          "output_type": "stream",
          "name": "stdout",
          "text": [
            "Go, Tigers!\n"
          ]
        }
      ]
    },
    {
      "cell_type": "markdown",
      "source": [
        "#**Python Variables**\n",
        "\n"
      ],
      "metadata": {
        "id": "bxIuxhdHwQQB"
      }
    },
    {
      "cell_type": "markdown",
      "source": [
        "\n",
        "\n",
        "# Example\n",
        "\n",
        "\n"
      ],
      "metadata": {
        "id": "5fiJAQuewbo2"
      }
    },
    {
      "cell_type": "code",
      "source": [
        "x = 234\n",
        "y = \"喬萬斯\"\n",
        "print(x)\n",
        "print(y)"
      ],
      "metadata": {
        "colab": {
          "base_uri": "https://localhost:8080/"
        },
        "id": "Enq6RamFwcTr",
        "outputId": "c44e687a-23e1-4d57-9c90-34785b0509d6"
      },
      "execution_count": null,
      "outputs": [
        {
          "output_type": "stream",
          "name": "stdout",
          "text": [
            "234\n",
            "喬萬斯\n"
          ]
        }
      ]
    },
    {
      "cell_type": "markdown",
      "source": [
        "\n",
        "\n",
        "# Example\n",
        "\n",
        "\n"
      ],
      "metadata": {
        "id": "1d5VGHh6x-hu"
      }
    },
    {
      "cell_type": "code",
      "source": [
        "x = 234\n",
        "x = \"喬萬斯\"\n",
        "print(x)"
      ],
      "metadata": {
        "colab": {
          "base_uri": "https://localhost:8080/"
        },
        "id": "lfkkFx6nx8_K",
        "outputId": "ad3fe28c-5f08-4b9e-eab8-47d299ab1a90"
      },
      "execution_count": null,
      "outputs": [
        {
          "output_type": "stream",
          "name": "stdout",
          "text": [
            "喬萬斯\n"
          ]
        }
      ]
    },
    {
      "cell_type": "markdown",
      "source": [
        "\n",
        "\n",
        "# Example\n",
        "\n",
        "\n"
      ],
      "metadata": {
        "id": "vtMfMaqVzFpj"
      }
    },
    {
      "cell_type": "code",
      "source": [
        "x = str(3)\n",
        "y = int(6)\n",
        "z = float(9)\n",
        "\n",
        "print(x)\n",
        "print(y)\n",
        "print(z)\n"
      ],
      "metadata": {
        "colab": {
          "base_uri": "https://localhost:8080/"
        },
        "id": "3slPTlU7zDuh",
        "outputId": "417e33e5-59a9-46b9-ab68-e39824c1a040"
      },
      "execution_count": null,
      "outputs": [
        {
          "output_type": "stream",
          "name": "stdout",
          "text": [
            "3\n",
            "6\n",
            "9.0\n"
          ]
        }
      ]
    },
    {
      "cell_type": "markdown",
      "source": [
        "#**Python - Variables Names**\n",
        "\n"
      ],
      "metadata": {
        "id": "aZMfuvqP1Qc3"
      }
    },
    {
      "cell_type": "markdown",
      "source": [
        "\n",
        "\n",
        "# Example\n",
        "\n",
        "Legal variable names:\n",
        "\n",
        "\n"
      ],
      "metadata": {
        "id": "WSItG1ut1a2O"
      }
    },
    {
      "cell_type": "code",
      "source": [
        "myvar = \"喬萬斯\"\n",
        "my_var = \"喬萬斯\"\n",
        "_my_var = \"喬萬斯\"\n",
        "myVar = \"喬萬斯\"\n",
        "MYVAR = \"喬萬斯\"\n",
        "myvar2 = \"喬萬斯\"\n",
        "\n",
        "\n",
        "print(myvar)\n",
        "print(my_var)\n",
        "print(_my_var)\n",
        "print(myVar)\n",
        "print(MYVAR)\n",
        "print(myvar2)\n"
      ],
      "metadata": {
        "colab": {
          "base_uri": "https://localhost:8080/"
        },
        "id": "7JObWQOm1Xlb",
        "outputId": "8193f736-aa44-4463-f27e-22cd0d2e9b40"
      },
      "execution_count": null,
      "outputs": [
        {
          "output_type": "stream",
          "name": "stdout",
          "text": [
            "喬萬斯\n",
            "喬萬斯\n",
            "喬萬斯\n",
            "喬萬斯\n",
            "喬萬斯\n",
            "喬萬斯\n"
          ]
        }
      ]
    },
    {
      "cell_type": "markdown",
      "source": [
        "\n",
        "\n",
        "# Example\n",
        "\n",
        "Illegal variable names:\n",
        "\n",
        "\n"
      ],
      "metadata": {
        "id": "LXZg3aWI104y"
      }
    },
    {
      "cell_type": "code",
      "source": [
        "2myvar = \"喬萬斯\"\n",
        "my-var = \"喬萬斯\"\n",
        "my var = \"喬萬斯\""
      ],
      "metadata": {
        "colab": {
          "base_uri": "https://localhost:8080/",
          "height": 131
        },
        "id": "Nu3gbkc215uK",
        "outputId": "97577212-4088-4f4c-99b6-e6c7029c7964"
      },
      "execution_count": null,
      "outputs": [
        {
          "output_type": "error",
          "ename": "SyntaxError",
          "evalue": "ignored",
          "traceback": [
            "\u001b[0;36m  File \u001b[0;32m\"<ipython-input-20-0714fdf66782>\"\u001b[0;36m, line \u001b[0;32m1\u001b[0m\n\u001b[0;31m    2myvar = \"喬萬斯\"\u001b[0m\n\u001b[0m         ^\u001b[0m\n\u001b[0;31mSyntaxError\u001b[0m\u001b[0;31m:\u001b[0m invalid syntax\n"
          ]
        }
      ]
    },
    {
      "cell_type": "markdown",
      "source": [
        "#**Python Variables - Assign Multiple Values**\n",
        "\n"
      ],
      "metadata": {
        "id": "4vZKbPoC65Kh"
      }
    },
    {
      "cell_type": "markdown",
      "source": [
        "\n",
        "\n",
        "# Example\n",
        "\n",
        "\n"
      ],
      "metadata": {
        "id": "0mOOetbW7HnE"
      }
    },
    {
      "cell_type": "code",
      "source": [
        "x, y, z = \"Anger\", \"Chaos\", \"Rage\"\n",
        "\n",
        "print(x)\n",
        "print(y)\n",
        "print(z)"
      ],
      "metadata": {
        "colab": {
          "base_uri": "https://localhost:8080/"
        },
        "id": "lhDN5N-B6s_S",
        "outputId": "5687d4fc-4dcf-4f32-a5af-d0e3836444d5"
      },
      "execution_count": null,
      "outputs": [
        {
          "output_type": "stream",
          "name": "stdout",
          "text": [
            "Anger\n",
            "Chaos\n",
            "Rage\n"
          ]
        }
      ]
    },
    {
      "cell_type": "markdown",
      "source": [
        "\n",
        "\n",
        "# Example\n",
        "\n",
        "\n"
      ],
      "metadata": {
        "id": "-iTiXmYt86_a"
      }
    },
    {
      "cell_type": "code",
      "source": [
        "x = y = z = \"Disaster\"\n",
        "\n",
        "print(x)\n",
        "print(y)\n",
        "print(z)"
      ],
      "metadata": {
        "colab": {
          "base_uri": "https://localhost:8080/"
        },
        "id": "1nSmajJe846a",
        "outputId": "19edd8ff-5569-4033-ef90-286569bcc024"
      },
      "execution_count": null,
      "outputs": [
        {
          "output_type": "stream",
          "name": "stdout",
          "text": [
            "Disaster\n",
            "Disaster\n",
            "Disaster\n"
          ]
        }
      ]
    },
    {
      "cell_type": "markdown",
      "source": [
        "\n",
        "\n",
        "# Example\n",
        "\n",
        "Unpack a list:\n",
        "\n",
        "\n"
      ],
      "metadata": {
        "id": "Gv5sLEL7-ZUy"
      }
    },
    {
      "cell_type": "code",
      "source": [
        "emotion = [\"ANGER\", \"FEAR\", \"SADNESS\"]\n",
        "x, y, z = emotion\n",
        "\n",
        "print(x)\n",
        "print(y)\n",
        "print(z)"
      ],
      "metadata": {
        "colab": {
          "base_uri": "https://localhost:8080/"
        },
        "id": "VHXaQoF8-cyw",
        "outputId": "08b131d4-92ba-4c57-c138-a3f4a01cb142"
      },
      "execution_count": null,
      "outputs": [
        {
          "output_type": "stream",
          "name": "stdout",
          "text": [
            "ANGER\n",
            "FEAR\n",
            "SADNESS\n"
          ]
        }
      ]
    },
    {
      "cell_type": "markdown",
      "source": [
        "#**Python - Output Variables**"
      ],
      "metadata": {
        "id": "SfGwZrC6_hvq"
      }
    },
    {
      "cell_type": "markdown",
      "source": [
        "\n",
        "\n",
        "# Example\n",
        "\n",
        "\n"
      ],
      "metadata": {
        "id": "WVd-xN1PAetg"
      }
    },
    {
      "cell_type": "code",
      "source": [
        "x = \"My Journal in Python\"\n",
        "print(x)\n"
      ],
      "metadata": {
        "colab": {
          "base_uri": "https://localhost:8080/"
        },
        "id": "uZkp-iJIAYOO",
        "outputId": "933a2326-3d3a-4ca1-9542-df81988cac78"
      },
      "execution_count": null,
      "outputs": [
        {
          "output_type": "stream",
          "name": "stdout",
          "text": [
            "My Journal in Python\n"
          ]
        }
      ]
    },
    {
      "cell_type": "markdown",
      "source": [
        "\n",
        "\n",
        "# Example\n",
        "\n",
        "\n"
      ],
      "metadata": {
        "id": "QmV2p6XUBSv4"
      }
    },
    {
      "cell_type": "code",
      "source": [
        "x = \"My Journal\"\n",
        "y = \"in\"\n",
        "z = \"Python\"\n",
        "print(x, y, z)"
      ],
      "metadata": {
        "colab": {
          "base_uri": "https://localhost:8080/"
        },
        "id": "2CMYOTkwBReO",
        "outputId": "ea1fc14d-421c-4681-b535-2215b2adaa2e"
      },
      "execution_count": null,
      "outputs": [
        {
          "output_type": "stream",
          "name": "stdout",
          "text": [
            "My Journal in Python\n"
          ]
        }
      ]
    },
    {
      "cell_type": "markdown",
      "source": [
        "\n",
        "\n",
        "# Example\n",
        "\n",
        "\n"
      ],
      "metadata": {
        "id": "Sa6Ff9KsDEzW"
      }
    },
    {
      "cell_type": "code",
      "source": [
        "x = \"My Journal \"\n",
        "y = \"in \"\n",
        "z = \"Python\"\n",
        "print(x + y + z)"
      ],
      "metadata": {
        "colab": {
          "base_uri": "https://localhost:8080/"
        },
        "id": "6AbeZ6jaDDVA",
        "outputId": "007ded56-730d-4635-df32-7752362fdf70"
      },
      "execution_count": null,
      "outputs": [
        {
          "output_type": "stream",
          "name": "stdout",
          "text": [
            "My Journal in Python\n"
          ]
        }
      ]
    },
    {
      "cell_type": "markdown",
      "source": [
        "\n",
        "\n",
        "# Example\n",
        "\n",
        "\n"
      ],
      "metadata": {
        "id": "cplnIqoZdBij"
      }
    },
    {
      "cell_type": "code",
      "source": [
        "x = 3\n",
        "y = 69\n",
        "print(x + y)"
      ],
      "metadata": {
        "colab": {
          "base_uri": "https://localhost:8080/"
        },
        "id": "czTVJb2tc_5D",
        "outputId": "889eb956-86ed-4a66-ca26-b65e0e8de094"
      },
      "execution_count": null,
      "outputs": [
        {
          "output_type": "stream",
          "name": "stdout",
          "text": [
            "72\n"
          ]
        }
      ]
    },
    {
      "cell_type": "markdown",
      "source": [
        "\n",
        "\n",
        "# Example\n",
        "\n",
        "\n"
      ],
      "metadata": {
        "id": "sID4BrvFdu_c"
      }
    },
    {
      "cell_type": "code",
      "source": [
        "x = 234\n",
        "y = \"喬萬斯\"\n",
        "print(x + y)\n"
      ],
      "metadata": {
        "colab": {
          "base_uri": "https://localhost:8080/",
          "height": 200
        },
        "id": "lgawm9u2dr6_",
        "outputId": "58701b09-d9dc-4559-cd4c-2d8ba07faf5e"
      },
      "execution_count": null,
      "outputs": [
        {
          "output_type": "error",
          "ename": "TypeError",
          "evalue": "ignored",
          "traceback": [
            "\u001b[0;31m---------------------------------------------------------------------------\u001b[0m",
            "\u001b[0;31mTypeError\u001b[0m                                 Traceback (most recent call last)",
            "\u001b[0;32m<ipython-input-2-57ad1ea9315b>\u001b[0m in \u001b[0;36m<module>\u001b[0;34m\u001b[0m\n\u001b[1;32m      1\u001b[0m \u001b[0mx\u001b[0m \u001b[0;34m=\u001b[0m \u001b[0;36m234\u001b[0m\u001b[0;34m\u001b[0m\u001b[0;34m\u001b[0m\u001b[0m\n\u001b[1;32m      2\u001b[0m \u001b[0my\u001b[0m \u001b[0;34m=\u001b[0m \u001b[0;34m\"喬萬斯\"\u001b[0m\u001b[0;34m\u001b[0m\u001b[0;34m\u001b[0m\u001b[0m\n\u001b[0;32m----> 3\u001b[0;31m \u001b[0mprint\u001b[0m\u001b[0;34m(\u001b[0m\u001b[0mx\u001b[0m \u001b[0;34m+\u001b[0m \u001b[0my\u001b[0m\u001b[0;34m)\u001b[0m\u001b[0;34m\u001b[0m\u001b[0;34m\u001b[0m\u001b[0m\n\u001b[0m",
            "\u001b[0;31mTypeError\u001b[0m: unsupported operand type(s) for +: 'int' and 'str'"
          ]
        }
      ]
    },
    {
      "cell_type": "markdown",
      "source": [
        "# Example\n"
      ],
      "metadata": {
        "id": "XPKHloymfNp8"
      }
    },
    {
      "cell_type": "code",
      "source": [
        "x = 234\n",
        "y = \"喬萬斯\"\n",
        "print(x, y)"
      ],
      "metadata": {
        "colab": {
          "base_uri": "https://localhost:8080/"
        },
        "id": "U3_1HNkUfARC",
        "outputId": "c4974598-9e75-45dd-a6a4-f078849de774"
      },
      "execution_count": null,
      "outputs": [
        {
          "output_type": "stream",
          "name": "stdout",
          "text": [
            "234 喬萬斯\n"
          ]
        }
      ]
    },
    {
      "cell_type": "markdown",
      "source": [
        "#**Python - Global Variables​**"
      ],
      "metadata": {
        "id": "F0P5eDrXiN-Y"
      }
    },
    {
      "cell_type": "markdown",
      "source": [
        "#Example\n",
        "\n",
        "Create a variable outside of a function, and use it inside the function"
      ],
      "metadata": {
        "id": "8fY84MWNiOMr"
      }
    },
    {
      "cell_type": "code",
      "source": [
        "x = \"Python\"\n",
        "\n",
        "def myfunc():\n",
        "  print(\"My Journal in \" + x)\n",
        "\n",
        "myfunc()"
      ],
      "metadata": {
        "colab": {
          "base_uri": "https://localhost:8080/"
        },
        "id": "HZADIgjIiRc8",
        "outputId": "caea448b-05c9-4b70-d25e-c3c05f3bd578"
      },
      "execution_count": null,
      "outputs": [
        {
          "output_type": "stream",
          "name": "stdout",
          "text": [
            "My Journal in Python\n"
          ]
        }
      ]
    },
    {
      "cell_type": "markdown",
      "source": [
        "#Example\n",
        "Create a variable inside a function, with the same name as the global variable"
      ],
      "metadata": {
        "id": "fCg6OmWhkGzY"
      }
    },
    {
      "cell_type": "code",
      "source": [
        "x = \"Python\"\n",
        "\n",
        "def myfunc():\n",
        "  x = \"Teacher\"\n",
        "  print(\"My Great \" + x)\n",
        "\n",
        "myfunc()\n",
        "\n",
        "print(\"My Journal in \" + x)"
      ],
      "metadata": {
        "colab": {
          "base_uri": "https://localhost:8080/"
        },
        "id": "1s2M9TGUkI-d",
        "outputId": "2841c46b-461b-4b21-dc62-160a33a520b0"
      },
      "execution_count": null,
      "outputs": [
        {
          "output_type": "stream",
          "name": "stdout",
          "text": [
            "My Great Teacher\n",
            "My Journal in Python\n"
          ]
        }
      ]
    },
    {
      "cell_type": "markdown",
      "source": [
        "#Example\n",
        "If you use the global keyword, the variable belongs to the global scope:"
      ],
      "metadata": {
        "id": "Es7Nh1OSm8G-"
      }
    },
    {
      "cell_type": "code",
      "source": [
        "def myfunc():\n",
        "  global x\n",
        "  x = \"Python\"\n",
        "\n",
        "myfunc()\n",
        "\n",
        "print(\"My Journal in \" + x)"
      ],
      "metadata": {
        "colab": {
          "base_uri": "https://localhost:8080/"
        },
        "id": "tZjbDOeRm9sd",
        "outputId": "5a443d51-7764-4ddb-aada-61dcac894985"
      },
      "execution_count": null,
      "outputs": [
        {
          "output_type": "stream",
          "name": "stdout",
          "text": [
            "My Journal in Python\n"
          ]
        }
      ]
    },
    {
      "cell_type": "markdown",
      "source": [
        "#Example\n",
        "To change the value of a global variable inside a function, refer to the variable by using the global keyword:"
      ],
      "metadata": {
        "id": "MU3QdNt2r6QQ"
      }
    },
    {
      "cell_type": "code",
      "source": [
        "x = \"Teacher\"\n",
        "\n",
        "def myfunc():\n",
        "  global x\n",
        "  x = \"Python\"\n",
        "\n",
        "myfunc()\n",
        "\n",
        "print(\"My Journal in \" + x)"
      ],
      "metadata": {
        "colab": {
          "base_uri": "https://localhost:8080/"
        },
        "id": "h2hzcrHTr7_X",
        "outputId": "828d0cfd-544f-42c5-c717-8a9b66db0cf7"
      },
      "execution_count": null,
      "outputs": [
        {
          "output_type": "stream",
          "name": "stdout",
          "text": [
            "My Journal in Python\n"
          ]
        }
      ]
    },
    {
      "cell_type": "markdown",
      "source": [
        "#Example\n",
        "Print the data type of the variable x:"
      ],
      "metadata": {
        "id": "dIUxzhH7A4ZB"
      }
    },
    {
      "cell_type": "code",
      "source": [
        " x = 5\n",
        "print(type(x))"
      ],
      "metadata": {
        "colab": {
          "base_uri": "https://localhost:8080/"
        },
        "id": "EDsaeG2bA57y",
        "outputId": "3939910f-b38c-495f-d978-46ca124659c5"
      },
      "execution_count": null,
      "outputs": [
        {
          "output_type": "stream",
          "name": "stdout",
          "text": [
            "<class 'int'>\n"
          ]
        }
      ]
    },
    {
      "cell_type": "markdown",
      "source": [
        "#**Python Numbers**"
      ],
      "metadata": {
        "id": "f7yj4rJvjZib"
      }
    },
    {
      "cell_type": "markdown",
      "source": [
        "# Example\n"
      ],
      "metadata": {
        "id": "STcg7tigjvjf"
      }
    },
    {
      "cell_type": "code",
      "source": [
        "x = 1    # int\n",
        "y = 2.8  # float\n",
        "z = 1j   # complex"
      ],
      "metadata": {
        "id": "fmoAPpJSjwJi"
      },
      "execution_count": null,
      "outputs": []
    },
    {
      "cell_type": "markdown",
      "source": [
        "# Example\n"
      ],
      "metadata": {
        "id": "N0icv8jIkW2m"
      }
    },
    {
      "cell_type": "code",
      "source": [
        "x = 1\n",
        "y = 2.8\n",
        "z = 1j\n",
        "\n",
        "print(type(x))\n",
        "print(type(y))\n",
        "print(type(z))"
      ],
      "metadata": {
        "colab": {
          "base_uri": "https://localhost:8080/"
        },
        "id": "IF_gscXnkVAp",
        "outputId": "67860222-045e-43f3-deda-c148c8a8d640"
      },
      "execution_count": null,
      "outputs": [
        {
          "output_type": "stream",
          "name": "stdout",
          "text": [
            "<class 'int'>\n",
            "<class 'float'>\n",
            "<class 'complex'>\n"
          ]
        }
      ]
    },
    {
      "cell_type": "markdown",
      "source": [
        "#Example\n",
        "Integers:"
      ],
      "metadata": {
        "id": "Ucc17uHoksJq"
      }
    },
    {
      "cell_type": "code",
      "source": [
        "x = 6\n",
        "y = 36912151821\n",
        "z = -135792467\n",
        "\n",
        "print(type(x))\n",
        "print(type(y))\n",
        "print(type(z))"
      ],
      "metadata": {
        "colab": {
          "base_uri": "https://localhost:8080/"
        },
        "id": "PMWe1GMlktWB",
        "outputId": "532a087f-8822-4c0f-c05b-336fecfa4254"
      },
      "execution_count": null,
      "outputs": [
        {
          "output_type": "stream",
          "name": "stdout",
          "text": [
            "<class 'int'>\n",
            "<class 'int'>\n",
            "<class 'int'>\n"
          ]
        }
      ]
    },
    {
      "cell_type": "markdown",
      "source": [
        "#Example\n",
        "Floats:"
      ],
      "metadata": {
        "id": "BHVEE6b3lTF3"
      }
    },
    {
      "cell_type": "code",
      "source": [
        "x = 3.19\n",
        "y = 6.13\n",
        "z = -23.69\n",
        "\n",
        "print(type(x))\n",
        "print(type(y))\n",
        "print(type(z))"
      ],
      "metadata": {
        "colab": {
          "base_uri": "https://localhost:8080/"
        },
        "id": "ZA946_-ilUAh",
        "outputId": "cb40de7a-ded3-4074-dcef-25d94e6fa865"
      },
      "execution_count": null,
      "outputs": [
        {
          "output_type": "stream",
          "name": "stdout",
          "text": [
            "<class 'float'>\n",
            "<class 'float'>\n",
            "<class 'float'>\n"
          ]
        }
      ]
    },
    {
      "cell_type": "markdown",
      "source": [
        "#Example\n",
        "Floats:"
      ],
      "metadata": {
        "id": "IyTM88almGvw"
      }
    },
    {
      "cell_type": "code",
      "source": [
        "x = 23e4\n",
        "y = 46E7\n",
        "z = -98.3e290\n",
        "\n",
        "print(type(x))\n",
        "print(type(y))\n",
        "print(type(z))"
      ],
      "metadata": {
        "colab": {
          "base_uri": "https://localhost:8080/"
        },
        "id": "kF_1sMHjmDrg",
        "outputId": "1ff2335b-3b74-4f73-b1d8-cc6982eabe02"
      },
      "execution_count": null,
      "outputs": [
        {
          "output_type": "stream",
          "name": "stdout",
          "text": [
            "<class 'float'>\n",
            "<class 'float'>\n",
            "<class 'float'>\n"
          ]
        }
      ]
    },
    {
      "cell_type": "markdown",
      "source": [
        "#Example\n",
        "Complex:"
      ],
      "metadata": {
        "id": "g2bXoDqUmlD6"
      }
    },
    {
      "cell_type": "code",
      "source": [
        "x = 2+7j\n",
        "y = 9j\n",
        "z = -3j\n",
        "\n",
        "print(type(x))\n",
        "print(type(y))\n",
        "print(type(z))"
      ],
      "metadata": {
        "colab": {
          "base_uri": "https://localhost:8080/"
        },
        "id": "K3xYVk-gmnVn",
        "outputId": "e5779755-d9ae-4f38-caaf-80cf0f0af86e"
      },
      "execution_count": null,
      "outputs": [
        {
          "output_type": "stream",
          "name": "stdout",
          "text": [
            "<class 'complex'>\n",
            "<class 'complex'>\n",
            "<class 'complex'>\n"
          ]
        }
      ]
    },
    {
      "cell_type": "markdown",
      "source": [
        "#Example\n",
        "Convert from one type to another:"
      ],
      "metadata": {
        "id": "1fjQFa35nFmX"
      }
    },
    {
      "cell_type": "code",
      "source": [
        "#convert from int to float:\n",
        "x = float(1)\n",
        "\n",
        "#convert from float to int:\n",
        "y = int(2.8)\n",
        "\n",
        "#convert from int to complex:\n",
        "z = complex(1)\n",
        "\n",
        "print(x)\n",
        "print(y)\n",
        "print(z)\n",
        "\n",
        "print(type(x))\n",
        "print(type(y))\n",
        "print(type(z))"
      ],
      "metadata": {
        "colab": {
          "base_uri": "https://localhost:8080/"
        },
        "id": "MyHSuFAnnHHf",
        "outputId": "98ccf212-b663-43ca-85e2-16c22de3db2e"
      },
      "execution_count": null,
      "outputs": [
        {
          "output_type": "stream",
          "name": "stdout",
          "text": [
            "1.0\n",
            "2\n",
            "(1+0j)\n",
            "<class 'float'>\n",
            "<class 'int'>\n",
            "<class 'complex'>\n"
          ]
        }
      ]
    },
    {
      "cell_type": "markdown",
      "source": [
        "#Example\n",
        "Import the random module, and display a random number between 1 and 9:"
      ],
      "metadata": {
        "id": "2us_BI9EoIcP"
      }
    },
    {
      "cell_type": "code",
      "source": [
        "import random\n",
        "\n",
        "print(random.randrange(1, 10))"
      ],
      "metadata": {
        "colab": {
          "base_uri": "https://localhost:8080/"
        },
        "id": "z701oDt8oID_",
        "outputId": "2c70c528-a19c-48e8-e076-cc623e942e3f"
      },
      "execution_count": null,
      "outputs": [
        {
          "output_type": "stream",
          "name": "stdout",
          "text": [
            "1\n"
          ]
        }
      ]
    },
    {
      "cell_type": "markdown",
      "source": [
        "#**Python Casting​**"
      ],
      "metadata": {
        "id": "VfAm4_66p91G"
      }
    },
    {
      "cell_type": "markdown",
      "source": [
        "#Example\n",
        "Integers:"
      ],
      "metadata": {
        "id": "YGndteRIp9pP"
      }
    },
    {
      "cell_type": "code",
      "source": [
        "x = int(3)\n",
        "y = int(6.9)\n",
        "z = int(\"9\")\n",
        "print(x)\n",
        "print(y)\n",
        "print(z)"
      ],
      "metadata": {
        "colab": {
          "base_uri": "https://localhost:8080/"
        },
        "id": "YXqd-PkJp6O_",
        "outputId": "23aa13cc-5020-4e17-a094-4a75729b1313"
      },
      "execution_count": null,
      "outputs": [
        {
          "output_type": "stream",
          "name": "stdout",
          "text": [
            "3\n",
            "6\n",
            "9\n"
          ]
        }
      ]
    },
    {
      "cell_type": "markdown",
      "source": [
        "#Example\n",
        "Floats:"
      ],
      "metadata": {
        "id": "ibwkyH68qrFO"
      }
    },
    {
      "cell_type": "code",
      "source": [
        "x = float(3)\n",
        "y = float(6.8)\n",
        "z = float(\"9\")\n",
        "w = float(\"12.7\")\n",
        "print(x)\n",
        "print(y)\n",
        "print(z)\n",
        "print(w)"
      ],
      "metadata": {
        "colab": {
          "base_uri": "https://localhost:8080/"
        },
        "id": "CUhlPQjJqthI",
        "outputId": "a7adbba2-5b40-4136-c0c1-9f6d10828bc0"
      },
      "execution_count": null,
      "outputs": [
        {
          "output_type": "stream",
          "name": "stdout",
          "text": [
            "3.0\n",
            "6.8\n",
            "9.0\n",
            "12.7\n"
          ]
        }
      ]
    },
    {
      "cell_type": "markdown",
      "source": [
        "#Example\n",
        "Strings:"
      ],
      "metadata": {
        "id": "xkP9H8ctrQkY"
      }
    },
    {
      "cell_type": "code",
      "source": [
        "x = str(\"k3\")\n",
        "y = str(6)\n",
        "z = str(9.0)\n",
        "print(x)\n",
        "print(y)\n",
        "print(z)"
      ],
      "metadata": {
        "colab": {
          "base_uri": "https://localhost:8080/"
        },
        "id": "K_y3Py1erRj3",
        "outputId": "0e92d7f2-1010-48c3-acda-26aa93bc7da6"
      },
      "execution_count": null,
      "outputs": [
        {
          "output_type": "stream",
          "name": "stdout",
          "text": [
            "k3\n",
            "6\n",
            "9.0\n"
          ]
        }
      ]
    },
    {
      "cell_type": "markdown",
      "source": [
        "#**Python Strings**"
      ],
      "metadata": {
        "id": "YrwQZJEbvLbt"
      }
    },
    {
      "cell_type": "markdown",
      "source": [
        "#Example\n"
      ],
      "metadata": {
        "id": "ozygtAZwvLlF"
      }
    },
    {
      "cell_type": "code",
      "source": [
        "print(\"喬萬斯\")\n",
        "print('喬萬斯')\n"
      ],
      "metadata": {
        "colab": {
          "base_uri": "https://localhost:8080/"
        },
        "id": "UqbW1-KvvMK1",
        "outputId": "5e3501fd-ed95-45e6-dcaf-d74ea017037d"
      },
      "execution_count": null,
      "outputs": [
        {
          "output_type": "stream",
          "name": "stdout",
          "text": [
            "喬萬斯\n",
            "喬萬斯\n"
          ]
        }
      ]
    },
    {
      "cell_type": "markdown",
      "source": [
        "#Example\n"
      ],
      "metadata": {
        "id": "FfRA3utKv-y1"
      }
    },
    {
      "cell_type": "code",
      "source": [
        "a = \"喬萬斯\"\n",
        "print(a)"
      ],
      "metadata": {
        "colab": {
          "base_uri": "https://localhost:8080/"
        },
        "id": "Qp_RGO3Jv9ZW",
        "outputId": "134bdbe5-1215-4fe4-a884-bbbf53a1c0cb"
      },
      "execution_count": null,
      "outputs": [
        {
          "output_type": "stream",
          "name": "stdout",
          "text": [
            "喬萬斯\n"
          ]
        }
      ]
    },
    {
      "cell_type": "markdown",
      "source": [
        "#Example\n",
        "You can use three double quotes:"
      ],
      "metadata": {
        "id": "XYSsk-EVwRRW"
      }
    },
    {
      "cell_type": "code",
      "source": [
        "a = \"\"\"Lorem ipsum dolor sit amet,\n",
        "consectetur adipiscing elit,\n",
        "sed do eiusmod tempor incididunt\n",
        "ut labore et dolore magna aliqua.\"\"\"\n",
        "print(a)\n"
      ],
      "metadata": {
        "colab": {
          "base_uri": "https://localhost:8080/"
        },
        "id": "xb3SaghJwSY-",
        "outputId": "78d32665-4316-488f-d4a8-4e42e5da78a6"
      },
      "execution_count": null,
      "outputs": [
        {
          "output_type": "stream",
          "name": "stdout",
          "text": [
            "Lorem ipsum dolor sit amet,\n",
            "consectetur adipiscing elit,\n",
            "sed do eiusmod tempor incididunt\n",
            "ut labore et dolore magna aliqua.\n"
          ]
        }
      ]
    },
    {
      "cell_type": "markdown",
      "source": [
        "#Example"
      ],
      "metadata": {
        "id": "y4CpuOvixFkA"
      }
    },
    {
      "cell_type": "code",
      "source": [
        "a = '''Lorem ipsum dolor sit amet,\n",
        "consectetur adipiscing elit,\n",
        "sed do eiusmod tempor incididunt\n",
        "ut labore et dolore magna aliqua.'''\n",
        "print(a)\n"
      ],
      "metadata": {
        "colab": {
          "base_uri": "https://localhost:8080/"
        },
        "id": "mSFq5PKhxHj3",
        "outputId": "6c3532e7-7c79-42be-f53e-52211293300d"
      },
      "execution_count": null,
      "outputs": [
        {
          "output_type": "stream",
          "name": "stdout",
          "text": [
            "Lorem ipsum dolor sit amet,\n",
            "consectetur adipiscing elit,\n",
            "sed do eiusmod tempor incididunt\n",
            "ut labore et dolore magna aliqua.\n"
          ]
        }
      ]
    },
    {
      "cell_type": "markdown",
      "source": [
        "#Example\n",
        "Get the character at position 1 (remember that the first character has the position 0):"
      ],
      "metadata": {
        "id": "DJA-nI0Px0ci"
      }
    },
    {
      "cell_type": "code",
      "source": [
        "a = \"Hello, World!\"\n",
        "print(a[1])"
      ],
      "metadata": {
        "colab": {
          "base_uri": "https://localhost:8080/"
        },
        "id": "TuZzqFI1x2PF",
        "outputId": "28ec093c-106a-4ce9-fa53-92702dfba1c9"
      },
      "execution_count": null,
      "outputs": [
        {
          "output_type": "stream",
          "name": "stdout",
          "text": [
            "e\n"
          ]
        }
      ]
    },
    {
      "cell_type": "markdown",
      "source": [
        "#Example\n",
        "Loop through the letters in the word \"喬萬斯\":"
      ],
      "metadata": {
        "id": "ELMJq_5GyKXI"
      }
    },
    {
      "cell_type": "code",
      "source": [
        "for x in \"喬萬斯\":\n",
        "  print(x) "
      ],
      "metadata": {
        "colab": {
          "base_uri": "https://localhost:8080/"
        },
        "id": "1sUha7miyIne",
        "outputId": "82fad434-43de-4bb1-8b53-dcb4e4fcbcf1"
      },
      "execution_count": null,
      "outputs": [
        {
          "output_type": "stream",
          "name": "stdout",
          "text": [
            "喬\n",
            "萬\n",
            "斯\n"
          ]
        }
      ]
    },
    {
      "cell_type": "markdown",
      "source": [
        "#Example\n",
        "The len() function returns the length of a string:"
      ],
      "metadata": {
        "id": "OC1pAyVLyvP-"
      }
    },
    {
      "cell_type": "code",
      "source": [
        "a = \"Hello, World!\"\n",
        "print(len(a))"
      ],
      "metadata": {
        "colab": {
          "base_uri": "https://localhost:8080/"
        },
        "id": "wSgEJ9O5ywaW",
        "outputId": "65ebdd54-16db-4e9b-861b-13495014ccf9"
      },
      "execution_count": null,
      "outputs": [
        {
          "output_type": "stream",
          "name": "stdout",
          "text": [
            "13\n"
          ]
        }
      ]
    },
    {
      "cell_type": "markdown",
      "source": [
        "#Example\n",
        "Check if \"Python!\" is present in the following text:\n"
      ],
      "metadata": {
        "id": "C132xtVHzMQg"
      }
    },
    {
      "cell_type": "code",
      "source": [
        "txt = \"My Great Teacher in Python!\"\n",
        "print(\"Python!\" in txt)"
      ],
      "metadata": {
        "colab": {
          "base_uri": "https://localhost:8080/"
        },
        "id": "SFluE-txzNU1",
        "outputId": "d8c67885-8039-488f-e65a-5f8574922151"
      },
      "execution_count": null,
      "outputs": [
        {
          "output_type": "stream",
          "name": "stdout",
          "text": [
            "True\n"
          ]
        }
      ]
    },
    {
      "cell_type": "markdown",
      "source": [
        "#Example\n",
        "Print only if \"free\" is present:"
      ],
      "metadata": {
        "id": "sE6sP1cZzvtI"
      }
    },
    {
      "cell_type": "code",
      "source": [
        "txt = \"My Great Teacher in Python!\"\n",
        "if \"Python!\" in txt:\n",
        "  print(\"Yes, 'Python!' is present.\")\n"
      ],
      "metadata": {
        "colab": {
          "base_uri": "https://localhost:8080/"
        },
        "id": "3b3-b_UPzzzW",
        "outputId": "e23cbd88-0a0a-4db9-a041-2c487777e146"
      },
      "execution_count": null,
      "outputs": [
        {
          "output_type": "stream",
          "name": "stdout",
          "text": [
            "Yes, 'Python!' is present.\n"
          ]
        }
      ]
    },
    {
      "cell_type": "markdown",
      "source": [
        "#Example\n",
        "Check if \"Bad\" is NOT present in the following text:"
      ],
      "metadata": {
        "id": "1OcxP_lV0_Dt"
      }
    },
    {
      "cell_type": "code",
      "source": [
        "txt = \"My Great Teacher in Python!\"\n",
        "print(\"Bad\" not in txt)"
      ],
      "metadata": {
        "colab": {
          "base_uri": "https://localhost:8080/"
        },
        "id": "Nqbbem-G1Ade",
        "outputId": "7630e125-3316-44a1-b73c-8b09735dec92"
      },
      "execution_count": null,
      "outputs": [
        {
          "output_type": "stream",
          "name": "stdout",
          "text": [
            "True\n"
          ]
        }
      ]
    },
    {
      "cell_type": "markdown",
      "source": [
        "#Example\n",
        "print only if \"Bad\" is NOT present:"
      ],
      "metadata": {
        "id": "h-nUDZ5z2fYP"
      }
    },
    {
      "cell_type": "code",
      "source": [
        "txt = \"My Great Teacher in Python!\"\n",
        "if \"Bad\" not in txt:\n",
        "  print(\"No, 'Bad' is NOT present.\")"
      ],
      "metadata": {
        "colab": {
          "base_uri": "https://localhost:8080/"
        },
        "id": "KxGJ7HE-2pAn",
        "outputId": "6acbdc43-f678-4d29-fde0-7b52baf4a416"
      },
      "execution_count": null,
      "outputs": [
        {
          "output_type": "stream",
          "name": "stdout",
          "text": [
            "No, 'Bad' is NOT present.\n"
          ]
        }
      ]
    },
    {
      "cell_type": "markdown",
      "source": [
        "#**Python - Slicing Strings**"
      ],
      "metadata": {
        "id": "IWZT4LEJ3Mvl"
      }
    },
    {
      "cell_type": "markdown",
      "source": [
        "#Example\n",
        "Get the characters from position 2 to position 5 (not included):"
      ],
      "metadata": {
        "id": "SiIP17GT3Oqr"
      }
    },
    {
      "cell_type": "code",
      "source": [
        "b = \"My Great Teacher in Python!\"\n",
        "print(b[2:5])"
      ],
      "metadata": {
        "colab": {
          "base_uri": "https://localhost:8080/"
        },
        "id": "fk6bClVg4ZPw",
        "outputId": "83d8782b-74c9-453a-da11-05183b2c0061"
      },
      "execution_count": null,
      "outputs": [
        {
          "output_type": "stream",
          "name": "stdout",
          "text": [
            " Gr\n"
          ]
        }
      ]
    },
    {
      "cell_type": "markdown",
      "source": [
        "#Example\n",
        "Get the characters from the start to position 16 (not included):\n",
        "\n"
      ],
      "metadata": {
        "id": "6jxScS3x492t"
      }
    },
    {
      "cell_type": "code",
      "source": [
        "b = \"My Great Teacher in Python!\"\n",
        "print(b[:16])"
      ],
      "metadata": {
        "colab": {
          "base_uri": "https://localhost:8080/"
        },
        "id": "B0rzEwuW4_zt",
        "outputId": "ecc3f9a9-0878-4feb-f571-5b76f3b683d3"
      },
      "execution_count": null,
      "outputs": [
        {
          "output_type": "stream",
          "name": "stdout",
          "text": [
            "My Great Teacher\n"
          ]
        }
      ]
    },
    {
      "cell_type": "markdown",
      "source": [
        "#Example\n",
        "Get the characters from position 2, and all the way to the end:"
      ],
      "metadata": {
        "id": "NUgDm5tP5xgk"
      }
    },
    {
      "cell_type": "code",
      "source": [
        "b = \"My Great Teacher in Python!\"\n",
        "print(b[2:])"
      ],
      "metadata": {
        "colab": {
          "base_uri": "https://localhost:8080/"
        },
        "id": "ZN4RVYL_55Rm",
        "outputId": "68660dd9-5c65-413d-c599-fcc6ab4fc5b2"
      },
      "execution_count": null,
      "outputs": [
        {
          "output_type": "stream",
          "name": "stdout",
          "text": [
            " Great Teacher in Python!\n"
          ]
        }
      ]
    },
    {
      "cell_type": "markdown",
      "source": [
        "#Example\n",
        "Get the characters:\n",
        "\n",
        "From: \"o\" in \"World!\" (position -5)\n",
        "\n",
        "To, but not included: \"d\" in \"World!\" (position -2):"
      ],
      "metadata": {
        "id": "R6CyozH26dus"
      }
    },
    {
      "cell_type": "code",
      "source": [
        "b = \"My Great Teacher in Python!\"\n",
        "print(b[-5:-2])"
      ],
      "metadata": {
        "colab": {
          "base_uri": "https://localhost:8080/"
        },
        "id": "1EjqF3yC6fkV",
        "outputId": "e2b474ac-a613-49fa-bb86-00d976cdfb81"
      },
      "execution_count": null,
      "outputs": [
        {
          "output_type": "stream",
          "name": "stdout",
          "text": [
            "tho\n"
          ]
        }
      ]
    },
    {
      "cell_type": "markdown",
      "source": [
        "#**Python - Modify Strings**"
      ],
      "metadata": {
        "id": "8hJ3lemi62mN"
      }
    },
    {
      "cell_type": "markdown",
      "source": [
        "#Example\n",
        "The upper() method returns the string in upper case:"
      ],
      "metadata": {
        "id": "lfKbRzgQ67Ce"
      }
    },
    {
      "cell_type": "code",
      "source": [
        "a = \"My Great Teacher in Python!\"\n",
        "print(a.upper())"
      ],
      "metadata": {
        "colab": {
          "base_uri": "https://localhost:8080/"
        },
        "id": "DubBsSNp66uu",
        "outputId": "975f7bed-0ac5-428d-e67c-bc5464775bfe"
      },
      "execution_count": null,
      "outputs": [
        {
          "output_type": "stream",
          "name": "stdout",
          "text": [
            "MY GREAT TEACHER IN PYTHON!\n"
          ]
        }
      ]
    },
    {
      "cell_type": "markdown",
      "source": [
        "#Example\n",
        "The lower() method returns the string in lower case:"
      ],
      "metadata": {
        "id": "xjo7GM4e8CLM"
      }
    },
    {
      "cell_type": "code",
      "source": [
        "a = \"My Great Teacher in Python!\"\n",
        "print(a.lower())\n"
      ],
      "metadata": {
        "colab": {
          "base_uri": "https://localhost:8080/"
        },
        "id": "8LQbiVHE8DE9",
        "outputId": "0a82ab83-135d-4626-b8e9-f40e8f725a0b"
      },
      "execution_count": null,
      "outputs": [
        {
          "output_type": "stream",
          "name": "stdout",
          "text": [
            "my great teacher in python!\n"
          ]
        }
      ]
    },
    {
      "cell_type": "markdown",
      "source": [
        "#Example\n",
        "The strip() method removes any whitespace from the beginning or the end:"
      ],
      "metadata": {
        "id": "xDdoYz6I8guk"
      }
    },
    {
      "cell_type": "code",
      "source": [
        "a = \" My Great Teacher in Python! \"\n",
        "print(a.strip())"
      ],
      "metadata": {
        "colab": {
          "base_uri": "https://localhost:8080/"
        },
        "id": "0yPhWwqt8iUN",
        "outputId": "ddfb195e-5e4c-4ed8-aa14-8181e90774be"
      },
      "execution_count": null,
      "outputs": [
        {
          "output_type": "stream",
          "name": "stdout",
          "text": [
            "My Great Teacher in Python!\n"
          ]
        }
      ]
    },
    {
      "cell_type": "markdown",
      "source": [
        "#Example\n",
        "The replace() method replaces a string with another string:"
      ],
      "metadata": {
        "id": "OTvPYqxS9hfE"
      }
    },
    {
      "cell_type": "code",
      "source": [
        "a = \"My Great Teacher in Python!\"\n",
        "print(a.replace(\"M\", \"G\"))"
      ],
      "metadata": {
        "colab": {
          "base_uri": "https://localhost:8080/"
        },
        "id": "9HFkNjRD9ieT",
        "outputId": "e29520bf-2a94-47e3-9878-41afec62167d"
      },
      "execution_count": null,
      "outputs": [
        {
          "output_type": "stream",
          "name": "stdout",
          "text": [
            "Gy Great Teacher in Python!\n"
          ]
        }
      ]
    },
    {
      "cell_type": "markdown",
      "source": [
        "#Example\n",
        "The split() method splits the string into substrings if it finds instances of the separator:"
      ],
      "metadata": {
        "id": "o_aPeP7tAp1N"
      }
    },
    {
      "cell_type": "code",
      "source": [
        "a = \"My Great Teacher, in Python!\"\n",
        "b = a.split(\",\")\n",
        "print(b)"
      ],
      "metadata": {
        "colab": {
          "base_uri": "https://localhost:8080/"
        },
        "id": "bJMc5vPvAqwU",
        "outputId": "721d87b3-10d7-41d5-eb27-321eeb124758"
      },
      "execution_count": null,
      "outputs": [
        {
          "output_type": "stream",
          "name": "stdout",
          "text": [
            "['My Great Teacher', ' in Python!']\n"
          ]
        }
      ]
    },
    {
      "cell_type": "markdown",
      "source": [
        "#**Python - String Concatenation**"
      ],
      "metadata": {
        "id": "9KdxMzBfBTeX"
      }
    },
    {
      "cell_type": "markdown",
      "source": [
        "#Example\n",
        "Merge variable a with variable b into variable c:"
      ],
      "metadata": {
        "id": "RJI0U9tIBTn6"
      }
    },
    {
      "cell_type": "code",
      "source": [
        "a = \"4110E234\"\n",
        "b = \"喬萬斯\"\n",
        "c = a + b\n",
        "print(c)"
      ],
      "metadata": {
        "colab": {
          "base_uri": "https://localhost:8080/"
        },
        "id": "PtahtXMtBYkc",
        "outputId": "6a83d466-f60e-403c-8d3a-734b222dddc4"
      },
      "execution_count": null,
      "outputs": [
        {
          "output_type": "stream",
          "name": "stdout",
          "text": [
            "4110E234喬萬斯\n"
          ]
        }
      ]
    },
    {
      "cell_type": "markdown",
      "source": [
        "#Example\n",
        "To add a space between them, add a \" \":"
      ],
      "metadata": {
        "id": "W4ch7l9OB24i"
      }
    },
    {
      "cell_type": "code",
      "source": [
        "a = \"4110E234\"\n",
        "b = \"喬萬斯\"\n",
        "c = a + \" \" + b\n",
        "print(c)\n"
      ],
      "metadata": {
        "colab": {
          "base_uri": "https://localhost:8080/"
        },
        "id": "hKjhTiTXB2UN",
        "outputId": "fd39e55c-ef11-489e-f8a7-a3d6ebae4c59"
      },
      "execution_count": null,
      "outputs": [
        {
          "output_type": "stream",
          "name": "stdout",
          "text": [
            "4110E234 喬萬斯\n"
          ]
        }
      ]
    },
    {
      "cell_type": "markdown",
      "source": [
        "#**Python - Format - Strings**"
      ],
      "metadata": {
        "id": "NeP1ZN21CUKX"
      }
    },
    {
      "cell_type": "markdown",
      "source": [
        "#Example"
      ],
      "metadata": {
        "id": "fnUdIPAzCWbk"
      }
    },
    {
      "cell_type": "code",
      "source": [
        "age = 18\n",
        "txt = \"My name is Joaquin, I am \" + age\n",
        "print(txt) "
      ],
      "metadata": {
        "colab": {
          "base_uri": "https://localhost:8080/",
          "height": 201
        },
        "id": "0XQ1Qsy3CnzT",
        "outputId": "d286bb47-7f98-49cc-db7d-f0875b09de00"
      },
      "execution_count": null,
      "outputs": [
        {
          "output_type": "error",
          "ename": "TypeError",
          "evalue": "ignored",
          "traceback": [
            "\u001b[0;31m---------------------------------------------------------------------------\u001b[0m",
            "\u001b[0;31mTypeError\u001b[0m                                 Traceback (most recent call last)",
            "\u001b[0;32m<ipython-input-54-358c28bb6507>\u001b[0m in \u001b[0;36m<module>\u001b[0;34m\u001b[0m\n\u001b[1;32m      1\u001b[0m \u001b[0mage\u001b[0m \u001b[0;34m=\u001b[0m \u001b[0;36m18\u001b[0m\u001b[0;34m\u001b[0m\u001b[0;34m\u001b[0m\u001b[0m\n\u001b[0;32m----> 2\u001b[0;31m \u001b[0mtxt\u001b[0m \u001b[0;34m=\u001b[0m \u001b[0;34m\"My name is Joaquin, I am \"\u001b[0m \u001b[0;34m+\u001b[0m \u001b[0mage\u001b[0m\u001b[0;34m\u001b[0m\u001b[0;34m\u001b[0m\u001b[0m\n\u001b[0m\u001b[1;32m      3\u001b[0m \u001b[0mprint\u001b[0m\u001b[0;34m(\u001b[0m\u001b[0mtxt\u001b[0m\u001b[0;34m)\u001b[0m\u001b[0;34m\u001b[0m\u001b[0;34m\u001b[0m\u001b[0m\n",
            "\u001b[0;31mTypeError\u001b[0m: can only concatenate str (not \"int\") to str"
          ]
        }
      ]
    },
    {
      "cell_type": "markdown",
      "source": [
        "#Example\n",
        "Use the format() method to insert numbers into strings:"
      ],
      "metadata": {
        "id": "lkvreYEQDNh9"
      }
    },
    {
      "cell_type": "code",
      "source": [
        "age = 18\n",
        "txt = \"My name is Joaquin, and I am {}\"\n",
        "print(txt.format(age))"
      ],
      "metadata": {
        "colab": {
          "base_uri": "https://localhost:8080/"
        },
        "id": "NGtjkCdNDONd",
        "outputId": "28146728-0c12-4a6a-c120-c80024ac4415"
      },
      "execution_count": null,
      "outputs": [
        {
          "output_type": "stream",
          "name": "stdout",
          "text": [
            "My name is Joaquin, and I am 18\n"
          ]
        }
      ]
    },
    {
      "cell_type": "markdown",
      "source": [
        "#Example"
      ],
      "metadata": {
        "id": "X2UUSBUrDtit"
      }
    },
    {
      "cell_type": "code",
      "source": [
        "quantity = 3\n",
        "itemno = 567\n",
        "price = 49.95\n",
        "myorder = \"I want {} pieces of item {} for {} dollars.\"\n",
        "print(myorder.format(quantity, itemno, price)) "
      ],
      "metadata": {
        "colab": {
          "base_uri": "https://localhost:8080/"
        },
        "id": "kyHPyAlbDubV",
        "outputId": "cf98251f-e467-4210-806a-eddd8afae456"
      },
      "execution_count": null,
      "outputs": [
        {
          "output_type": "stream",
          "name": "stdout",
          "text": [
            "I want 3 pieces of item 567 for 49.95 dollars.\n"
          ]
        }
      ]
    },
    {
      "cell_type": "markdown",
      "source": [
        "#Example"
      ],
      "metadata": {
        "id": "Ahdd5wGOEuB4"
      }
    },
    {
      "cell_type": "code",
      "source": [
        "quantity = 3\n",
        "itemno = 567\n",
        "price = 49.95\n",
        "myorder = \"I want to pay {2} dollars for {0} pieces of item {1}.\"\n",
        "print(myorder.format(quantity, itemno, price)) "
      ],
      "metadata": {
        "colab": {
          "base_uri": "https://localhost:8080/"
        },
        "id": "Adph1--sEuvk",
        "outputId": "0055a48a-dd40-4146-cbe9-6b2f3c7d0f96"
      },
      "execution_count": null,
      "outputs": [
        {
          "output_type": "stream",
          "name": "stdout",
          "text": [
            "I want to pay 49.95 dollars for 3 pieces of item 567.\n"
          ]
        }
      ]
    },
    {
      "cell_type": "markdown",
      "source": [
        "#**Python - Escape Characters**"
      ],
      "metadata": {
        "id": "fFdqbXeCFHMW"
      }
    },
    {
      "cell_type": "markdown",
      "source": [
        "#Example\n",
        "You will get an error if you use double quotes inside a string that is surrounded by double quotes:"
      ],
      "metadata": {
        "id": "Do3gWM-xFQ6l"
      }
    },
    {
      "cell_type": "code",
      "source": [
        "txt = \"We are the so-called \"Filipino\" from the Philippines.\""
      ],
      "metadata": {
        "colab": {
          "base_uri": "https://localhost:8080/",
          "height": 132
        },
        "id": "M0yvJBecIa9l",
        "outputId": "459c8a3d-427c-4c76-af9d-09588abe652e"
      },
      "execution_count": null,
      "outputs": [
        {
          "output_type": "error",
          "ename": "SyntaxError",
          "evalue": "ignored",
          "traceback": [
            "\u001b[0;36m  File \u001b[0;32m\"<ipython-input-59-4bc614800db7>\"\u001b[0;36m, line \u001b[0;32m1\u001b[0m\n\u001b[0;31m    txt = \"We are the so-called \"Filipino\" from the Philippines.\"\u001b[0m\n\u001b[0m                                        ^\u001b[0m\n\u001b[0;31mSyntaxError\u001b[0m\u001b[0;31m:\u001b[0m invalid syntax\n"
          ]
        }
      ]
    },
    {
      "cell_type": "markdown",
      "source": [
        "#Example\n",
        "The escape character allows you to use double quotes when you normally would not be allowed:"
      ],
      "metadata": {
        "id": "22njzUJzJHQa"
      }
    },
    {
      "cell_type": "code",
      "source": [
        "txt = \"We are the so-called \\\"Filipino\\\" from Philippines.\"\n",
        "print(txt) \n"
      ],
      "metadata": {
        "colab": {
          "base_uri": "https://localhost:8080/"
        },
        "id": "A3OXkcaIJIf9",
        "outputId": "593f23f2-9296-40a0-f816-a77c74625a0c"
      },
      "execution_count": null,
      "outputs": [
        {
          "output_type": "stream",
          "name": "stdout",
          "text": [
            "We are the so-called \"Filipino\" from Philippines.\n"
          ]
        }
      ]
    },
    {
      "cell_type": "markdown",
      "source": [
        "#**Python Booleans**"
      ],
      "metadata": {
        "id": "bCJ1uV4sKN0z"
      }
    },
    {
      "cell_type": "markdown",
      "source": [
        "#Example"
      ],
      "metadata": {
        "id": "81hlW_4nKRgL"
      }
    },
    {
      "cell_type": "code",
      "source": [
        "print(10 > 9)\n",
        "print(10 == 9)\n",
        "print(10 < 9)"
      ],
      "metadata": {
        "colab": {
          "base_uri": "https://localhost:8080/"
        },
        "id": "hsLmln8PKNnR",
        "outputId": "15ff952b-60b7-41f8-c069-447bb79256df"
      },
      "execution_count": null,
      "outputs": [
        {
          "output_type": "stream",
          "name": "stdout",
          "text": [
            "True\n",
            "False\n",
            "False\n"
          ]
        }
      ]
    },
    {
      "cell_type": "markdown",
      "source": [
        "#Example\n",
        "Print a message based on whether the condition is True or False:"
      ],
      "metadata": {
        "id": "8-qkJ5yJNZ1M"
      }
    },
    {
      "cell_type": "code",
      "source": [
        "a = 793\n",
        "b = 68\n",
        "\n",
        "if b > a:\n",
        "  print(\"b is greater than a\")\n",
        "else:\n",
        "  print(\"b is not greater than a\")"
      ],
      "metadata": {
        "colab": {
          "base_uri": "https://localhost:8080/"
        },
        "id": "YYP9ymYXNaZ5",
        "outputId": "adec526a-e4e3-4e1f-a37a-f97084af7b21"
      },
      "execution_count": null,
      "outputs": [
        {
          "output_type": "stream",
          "name": "stdout",
          "text": [
            "b is not greater than a\n"
          ]
        }
      ]
    },
    {
      "cell_type": "markdown",
      "source": [
        "#Example\n",
        "Evaluate a string and a number:"
      ],
      "metadata": {
        "id": "9MfOEdKqN_yL"
      }
    },
    {
      "cell_type": "code",
      "source": [
        "print(bool(\"喬萬斯\"))\n",
        "print(bool(234))"
      ],
      "metadata": {
        "colab": {
          "base_uri": "https://localhost:8080/"
        },
        "id": "pa0WvL_rOAub",
        "outputId": "4bf922ac-29d1-4898-8a96-015f61532a8d"
      },
      "execution_count": null,
      "outputs": [
        {
          "output_type": "stream",
          "name": "stdout",
          "text": [
            "True\n",
            "True\n"
          ]
        }
      ]
    },
    {
      "cell_type": "markdown",
      "source": [
        "#Example\n",
        "Evaluate two variables:"
      ],
      "metadata": {
        "id": "L0EypMCqOeGA"
      }
    },
    {
      "cell_type": "code",
      "source": [
        "x = \"喬萬斯\"\n",
        "y = 234\n",
        "\n",
        "print(bool(x))\n",
        "print(bool(y))"
      ],
      "metadata": {
        "colab": {
          "base_uri": "https://localhost:8080/"
        },
        "id": "N-2zoqxrOe6y",
        "outputId": "4ec5c398-2f3a-4464-8d1d-442ae0b0f061"
      },
      "execution_count": null,
      "outputs": [
        {
          "output_type": "stream",
          "name": "stdout",
          "text": [
            "True\n",
            "True\n"
          ]
        }
      ]
    },
    {
      "cell_type": "markdown",
      "source": [
        "#Example\n",
        "The following will return True:"
      ],
      "metadata": {
        "id": "6rpftOBNPgxJ"
      }
    },
    {
      "cell_type": "code",
      "source": [
        "print(bool(\"ZED\"))\n",
        "print(bool(369))\n",
        "print(bool([\"anger\", \"fear\", \"sadness\"]))"
      ],
      "metadata": {
        "colab": {
          "base_uri": "https://localhost:8080/"
        },
        "id": "yqVcmddfPi2E",
        "outputId": "0b4ccd3e-be05-4e48-8d21-2f57ac9cd0ce"
      },
      "execution_count": null,
      "outputs": [
        {
          "output_type": "stream",
          "name": "stdout",
          "text": [
            "True\n",
            "True\n",
            "True\n"
          ]
        }
      ]
    },
    {
      "cell_type": "markdown",
      "source": [
        "#Example\n",
        "The following will return False:"
      ],
      "metadata": {
        "id": "gd2S_ojuRDzW"
      }
    },
    {
      "cell_type": "code",
      "source": [
        "print(bool(False))\n",
        "print(bool(None))\n",
        "print(bool(0))\n",
        "print(bool(\"\"))\n",
        "print(bool(()))\n",
        "print(bool([]))\n",
        "print(bool({}))"
      ],
      "metadata": {
        "colab": {
          "base_uri": "https://localhost:8080/"
        },
        "id": "fvyxZAR0RFbI",
        "outputId": "e4cca707-4b8f-4b47-e7ad-aa6fb15396f0"
      },
      "execution_count": null,
      "outputs": [
        {
          "output_type": "stream",
          "name": "stdout",
          "text": [
            "False\n",
            "False\n",
            "False\n",
            "False\n",
            "False\n",
            "False\n",
            "False\n"
          ]
        }
      ]
    },
    {
      "cell_type": "markdown",
      "source": [
        "#Example\n"
      ],
      "metadata": {
        "id": "uoP5HSHXSGt_"
      }
    },
    {
      "cell_type": "code",
      "source": [
        "class myclass():\n",
        "  def __len__(self):\n",
        "    return 0\n",
        "\n",
        "myobj = myclass()\n",
        "print(bool(myobj))"
      ],
      "metadata": {
        "colab": {
          "base_uri": "https://localhost:8080/"
        },
        "id": "1IBuVMbeSEHn",
        "outputId": "6f0ba85d-8761-4f91-edfb-f69e3ddb2515"
      },
      "execution_count": null,
      "outputs": [
        {
          "output_type": "stream",
          "name": "stdout",
          "text": [
            "False\n"
          ]
        }
      ]
    },
    {
      "cell_type": "markdown",
      "source": [
        "#Example\n",
        "Print the answer of a function:"
      ],
      "metadata": {
        "id": "By3FNnwYSl0P"
      }
    },
    {
      "cell_type": "code",
      "source": [
        "def myFunction() :\n",
        "  return True\n",
        "\n",
        "print(myFunction())"
      ],
      "metadata": {
        "colab": {
          "base_uri": "https://localhost:8080/"
        },
        "id": "ORtg5haxSmhZ",
        "outputId": "790d0b46-9402-4d73-d80a-22590399fc3a"
      },
      "execution_count": null,
      "outputs": [
        {
          "output_type": "stream",
          "name": "stdout",
          "text": [
            "True\n"
          ]
        }
      ]
    },
    {
      "cell_type": "markdown",
      "source": [
        "#Example\n",
        "Print \"YES!\" if the function returns True, otherwise print \"NO!\":"
      ],
      "metadata": {
        "id": "nf1eVM49S9xo"
      }
    },
    {
      "cell_type": "code",
      "source": [
        "def myFunction() :\n",
        "  return True\n",
        "\n",
        "if myFunction():\n",
        "  print(\"YES!\")\n",
        "else:\n",
        "  print(\"NO!\")\n"
      ],
      "metadata": {
        "colab": {
          "base_uri": "https://localhost:8080/"
        },
        "id": "-NUjNGnaS_ie",
        "outputId": "6b37642e-538b-4092-ad3c-bda60c627ec9"
      },
      "execution_count": null,
      "outputs": [
        {
          "output_type": "stream",
          "name": "stdout",
          "text": [
            "YES!\n"
          ]
        }
      ]
    },
    {
      "cell_type": "markdown",
      "source": [
        "#Example\n",
        "Check if an object is an integer or not:"
      ],
      "metadata": {
        "id": "vIiG7oHDTUKo"
      }
    },
    {
      "cell_type": "code",
      "source": [
        "x = 937\n",
        "print(isinstance(x, int))"
      ],
      "metadata": {
        "id": "tHWdweJVTVyW",
        "outputId": "0b4af2bf-8115-46e6-c966-4357d14868c2",
        "colab": {
          "base_uri": "https://localhost:8080/"
        }
      },
      "execution_count": null,
      "outputs": [
        {
          "output_type": "stream",
          "name": "stdout",
          "text": [
            "True\n"
          ]
        }
      ]
    },
    {
      "cell_type": "markdown",
      "source": [
        "#Example\n"
      ],
      "metadata": {
        "id": "Dy-dKyRb4nRK"
      }
    },
    {
      "cell_type": "code",
      "source": [
        "print(9734 + 7328)"
      ],
      "metadata": {
        "colab": {
          "base_uri": "https://localhost:8080/"
        },
        "id": "EverXtBm4lM4",
        "outputId": "79eacc22-17d4-496e-eda2-e2cb92694bc5"
      },
      "execution_count": null,
      "outputs": [
        {
          "output_type": "stream",
          "name": "stdout",
          "text": [
            "17062\n"
          ]
        }
      ]
    },
    {
      "cell_type": "markdown",
      "source": [
        "#**Python Lists**"
      ],
      "metadata": {
        "id": "pU7XwihwaM5R"
      }
    },
    {
      "cell_type": "markdown",
      "source": [
        "# Example\n",
        "Create a List:"
      ],
      "metadata": {
        "id": "G5giNX2saUvG"
      }
    },
    {
      "cell_type": "code",
      "source": [
        "thislist = [\"anger\", \"fear\", \"sadness\"]\n",
        "print(thislist)"
      ],
      "metadata": {
        "colab": {
          "base_uri": "https://localhost:8080/"
        },
        "id": "UPNdQTM0aRsD",
        "outputId": "2293ed1e-bd98-44cf-eb45-70ae4b297476"
      },
      "execution_count": null,
      "outputs": [
        {
          "output_type": "stream",
          "name": "stdout",
          "text": [
            "['anger', 'fear', 'sadness']\n"
          ]
        }
      ]
    },
    {
      "cell_type": "markdown",
      "source": [
        "#Example\n",
        "Lists allow duplicate values:"
      ],
      "metadata": {
        "id": "m-xojuK0kXqt"
      }
    },
    {
      "cell_type": "code",
      "source": [
        "thislist = [\"anger\", \"fear\", \"sadness\", \"anger\", \"sadness\"]\n",
        "\n",
        "print(thislist)"
      ],
      "metadata": {
        "colab": {
          "base_uri": "https://localhost:8080/"
        },
        "id": "UM8NWST2kYj2",
        "outputId": "f722fd35-7f48-4f4e-d927-4aec281e93d0"
      },
      "execution_count": null,
      "outputs": [
        {
          "output_type": "stream",
          "name": "stdout",
          "text": [
            "['anger', 'fear', 'sadness', 'anger', 'sadness']\n"
          ]
        }
      ]
    },
    {
      "cell_type": "markdown",
      "source": [
        "#Example\n",
        "Print the number of items in the list:"
      ],
      "metadata": {
        "id": "1GE_V23_mIMK"
      }
    },
    {
      "cell_type": "code",
      "source": [
        "thislist = [\"anger\", \"fear\", \"sadness\"]\n",
        "print(len(thislist))"
      ],
      "metadata": {
        "colab": {
          "base_uri": "https://localhost:8080/"
        },
        "id": "JDINDeOMmI8B",
        "outputId": "df4c6141-ee4e-430a-d1ac-263cda8dcaf3"
      },
      "execution_count": null,
      "outputs": [
        {
          "output_type": "stream",
          "name": "stdout",
          "text": [
            "3\n"
          ]
        }
      ]
    },
    {
      "cell_type": "markdown",
      "source": [
        "#Example\n",
        "String, int and boolean data types:"
      ],
      "metadata": {
        "id": "USCbJXqsnzA0"
      }
    },
    {
      "cell_type": "code",
      "source": [
        "list1 = [\"anger\", \"fear\", \"sadness\"]\n",
        "list2 = [3, 6, 7, 9, 12]\n",
        "list3 = [True, False, False]\n",
        "\n",
        "print(list1)\n",
        "print(list2)\n",
        "print(list3)"
      ],
      "metadata": {
        "colab": {
          "base_uri": "https://localhost:8080/"
        },
        "id": "cqPKOaOdnzzc",
        "outputId": "3c915e06-b56f-41a1-fd93-46152d6d6791"
      },
      "execution_count": null,
      "outputs": [
        {
          "output_type": "stream",
          "name": "stdout",
          "text": [
            "['anger', 'fear', 'sadness']\n",
            "[3, 6, 7, 9, 12]\n",
            "[True, False, False]\n"
          ]
        }
      ]
    },
    {
      "cell_type": "markdown",
      "source": [
        "#Example\n",
        "A list with strings, integers and boolean values:"
      ],
      "metadata": {
        "id": "lqhTaQDuogUh"
      }
    },
    {
      "cell_type": "code",
      "source": [
        "list1 = [\"zyx\", 34, True,  68, \"喬萬斯\"]\n",
        "\n",
        "print(list1)"
      ],
      "metadata": {
        "colab": {
          "base_uri": "https://localhost:8080/"
        },
        "id": "v2_bnKJNoheN",
        "outputId": "63b3d715-6d17-41fe-9b77-1025afca3eed"
      },
      "execution_count": null,
      "outputs": [
        {
          "output_type": "stream",
          "name": "stdout",
          "text": [
            "['zyx', 34, True, 68, '喬萬斯']\n"
          ]
        }
      ]
    },
    {
      "cell_type": "markdown",
      "source": [
        "#Example\n",
        "What is the data type of a list?"
      ],
      "metadata": {
        "id": "cc4VcojEp0ZD"
      }
    },
    {
      "cell_type": "code",
      "source": [
        "mylist = [\"anger\", \"fear\", \"sadness\"]\n",
        "\n",
        "print(type(mylist))"
      ],
      "metadata": {
        "colab": {
          "base_uri": "https://localhost:8080/"
        },
        "id": "kHJ_cwypp1fn",
        "outputId": "3c7d3d99-798c-4dd6-fbfb-b834ab12832a"
      },
      "execution_count": null,
      "outputs": [
        {
          "output_type": "stream",
          "name": "stdout",
          "text": [
            "<class 'list'>\n"
          ]
        }
      ]
    },
    {
      "cell_type": "markdown",
      "source": [
        "#Example\n",
        "Using the list() constructor to make a List:"
      ],
      "metadata": {
        "id": "nav8Fkh6ql-b"
      }
    },
    {
      "cell_type": "code",
      "source": [
        "thislist = list((\"anger\", \"fear\", \"sadness\"))\n",
        "print(thislist)\n"
      ],
      "metadata": {
        "colab": {
          "base_uri": "https://localhost:8080/"
        },
        "id": "SuV1Xa7Hqm00",
        "outputId": "21776099-8571-434a-cce8-8e1ac874f201"
      },
      "execution_count": null,
      "outputs": [
        {
          "output_type": "stream",
          "name": "stdout",
          "text": [
            "['anger', 'fear', 'sadness']\n"
          ]
        }
      ]
    },
    {
      "cell_type": "markdown",
      "source": [
        "#**Python - Access List Items**"
      ],
      "metadata": {
        "id": "nfjPxNQ87L01"
      }
    },
    {
      "cell_type": "markdown",
      "source": [
        "#Example\n",
        "Print the second item of the list:"
      ],
      "metadata": {
        "id": "DOr0oQzytUzs"
      }
    },
    {
      "cell_type": "code",
      "source": [
        "thislist = [\"anger\", \"fear\", \"sadness\"]\n",
        "print(thislist[1])"
      ],
      "metadata": {
        "colab": {
          "base_uri": "https://localhost:8080/"
        },
        "id": "SsD3bTgJtVg-",
        "outputId": "7f9d1216-e4b1-4c8f-ef9b-2d8c22fb893b"
      },
      "execution_count": null,
      "outputs": [
        {
          "output_type": "stream",
          "name": "stdout",
          "text": [
            "fear\n"
          ]
        }
      ]
    },
    {
      "cell_type": "markdown",
      "source": [
        "#Example\n",
        "Print the last item of the list:"
      ],
      "metadata": {
        "id": "1c32w5KAt8WM"
      }
    },
    {
      "cell_type": "code",
      "source": [
        "thislist = [\"anger\", \"fear\", \"sadness\"]\n",
        "print(thislist[-1])"
      ],
      "metadata": {
        "colab": {
          "base_uri": "https://localhost:8080/"
        },
        "id": "1wo9m3WOt87m",
        "outputId": "6c50c1cd-3c90-4283-cdd2-f7b76c20780e"
      },
      "execution_count": null,
      "outputs": [
        {
          "output_type": "stream",
          "name": "stdout",
          "text": [
            "sadness\n"
          ]
        }
      ]
    },
    {
      "cell_type": "markdown",
      "source": [
        "#Example\n",
        "Return the third, fourth, and fifth item:"
      ],
      "metadata": {
        "id": "5Xo9FPGmvPbT"
      }
    },
    {
      "cell_type": "code",
      "source": [
        "thislist = [\"anger\", \"fear\", \"sadness\", \"happiness\", \"surprise\", \"disgust\", \"trust\"]\n",
        "print(thislist[2:5])"
      ],
      "metadata": {
        "colab": {
          "base_uri": "https://localhost:8080/"
        },
        "id": "9zfSGjRQvQM8",
        "outputId": "879a57fe-9782-4c3f-da66-04703628f732"
      },
      "execution_count": null,
      "outputs": [
        {
          "output_type": "stream",
          "name": "stdout",
          "text": [
            "['sadness', 'hapiness', 'surprise']\n"
          ]
        }
      ]
    },
    {
      "cell_type": "markdown",
      "source": [
        "#Example\n",
        "This example returns the items from the beginning to, but NOT including, \"surprise\":"
      ],
      "metadata": {
        "id": "1oGLt7uwwrGV"
      }
    },
    {
      "cell_type": "code",
      "source": [
        "thislist = [\"anger\", \"fear\", \"sadness\", \"happiness\", \"surprise\", \"disgust\", \"trust\"]\n",
        "print(thislist[:4])\n"
      ],
      "metadata": {
        "colab": {
          "base_uri": "https://localhost:8080/"
        },
        "id": "s0FYFNdgwsfI",
        "outputId": "50a489b3-1d75-4a33-d91d-cece5aee0e58"
      },
      "execution_count": null,
      "outputs": [
        {
          "output_type": "stream",
          "name": "stdout",
          "text": [
            "['anger', 'fear', 'sadness', 'happiness']\n"
          ]
        }
      ]
    },
    {
      "cell_type": "markdown",
      "source": [
        "#Example\n",
        "This example returns the items from \"sadness\" to the end:\n",
        "\n"
      ],
      "metadata": {
        "id": "F0ZYCHsqxu2W"
      }
    },
    {
      "cell_type": "code",
      "source": [
        "thislist = [\"anger\", \"fear\", \"sadness\", \"happiness\", \"surprise\", \"disgust\", \"trust\"]\n",
        "print(thislist[2:])\n"
      ],
      "metadata": {
        "colab": {
          "base_uri": "https://localhost:8080/"
        },
        "id": "ZFIgT93Cxvge",
        "outputId": "9a184724-2a5a-4c57-e4a1-6a836e76488b"
      },
      "execution_count": null,
      "outputs": [
        {
          "output_type": "stream",
          "name": "stdout",
          "text": [
            "['sadness', 'happiness', 'surprise', 'disgust', 'trust']\n"
          ]
        }
      ]
    },
    {
      "cell_type": "markdown",
      "source": [
        "#Example\n",
        "This example returns the items from \"happiness\" (-4) to, but NOT including \"trust\" (-1):"
      ],
      "metadata": {
        "id": "XNxSJyveyURF"
      }
    },
    {
      "cell_type": "code",
      "source": [
        "thislist = [\"anger\", \"fear\", \"sadness\", \"happiness\", \"surprise\", \"disgust\", \"trust\"]\n",
        "print(thislist[-4:-1])"
      ],
      "metadata": {
        "colab": {
          "base_uri": "https://localhost:8080/"
        },
        "id": "Kya9YRwoyVFJ",
        "outputId": "540b4588-fcc2-428a-c657-2a1cd1f3113a"
      },
      "execution_count": null,
      "outputs": [
        {
          "output_type": "stream",
          "name": "stdout",
          "text": [
            "['happiness', 'surprise', 'disgust']\n"
          ]
        }
      ]
    },
    {
      "cell_type": "markdown",
      "source": [
        "#Example\n",
        "Check if \"apple\" is present in the list:"
      ],
      "metadata": {
        "id": "0zLomAg-6lPm"
      }
    },
    {
      "cell_type": "code",
      "source": [
        "thislist = [\"anger\", \"fear\", \"sadness\"]\n",
        "if \"anger\" in thislist:\n",
        "  print(\"Yes, 'anger' is in the emotion list\")"
      ],
      "metadata": {
        "colab": {
          "base_uri": "https://localhost:8080/"
        },
        "id": "8UF1KkQh6mAn",
        "outputId": "730efe4c-b475-4d6f-fa45-75019de7ff70"
      },
      "execution_count": null,
      "outputs": [
        {
          "output_type": "stream",
          "name": "stdout",
          "text": [
            "Yes, 'anger' is in the emotion list\n"
          ]
        }
      ]
    },
    {
      "cell_type": "markdown",
      "source": [
        "#**Python - Change List Items**"
      ],
      "metadata": {
        "id": "ysUCOadS7S55"
      }
    },
    {
      "cell_type": "markdown",
      "source": [
        "#Example\n",
        "Change the second item:"
      ],
      "metadata": {
        "id": "MmcUIGPz7l5B"
      }
    },
    {
      "cell_type": "code",
      "source": [
        "thislist = [\"anger\", \"fear\", \"sadness\"]\n",
        "thislist[1] = \"happiness\"\n",
        "\n",
        "print(thislist)\n"
      ],
      "metadata": {
        "colab": {
          "base_uri": "https://localhost:8080/"
        },
        "id": "bmTL3mMv7URZ",
        "outputId": "74848aa2-a3ad-4a05-a8ce-1585b29d407a"
      },
      "execution_count": null,
      "outputs": [
        {
          "output_type": "stream",
          "name": "stdout",
          "text": [
            "['anger', 'happiness', 'sadness']\n"
          ]
        }
      ]
    },
    {
      "cell_type": "markdown",
      "source": [
        "#Example\n",
        "Change the values \"fear\" and \"sadness\" with the values \"trust\" and \"anticipation\":"
      ],
      "metadata": {
        "id": "N_BK1LTs8My4"
      }
    },
    {
      "cell_type": "code",
      "source": [
        "thislist = [\"anger\", \"fear\", \"sadness\", \"happiness\", \"surprise\", \"disgust\"]\n",
        "\n",
        "thislist[1:3] = [\"trust\", \"anticipation\"]\n",
        "\n",
        "print(thislist)"
      ],
      "metadata": {
        "colab": {
          "base_uri": "https://localhost:8080/"
        },
        "id": "VL02SpU38ODx",
        "outputId": "daeeb632-2a2b-40fd-bada-f96d24080bf8"
      },
      "execution_count": null,
      "outputs": [
        {
          "output_type": "stream",
          "name": "stdout",
          "text": [
            "['anger', 'trust', 'anticipation', 'happiness', 'surprise', 'disgust']\n"
          ]
        }
      ]
    },
    {
      "cell_type": "markdown",
      "source": [
        "#Example\n",
        "Change the second value by replacing it with two new values:"
      ],
      "metadata": {
        "id": "c0nCLamt-Qdd"
      }
    },
    {
      "cell_type": "code",
      "source": [
        "thislist = [\"anger\", \"fear\", \"sadness\"]\n",
        "\n",
        "thislist[1:2] = [\"trust\", \"anticipation\"]\n",
        "\n",
        "print(thislist)"
      ],
      "metadata": {
        "colab": {
          "base_uri": "https://localhost:8080/"
        },
        "id": "qgmYYQba-ZCU",
        "outputId": "ecbcf244-eeae-445e-8ed4-cfcddc4734e0"
      },
      "execution_count": null,
      "outputs": [
        {
          "output_type": "stream",
          "name": "stdout",
          "text": [
            "['anger', 'trust', 'anticipation', 'sadness']\n"
          ]
        }
      ]
    },
    {
      "cell_type": "markdown",
      "source": [
        "#Example\n",
        "Change the second and third value by replacing it with one value:"
      ],
      "metadata": {
        "id": "lGaKnAR__Lny"
      }
    },
    {
      "cell_type": "code",
      "source": [
        "thislist = [\"anger\", \"fear\", \"sadness\"]\n",
        "\n",
        "thislist[1:3] = [\"trust\"]\n",
        "\n",
        "print(thislist)\n"
      ],
      "metadata": {
        "colab": {
          "base_uri": "https://localhost:8080/"
        },
        "id": "CB1GZwRU_MhP",
        "outputId": "f2f95f03-56ac-4e72-9e66-24c6f705f097"
      },
      "execution_count": null,
      "outputs": [
        {
          "output_type": "stream",
          "name": "stdout",
          "text": [
            "['anger', 'trust']\n"
          ]
        }
      ]
    },
    {
      "cell_type": "markdown",
      "source": [
        "#Example\n",
        "Insert \"trust\" as the third item:"
      ],
      "metadata": {
        "id": "4ioc6D7a_xo7"
      }
    },
    {
      "cell_type": "code",
      "source": [
        "thislist = [\"anger\", \"fear\", \"sadness\"]\n",
        "\n",
        "thislist.insert(2, \"trust\")\n",
        "\n",
        "print(thislist)"
      ],
      "metadata": {
        "colab": {
          "base_uri": "https://localhost:8080/"
        },
        "id": "jGgeW8bs_yP8",
        "outputId": "b06e7b95-80a3-490b-939c-bb3fe6cda4ed"
      },
      "execution_count": null,
      "outputs": [
        {
          "output_type": "stream",
          "name": "stdout",
          "text": [
            "['anger', 'fear', 'trust', 'sadness']\n"
          ]
        }
      ]
    },
    {
      "cell_type": "markdown",
      "source": [
        "#**Python - Add List Items**"
      ],
      "metadata": {
        "id": "N72HejyDAmLv"
      }
    },
    {
      "cell_type": "markdown",
      "source": [
        "#Example\n",
        "Using the append() method to append an item:"
      ],
      "metadata": {
        "id": "9EWafhKXAoJ1"
      }
    },
    {
      "cell_type": "code",
      "source": [
        "thislist = [\"anger\", \"fear\", \"sadness\"]\n",
        "\n",
        "thislist.append(\"surprise\")\n",
        "\n",
        "print(thislist)"
      ],
      "metadata": {
        "colab": {
          "base_uri": "https://localhost:8080/"
        },
        "id": "1yWBihSgAn9a",
        "outputId": "5a40b63e-fa51-4046-d4c2-29cfb7f9f32c"
      },
      "execution_count": null,
      "outputs": [
        {
          "output_type": "stream",
          "name": "stdout",
          "text": [
            "['anger', 'fear', 'sadness', 'surprise']\n"
          ]
        }
      ]
    },
    {
      "cell_type": "markdown",
      "source": [
        "#Example\n",
        "Insert an item as the second position:"
      ],
      "metadata": {
        "id": "d_UpH1MVHkuT"
      }
    },
    {
      "cell_type": "code",
      "source": [
        "thislist = [\"anger\", \"fear\", \"sadness\"]\n",
        "thislist.insert(1, \"surprise\")\n",
        "print(thislist)"
      ],
      "metadata": {
        "colab": {
          "base_uri": "https://localhost:8080/"
        },
        "id": "qe08OfXaHlZm",
        "outputId": "62205231-dcd4-4a5f-9cc1-cb19032e7655"
      },
      "execution_count": null,
      "outputs": [
        {
          "output_type": "stream",
          "name": "stdout",
          "text": [
            "['anger', 'surprise', 'fear', 'sadness']\n"
          ]
        }
      ]
    },
    {
      "cell_type": "markdown",
      "source": [
        "#Example\n",
        "Add the elements of emottion\n",
        " to thislist:"
      ],
      "metadata": {
        "id": "kgdXD6JyIdhm"
      }
    },
    {
      "cell_type": "code",
      "source": [
        "thislist = [\"anger\", \"fear\", \"sadness\"]\n",
        "emotion = [\"happiness\", \"surprise\", \"disgust\"]\n",
        "\n",
        "thislist.extend(emotion)\n",
        "\n",
        "print(thislist)\n"
      ],
      "metadata": {
        "colab": {
          "base_uri": "https://localhost:8080/"
        },
        "id": "l7t3bf6JIeNV",
        "outputId": "beccea47-8a13-4712-9552-2819c3fdc519"
      },
      "execution_count": null,
      "outputs": [
        {
          "output_type": "stream",
          "name": "stdout",
          "text": [
            "['anger', 'fear', 'sadness', 'happiness', 'surprise', 'disgust']\n"
          ]
        }
      ]
    },
    {
      "cell_type": "markdown",
      "source": [
        "#Example\n",
        "Add elements of a tuple to a list:"
      ],
      "metadata": {
        "id": "9JNr_55ZKa8I"
      }
    },
    {
      "cell_type": "code",
      "source": [
        "thislist = [\"anger\", \"fear\", \"sadness\"]\n",
        "thistuple = (\"happiness\", \"surprise\")\n",
        "\n",
        "thislist.extend(thistuple)\n",
        "\n",
        "print(thislist)"
      ],
      "metadata": {
        "colab": {
          "base_uri": "https://localhost:8080/"
        },
        "id": "Y2gwCxrTKdVE",
        "outputId": "964a7206-df05-4f3c-a9c2-aeebd695b6c4"
      },
      "execution_count": null,
      "outputs": [
        {
          "output_type": "stream",
          "name": "stdout",
          "text": [
            "['anger', 'fear', 'sadness', 'happiness', 'surprise']\n"
          ]
        }
      ]
    },
    {
      "cell_type": "markdown",
      "source": [
        "#**Python - Remove List Items**"
      ],
      "metadata": {
        "id": "RxlFk_U0NnUw"
      }
    },
    {
      "cell_type": "markdown",
      "source": [
        "#Example\n",
        "Remove \"banana\":"
      ],
      "metadata": {
        "id": "7N18O7U9NnYq"
      }
    },
    {
      "cell_type": "code",
      "source": [
        "thislist = [\"anger\", \"fear\", \"sadness\"]\n",
        "thislist.remove(\"fear\")\n",
        "print(thislist)"
      ],
      "metadata": {
        "colab": {
          "base_uri": "https://localhost:8080/"
        },
        "id": "9F7grgapNskw",
        "outputId": "473aca91-f9cd-42f9-800b-7c960f5032cb"
      },
      "execution_count": null,
      "outputs": [
        {
          "output_type": "stream",
          "name": "stdout",
          "text": [
            "['anger', 'sadness']\n"
          ]
        }
      ]
    },
    {
      "cell_type": "markdown",
      "source": [
        "#Example\n",
        "Remove the second item:"
      ],
      "metadata": {
        "id": "xlc2GHaVOIDi"
      }
    },
    {
      "cell_type": "code",
      "source": [
        "thislist = [\"anger\", \"fear\", \"sadness\"]\n",
        "thislist.pop(1)\n",
        "print(thislist)\n"
      ],
      "metadata": {
        "colab": {
          "base_uri": "https://localhost:8080/"
        },
        "id": "Y8HgQjbOOIgj",
        "outputId": "46591286-0789-441f-bf83-a14771d429b2"
      },
      "execution_count": null,
      "outputs": [
        {
          "output_type": "stream",
          "name": "stdout",
          "text": [
            "['anger', 'sadness']\n"
          ]
        }
      ]
    },
    {
      "cell_type": "markdown",
      "source": [
        "#Example\n",
        "Remove the last item:"
      ],
      "metadata": {
        "id": "W3lanXNyOx-W"
      }
    },
    {
      "cell_type": "code",
      "source": [
        "thislist = [\"anger\", \"fear\", \"sadness\"]\n",
        "thislist.pop()\n",
        "print(thislist)\n"
      ],
      "metadata": {
        "colab": {
          "base_uri": "https://localhost:8080/"
        },
        "id": "4gM8B_u0Oyr-",
        "outputId": "38af7fdd-89a0-443c-a9e4-24a78a44df11"
      },
      "execution_count": null,
      "outputs": [
        {
          "output_type": "stream",
          "name": "stdout",
          "text": [
            "['anger', 'fear']\n"
          ]
        }
      ]
    },
    {
      "cell_type": "markdown",
      "source": [
        "#Example\n",
        "Remove the first item:"
      ],
      "metadata": {
        "id": "5V7dwX0CPRZf"
      }
    },
    {
      "cell_type": "code",
      "source": [
        "thislist = [\"anger\", \"fear\", \"sadness\"]\n",
        "del thislist[0]\n",
        "print(thislist)\n"
      ],
      "metadata": {
        "colab": {
          "base_uri": "https://localhost:8080/"
        },
        "id": "52voLZzyPR8a",
        "outputId": "78db6be8-4380-4fef-e363-73347af4895b"
      },
      "execution_count": null,
      "outputs": [
        {
          "output_type": "stream",
          "name": "stdout",
          "text": [
            "['fear', 'sadness']\n"
          ]
        }
      ]
    },
    {
      "cell_type": "markdown",
      "source": [
        "#Example\n",
        "Delete the entire list:"
      ],
      "metadata": {
        "id": "2CGL4oCWPnQq"
      }
    },
    {
      "cell_type": "code",
      "source": [
        "thislist = [\"anger\", \"fear\", \"sadness\"]\n",
        "del thislist\n",
        "print(thislist)"
      ],
      "metadata": {
        "colab": {
          "base_uri": "https://localhost:8080/",
          "height": 201
        },
        "id": "MxG8znRoPnwo",
        "outputId": "e0607151-751a-4832-d94d-0f43b497f455"
      },
      "execution_count": null,
      "outputs": [
        {
          "output_type": "error",
          "ename": "NameError",
          "evalue": "ignored",
          "traceback": [
            "\u001b[0;31m---------------------------------------------------------------------------\u001b[0m",
            "\u001b[0;31mNameError\u001b[0m                                 Traceback (most recent call last)",
            "\u001b[0;32m<ipython-input-40-a03aaca960bc>\u001b[0m in \u001b[0;36m<module>\u001b[0;34m\u001b[0m\n\u001b[1;32m      1\u001b[0m \u001b[0mthislist\u001b[0m \u001b[0;34m=\u001b[0m \u001b[0;34m[\u001b[0m\u001b[0;34m\"anger\"\u001b[0m\u001b[0;34m,\u001b[0m \u001b[0;34m\"fear\"\u001b[0m\u001b[0;34m,\u001b[0m \u001b[0;34m\"sadness\"\u001b[0m\u001b[0;34m]\u001b[0m\u001b[0;34m\u001b[0m\u001b[0;34m\u001b[0m\u001b[0m\n\u001b[1;32m      2\u001b[0m \u001b[0;32mdel\u001b[0m \u001b[0mthislist\u001b[0m\u001b[0;34m\u001b[0m\u001b[0;34m\u001b[0m\u001b[0m\n\u001b[0;32m----> 3\u001b[0;31m \u001b[0mprint\u001b[0m\u001b[0;34m(\u001b[0m\u001b[0mthislist\u001b[0m\u001b[0;34m)\u001b[0m\u001b[0;34m\u001b[0m\u001b[0;34m\u001b[0m\u001b[0m\n\u001b[0m",
            "\u001b[0;31mNameError\u001b[0m: name 'thislist' is not defined"
          ]
        }
      ]
    },
    {
      "cell_type": "markdown",
      "source": [
        "#Example\n",
        "Clear the list content:"
      ],
      "metadata": {
        "id": "JXR4m5KAQGlY"
      }
    },
    {
      "cell_type": "code",
      "source": [
        "thislist = [\"anger\", \"fear\", \"sadness\"]\n",
        "thislist.clear()\n",
        "print(thislist)"
      ],
      "metadata": {
        "colab": {
          "base_uri": "https://localhost:8080/"
        },
        "id": "QsxELf4nQHKV",
        "outputId": "1e318d4a-f261-4311-beaa-e4eaae4355bc"
      },
      "execution_count": null,
      "outputs": [
        {
          "output_type": "stream",
          "name": "stdout",
          "text": [
            "[]\n"
          ]
        }
      ]
    },
    {
      "cell_type": "markdown",
      "source": [
        "#**Python - Loop Lists**"
      ],
      "metadata": {
        "id": "BSWKYlw8ROX6"
      }
    },
    {
      "cell_type": "markdown",
      "source": [
        "#Loop Through a List"
      ],
      "metadata": {
        "id": "nVK3JtVGTuhS"
      }
    },
    {
      "cell_type": "markdown",
      "source": [
        "#Example\n",
        "Print all items in the list, one by one:"
      ],
      "metadata": {
        "id": "tw8Crfc7RS2R"
      }
    },
    {
      "cell_type": "code",
      "source": [
        "thislist = [\"anger\", \"fear\", \"sadness\"]\n",
        "for x in thislist:\n",
        "  print(x)\n"
      ],
      "metadata": {
        "colab": {
          "base_uri": "https://localhost:8080/"
        },
        "id": "xZWYMUwdRSrs",
        "outputId": "8692f558-1183-4603-9ae8-9e41f136847f"
      },
      "execution_count": null,
      "outputs": [
        {
          "output_type": "stream",
          "name": "stdout",
          "text": [
            "anger\n",
            "fear\n",
            "sadness\n"
          ]
        }
      ]
    },
    {
      "cell_type": "markdown",
      "source": [
        "#Loop Through the Index Numbers"
      ],
      "metadata": {
        "id": "_9pnvehjT2Br"
      }
    },
    {
      "cell_type": "markdown",
      "source": [
        "#Example\n",
        "Print all items by referring to their index number:"
      ],
      "metadata": {
        "id": "dO6xX80wSaSR"
      }
    },
    {
      "cell_type": "code",
      "source": [
        "thislist = [\"anger\", \"fear\", \"sadness\"]\n",
        "for i in range(len(thislist)):\n",
        "  print(thislist[i])"
      ],
      "metadata": {
        "colab": {
          "base_uri": "https://localhost:8080/"
        },
        "id": "whlDsSa8SbWD",
        "outputId": "43572753-c798-46a0-d52e-8b58cc8fe871"
      },
      "execution_count": null,
      "outputs": [
        {
          "output_type": "stream",
          "name": "stdout",
          "text": [
            "anger\n",
            "fear\n",
            "sadness\n"
          ]
        }
      ]
    },
    {
      "cell_type": "markdown",
      "source": [
        "#Using a While Loop"
      ],
      "metadata": {
        "id": "fU4xntcET6MQ"
      }
    },
    {
      "cell_type": "markdown",
      "source": [
        "#Example\n",
        "Print all items, using a while loop to go through all the index numbers"
      ],
      "metadata": {
        "id": "CmRUCCEATYtV"
      }
    },
    {
      "cell_type": "code",
      "source": [
        "thislist = [\"anger\", \"fear\", \"sadness\"]\n",
        "i = 0\n",
        "while i < len(thislist):\n",
        "  print(thislist[i])\n",
        "  i = i + 1\n"
      ],
      "metadata": {
        "colab": {
          "base_uri": "https://localhost:8080/"
        },
        "id": "x3HC9zq4TZh0",
        "outputId": "d8606182-3918-46e6-b2b2-0508faa2ffcf"
      },
      "execution_count": null,
      "outputs": [
        {
          "output_type": "stream",
          "name": "stdout",
          "text": [
            "anger\n",
            "fear\n",
            "sadness\n"
          ]
        }
      ]
    },
    {
      "cell_type": "markdown",
      "source": [
        "#Looping Using List Comprehension"
      ],
      "metadata": {
        "id": "Rz3IPsk7T-BZ"
      }
    },
    {
      "cell_type": "markdown",
      "source": [
        "#Example\n",
        "A short hand for loop that will print all items in a list:"
      ],
      "metadata": {
        "id": "qTbJWLVEUMhV"
      }
    },
    {
      "cell_type": "code",
      "source": [
        "thislist = [\"anger\", \"fear\", \"sadness\"]\n",
        "[print(x) for x in thislist]"
      ],
      "metadata": {
        "colab": {
          "base_uri": "https://localhost:8080/"
        },
        "id": "oktu-BCPUNqB",
        "outputId": "8ea46f57-98d6-433c-dee6-c714e1befcc6"
      },
      "execution_count": null,
      "outputs": [
        {
          "output_type": "stream",
          "name": "stdout",
          "text": [
            "anger\n",
            "fear\n",
            "sadness\n"
          ]
        },
        {
          "output_type": "execute_result",
          "data": {
            "text/plain": [
              "[None, None, None]"
            ]
          },
          "metadata": {},
          "execution_count": 46
        }
      ]
    },
    {
      "cell_type": "markdown",
      "source": [
        "#**Python - List Comprehension**"
      ],
      "metadata": {
        "id": "kTbk83ncU1oM"
      }
    },
    {
      "cell_type": "markdown",
      "source": [
        "#List Comprehension"
      ],
      "metadata": {
        "id": "uXmzZj_gWHz-"
      }
    },
    {
      "cell_type": "markdown",
      "source": [
        "#Example"
      ],
      "metadata": {
        "id": "CSWx0dF-U4A6"
      }
    },
    {
      "cell_type": "code",
      "source": [
        "emotiions = [\"anger\", \"fear\", \"sadness\", \"happiness\", \"surprise\"]\n",
        "newlist = []\n",
        "\n",
        "for x in emotiions:\n",
        "  if \"a\" in x:\n",
        "    newlist.append(x)\n",
        "\n",
        "print(newlist)"
      ],
      "metadata": {
        "colab": {
          "base_uri": "https://localhost:8080/"
        },
        "id": "gAI4_V2vU3uK",
        "outputId": "f1d2f0ee-1cd5-457d-c7e5-9bea2a4206fb"
      },
      "execution_count": null,
      "outputs": [
        {
          "output_type": "stream",
          "name": "stdout",
          "text": [
            "['anger', 'fear', 'sadness', 'happiness']\n"
          ]
        }
      ]
    },
    {
      "cell_type": "markdown",
      "source": [
        "#Example"
      ],
      "metadata": {
        "id": "mtiL93XOWNEo"
      }
    },
    {
      "cell_type": "code",
      "source": [
        "emotiions = [\"anger\", \"fear\", \"sadness\", \"happiness\", \"surprise\", \"disgust\"]\n",
        "newlist = [x for x in emotiions if \"a\" in x]\n",
        "\n",
        "print(newlist)"
      ],
      "metadata": {
        "colab": {
          "base_uri": "https://localhost:8080/"
        },
        "id": "5SerUv1BWRAS",
        "outputId": "d88f66c1-6df4-4102-a1c9-f12619469a2f"
      },
      "execution_count": null,
      "outputs": [
        {
          "output_type": "stream",
          "name": "stdout",
          "text": [
            "['anger', 'fear', 'sadness', 'happiness']\n"
          ]
        }
      ]
    },
    {
      "cell_type": "markdown",
      "source": [
        "#Condition"
      ],
      "metadata": {
        "id": "TKWBwn3-W6f0"
      }
    },
    {
      "cell_type": "markdown",
      "source": [
        "# Example\n",
        "Only accept items that are not \"anger\":"
      ],
      "metadata": {
        "id": "cR3G5bV7XNiN"
      }
    },
    {
      "cell_type": "code",
      "source": [
        "emotiions = [\"anger\", \"fear\", \"sadness\", \"happiness\", \"surprise\", \"disgust\"]\n",
        "\n",
        "newlist = [x for x in emotiions if x != \"anger\"]\n",
        "\n",
        "print(newlist)\n"
      ],
      "metadata": {
        "colab": {
          "base_uri": "https://localhost:8080/"
        },
        "id": "vwGlz5wQW7c4",
        "outputId": "3f1082f5-0bee-4ec7-c8c0-2cdf5a937a44"
      },
      "execution_count": null,
      "outputs": [
        {
          "output_type": "stream",
          "name": "stdout",
          "text": [
            "['fear', 'sadness', 'happiness', 'surprise', 'disgust']\n"
          ]
        }
      ]
    },
    {
      "cell_type": "markdown",
      "source": [
        "#Example\n",
        "With no if statement:"
      ],
      "metadata": {
        "id": "iXv3wG21X3W9"
      }
    },
    {
      "cell_type": "code",
      "source": [
        "emotiions = [\"anger\", \"fear\", \"sadness\", \"happiness\", \"surprise\", \"disgust\"]\n",
        "\n",
        "newlist = [x for x in emotiions]\n",
        "\n",
        "print(newlist)"
      ],
      "metadata": {
        "id": "-M3Gn9L7X4GB"
      },
      "execution_count": null,
      "outputs": []
    },
    {
      "cell_type": "markdown",
      "source": [
        "#Iterable"
      ],
      "metadata": {
        "id": "XWifZ4BmZGbV"
      }
    },
    {
      "cell_type": "markdown",
      "source": [
        "#Example\n",
        "You can use the range() function to create an iterable:"
      ],
      "metadata": {
        "id": "58qwnm8sZIw0"
      }
    },
    {
      "cell_type": "code",
      "source": [
        "newlist = [x for x in range(19)]\n",
        "\n",
        "print(newlist)"
      ],
      "metadata": {
        "colab": {
          "base_uri": "https://localhost:8080/"
        },
        "id": "GT4NlV_cZIh0",
        "outputId": "18013bc7-eb5b-41de-f38b-6f6604826ae6"
      },
      "execution_count": null,
      "outputs": [
        {
          "output_type": "stream",
          "name": "stdout",
          "text": [
            "[0, 1, 2, 3, 4, 5, 6, 7, 8, 9, 10, 11, 12, 13, 14, 15, 16, 17, 18]\n"
          ]
        }
      ]
    },
    {
      "cell_type": "markdown",
      "source": [
        "#Example\n",
        "Accept only numbers lower than 5:"
      ],
      "metadata": {
        "id": "LTOovvWOZg0m"
      }
    },
    {
      "cell_type": "code",
      "source": [
        "newlist = [x for x in range(10) if x < 5]\n",
        "\n",
        "print(newlist)"
      ],
      "metadata": {
        "colab": {
          "base_uri": "https://localhost:8080/"
        },
        "id": "FTic1KPCZhhV",
        "outputId": "0f6394c0-3227-4ead-a8b6-13266882a8b3"
      },
      "execution_count": null,
      "outputs": [
        {
          "output_type": "stream",
          "name": "stdout",
          "text": [
            "[0, 1, 2, 3, 4]\n"
          ]
        }
      ]
    },
    {
      "cell_type": "markdown",
      "source": [
        "#Expression\n"
      ],
      "metadata": {
        "id": "j0dqDILyZ3r_"
      }
    },
    {
      "cell_type": "markdown",
      "source": [
        "#Example\n",
        "Set the values in the new list to upper case:"
      ],
      "metadata": {
        "id": "21xX8aQSZ5XV"
      }
    },
    {
      "cell_type": "code",
      "source": [
        "emotions = [\"anger\", \"fear\", \"sadness\", \"happiness\", \"surprise\", \"disgust\"]\n",
        "\n",
        "newlist = [x.upper() for x in emotions]\n",
        "\n",
        "print(newlist)\n"
      ],
      "metadata": {
        "colab": {
          "base_uri": "https://localhost:8080/"
        },
        "id": "UQT_8_7KZ5FE",
        "outputId": "e8eaa533-237f-421a-f87c-a8624e86b8ea"
      },
      "execution_count": null,
      "outputs": [
        {
          "output_type": "stream",
          "name": "stdout",
          "text": [
            "['ANGER', 'FEAR', 'SADNESS', 'HAPPINESS', 'SURPRISE', 'DISGUST']\n"
          ]
        }
      ]
    },
    {
      "cell_type": "markdown",
      "source": [
        "#Example\n",
        "Set all values in the new list to 'hello':"
      ],
      "metadata": {
        "id": "8dPBs6XGaUn8"
      }
    },
    {
      "cell_type": "code",
      "source": [
        "emotions = [\"anger\", \"fear\", \"sadness\", \"happiness\", \"surprise\", \"disgust\"]\n",
        "\n",
        "newlist = ['hello' for x in emotions]\n",
        "\n",
        "print(newlist)\n"
      ],
      "metadata": {
        "colab": {
          "base_uri": "https://localhost:8080/"
        },
        "id": "QvwtnjTgaUYQ",
        "outputId": "098224f1-e85a-445c-8e23-793726bbc858"
      },
      "execution_count": null,
      "outputs": [
        {
          "output_type": "stream",
          "name": "stdout",
          "text": [
            "['hello', 'hello', 'hello', 'hello', 'hello', 'hello']\n"
          ]
        }
      ]
    },
    {
      "cell_type": "markdown",
      "source": [
        "#Example\n",
        "Return \"orange\" instead of \"banana\":"
      ],
      "metadata": {
        "id": "i2otfmnsa32n"
      }
    },
    {
      "cell_type": "code",
      "source": [
        "emotions = [\"anger\", \"fear\", \"sadness\", \"happiness\", \"surprise\", \"disgust\"]\n",
        "\n",
        "newlist = [x if x != \"fear\" else \"trust\" for x in emotions]\n",
        "\n",
        "print(newlist)"
      ],
      "metadata": {
        "colab": {
          "base_uri": "https://localhost:8080/"
        },
        "id": "AkYcNdCsa4pN",
        "outputId": "2ecd172c-d621-4a00-8165-385af7971270"
      },
      "execution_count": null,
      "outputs": [
        {
          "output_type": "stream",
          "name": "stdout",
          "text": [
            "['anger', 'trust', 'sadness', 'happiness', 'surprise', 'disgust']\n"
          ]
        }
      ]
    },
    {
      "cell_type": "markdown",
      "source": [
        "#**Python - Sort Lists**"
      ],
      "metadata": {
        "id": "-mfaAE8-cUug"
      }
    },
    {
      "cell_type": "markdown",
      "source": [
        "#Sort List Alphanumerically"
      ],
      "metadata": {
        "id": "cCsgjtMNzL8n"
      }
    },
    {
      "cell_type": "markdown",
      "source": [
        "#Example\n",
        "Sort the list alphabetically:"
      ],
      "metadata": {
        "id": "V-E90xBWxhIH"
      }
    },
    {
      "cell_type": "code",
      "source": [
        "thislist = [\"anger\", \"fear\", \"sadness\", \"happiness\", \"surprise\", \"disgust\"]\n",
        "\n",
        "thislist.sort()\n",
        "\n",
        "print(thislist)"
      ],
      "metadata": {
        "colab": {
          "base_uri": "https://localhost:8080/"
        },
        "id": "KnohJDYyxhl5",
        "outputId": "50fcb049-7681-40a6-ceed-7fb0bd85d0a2"
      },
      "execution_count": null,
      "outputs": [
        {
          "output_type": "stream",
          "name": "stdout",
          "text": [
            "['anger', 'disgust', 'fear', 'happiness', 'sadness', 'surprise']\n"
          ]
        }
      ]
    },
    {
      "cell_type": "markdown",
      "source": [
        "#Example\n",
        "Sort the list numerically:"
      ],
      "metadata": {
        "id": "L95f1lotx-MR"
      }
    },
    {
      "cell_type": "code",
      "source": [
        "thislist = [199, 547, 643, 422, 230]\n",
        "\n",
        "thislist.sort()\n",
        "\n",
        "print(thislist)"
      ],
      "metadata": {
        "colab": {
          "base_uri": "https://localhost:8080/"
        },
        "id": "OzzHdltdx-om",
        "outputId": "2b6c9b56-e8a2-4f70-92f4-a0aecc06f252"
      },
      "execution_count": null,
      "outputs": [
        {
          "output_type": "stream",
          "name": "stdout",
          "text": [
            "[199, 230, 422, 547, 643]\n"
          ]
        }
      ]
    },
    {
      "cell_type": "markdown",
      "source": [
        "#Sort Descending"
      ],
      "metadata": {
        "id": "BjD4zBh0zSW2"
      }
    },
    {
      "cell_type": "markdown",
      "source": [
        "#Example\n",
        "Sort the list descending:"
      ],
      "metadata": {
        "id": "NaMv60czya7K"
      }
    },
    {
      "cell_type": "code",
      "source": [
        "thislist = [\"anger\", \"fear\", \"sadness\", \"happiness\", \"surprise\", \"disgust\"]\n",
        "\n",
        "thislist.sort(reverse = True)\n",
        "\n",
        "print(thislist)\n"
      ],
      "metadata": {
        "colab": {
          "base_uri": "https://localhost:8080/"
        },
        "id": "kB4GX5Q0yb_y",
        "outputId": "9c12f80b-4048-4535-d92b-c44397bf6e52"
      },
      "execution_count": null,
      "outputs": [
        {
          "output_type": "stream",
          "name": "stdout",
          "text": [
            "['surprise', 'sadness', 'happiness', 'fear', 'disgust', 'anger']\n"
          ]
        }
      ]
    },
    {
      "cell_type": "markdown",
      "source": [
        "#Example\n",
        "Sort the list descending:"
      ],
      "metadata": {
        "id": "SqQKn2ZGyrKL"
      }
    },
    {
      "cell_type": "code",
      "source": [
        "thislist = [199, 547, 643, 422, 230]\n",
        "\n",
        "thislist.sort(reverse = True)\n",
        "\n",
        "print(thislist)"
      ],
      "metadata": {
        "colab": {
          "base_uri": "https://localhost:8080/"
        },
        "id": "lBoRvOiNyrol",
        "outputId": "9c229d24-a2f8-4b0d-d560-a0a135c90959"
      },
      "execution_count": null,
      "outputs": [
        {
          "output_type": "stream",
          "name": "stdout",
          "text": [
            "[643, 547, 422, 230, 199]\n"
          ]
        }
      ]
    },
    {
      "cell_type": "markdown",
      "source": [
        "#Customize Sort Function"
      ],
      "metadata": {
        "id": "nD-0OocmzDCk"
      }
    },
    {
      "cell_type": "markdown",
      "source": [
        "#Example\n",
        "Sort the list based on how close the number is to 50:"
      ],
      "metadata": {
        "id": "FlkntPECzVvS"
      }
    },
    {
      "cell_type": "code",
      "source": [
        "def myfunc(n):\n",
        "  return abs(n - 199)\n",
        "\n",
        "thislist = [199, 547, 643, 422, 230]\n",
        "\n",
        "thislist.sort(key = myfunc)\n",
        "\n",
        "print(thislist)"
      ],
      "metadata": {
        "colab": {
          "base_uri": "https://localhost:8080/"
        },
        "id": "XSnMRL5wzbAr",
        "outputId": "ade5e0e5-0ef9-416c-8b25-cf4d7bdd81de"
      },
      "execution_count": null,
      "outputs": [
        {
          "output_type": "stream",
          "name": "stdout",
          "text": [
            "[199, 230, 422, 547, 643]\n"
          ]
        }
      ]
    },
    {
      "cell_type": "markdown",
      "source": [
        "#Case Insensitive Sort"
      ],
      "metadata": {
        "id": "JHwlnsTZzuYp"
      }
    },
    {
      "cell_type": "markdown",
      "source": [
        "#Example\n",
        "Case sensitive sorting can give an unexpected result:"
      ],
      "metadata": {
        "id": "YuuLy30Hzyg7"
      }
    },
    {
      "cell_type": "code",
      "source": [
        "thislist = [\"anger\", \"fear\", \"sadness\", \"happiness\", \"surprise\", \"disgust\"]\n",
        "\n",
        "thislist.sort()\n",
        "\n",
        "print(thislist)"
      ],
      "metadata": {
        "colab": {
          "base_uri": "https://localhost:8080/"
        },
        "id": "ThRhdf7ZzvDu",
        "outputId": "66ea21d6-5990-4b26-cb8e-1a7c8f3e7371"
      },
      "execution_count": null,
      "outputs": [
        {
          "output_type": "stream",
          "name": "stdout",
          "text": [
            "['anger', 'disgust', 'fear', 'happiness', 'sadness', 'surprise']\n"
          ]
        }
      ]
    },
    {
      "cell_type": "markdown",
      "source": [
        "#Example\n",
        "Perform a case-insensitive sort of the list:"
      ],
      "metadata": {
        "id": "bjRZQ_c90i-x"
      }
    },
    {
      "cell_type": "code",
      "source": [
        "thislist = [\"anger\", \"fear\", \"sadness\", \"happiness\", \"surprise\", \"disgust\"]\n",
        "\n",
        "thislist.sort(key = str.lower)\n",
        "\n",
        "print(thislist)"
      ],
      "metadata": {
        "colab": {
          "base_uri": "https://localhost:8080/"
        },
        "id": "AyYEHUHZ0jhg",
        "outputId": "b41ec34d-dce2-4c19-f1a2-de84200f2cce"
      },
      "execution_count": null,
      "outputs": [
        {
          "output_type": "stream",
          "name": "stdout",
          "text": [
            "['anger', 'disgust', 'fear', 'happiness', 'sadness', 'surprise']\n"
          ]
        }
      ]
    },
    {
      "cell_type": "markdown",
      "source": [
        "# Reverse Order"
      ],
      "metadata": {
        "id": "lHXIQuD2044J"
      }
    },
    {
      "cell_type": "markdown",
      "source": [
        "#Example\n",
        "Reverse the order of the list items:"
      ],
      "metadata": {
        "id": "OAJ4QjZG05gx"
      }
    },
    {
      "cell_type": "code",
      "source": [
        "thislist = [\"anger\", \"fear\", \"sadness\", \"happiness\", \"surprise\", \"disgust\"]\n",
        "\n",
        "thislist.reverse()\n",
        "\n",
        "print(thislist) \n"
      ],
      "metadata": {
        "colab": {
          "base_uri": "https://localhost:8080/"
        },
        "id": "zX8dVDnZ08IU",
        "outputId": "44deda50-a5b6-45e6-9a87-f1ba496fa8fb"
      },
      "execution_count": null,
      "outputs": [
        {
          "output_type": "stream",
          "name": "stdout",
          "text": [
            "['disgust', 'surprise', 'happiness', 'sadness', 'fear', 'anger']\n"
          ]
        }
      ]
    },
    {
      "cell_type": "markdown",
      "source": [
        "#**Python - Copy Lists**"
      ],
      "metadata": {
        "id": "es2Zn-xY1R99"
      }
    },
    {
      "cell_type": "markdown",
      "source": [
        "#Copy a List"
      ],
      "metadata": {
        "id": "QUsjugfr1TtP"
      }
    },
    {
      "cell_type": "markdown",
      "source": [
        "#Example\n",
        "Make a copy of a list with the copy() method:"
      ],
      "metadata": {
        "id": "-l1hv39G2AF7"
      }
    },
    {
      "cell_type": "code",
      "source": [
        "thislist = [\"anger\", \"fear\", \"sadness\"]\n",
        "mylist = thislist.copy()\n",
        "print(mylist)"
      ],
      "metadata": {
        "colab": {
          "base_uri": "https://localhost:8080/"
        },
        "id": "NKus6DN72CKl",
        "outputId": "540637c7-f609-4952-dabd-2915f282f3e4"
      },
      "execution_count": null,
      "outputs": [
        {
          "output_type": "stream",
          "name": "stdout",
          "text": [
            "['anger', 'fear', 'sadness']\n"
          ]
        }
      ]
    },
    {
      "cell_type": "markdown",
      "source": [
        "#Example\n",
        "Make a copy of a list with the list() method:"
      ],
      "metadata": {
        "id": "WFF4Esd32Vtp"
      }
    },
    {
      "cell_type": "code",
      "source": [
        "thislist = [\"anger\", \"fear\", \"sadness\"]\n",
        "mylist = list(thislist)\n",
        "print(mylist)\n"
      ],
      "metadata": {
        "colab": {
          "base_uri": "https://localhost:8080/"
        },
        "id": "NpDGJiyK2WRM",
        "outputId": "323a896c-d40b-4f6c-fb17-0b7a93f22cb7"
      },
      "execution_count": null,
      "outputs": [
        {
          "output_type": "stream",
          "name": "stdout",
          "text": [
            "['anger', 'fear', 'sadness']\n"
          ]
        }
      ]
    },
    {
      "cell_type": "markdown",
      "source": [
        "#**Python - Join Lists**"
      ],
      "metadata": {
        "id": "ZnlFuqzq2it-"
      }
    },
    {
      "cell_type": "markdown",
      "source": [
        "#Join Two Lists"
      ],
      "metadata": {
        "id": "EtR12PQE254k"
      }
    },
    {
      "cell_type": "markdown",
      "source": [
        "#Example\n",
        "Join two list:"
      ],
      "metadata": {
        "id": "jO-h7S8p2kMj"
      }
    },
    {
      "cell_type": "code",
      "source": [
        "list1 = [\"a\", \"b\", \"c\"]\n",
        "list2 = [1, 2, 3]\n",
        "\n",
        "list3 = list1 + list2\n",
        "print(list3)"
      ],
      "metadata": {
        "colab": {
          "base_uri": "https://localhost:8080/"
        },
        "id": "JIgVNvgw29Z3",
        "outputId": "9f124e72-f239-4264-c4eb-66f99cec8973"
      },
      "execution_count": null,
      "outputs": [
        {
          "output_type": "stream",
          "name": "stdout",
          "text": [
            "['a', 'b', 'c', 1, 2, 3]\n"
          ]
        }
      ]
    },
    {
      "cell_type": "markdown",
      "source": [
        "#Example\n",
        "Append list2 into list1:"
      ],
      "metadata": {
        "id": "CLku8URC3MXH"
      }
    },
    {
      "cell_type": "code",
      "source": [
        "list1 = [\"a\", \"b\" , \"c\"]\n",
        "list2 = [1, 2, 3]\n",
        "\n",
        "for x in list2:\n",
        "  list1.append(x)\n",
        "\n",
        "print(list1)\n"
      ],
      "metadata": {
        "colab": {
          "base_uri": "https://localhost:8080/"
        },
        "id": "bh7zANa13NCC",
        "outputId": "72dc48bc-5f06-4fbe-8c16-531676eb8912"
      },
      "execution_count": null,
      "outputs": [
        {
          "output_type": "stream",
          "name": "stdout",
          "text": [
            "['a', 'b', 'c', 1, 2, 3]\n"
          ]
        }
      ]
    },
    {
      "cell_type": "markdown",
      "source": [
        "#Example\n",
        "Use the extend() method to add list2 at the end of list1:\n",
        "\n"
      ],
      "metadata": {
        "id": "yEoqQRLe3dqN"
      }
    },
    {
      "cell_type": "code",
      "source": [
        "list1 = [\"a\", \"b\" , \"c\"]\n",
        "list2 = [1, 2, 3]\n",
        "\n",
        "list1.extend(list2)\n",
        "print(list1)\n"
      ],
      "metadata": {
        "colab": {
          "base_uri": "https://localhost:8080/"
        },
        "id": "_gg5KTGh3eBQ",
        "outputId": "eee8983b-efc6-4cf0-aed0-f8976753029e"
      },
      "execution_count": null,
      "outputs": [
        {
          "output_type": "stream",
          "name": "stdout",
          "text": [
            "['a', 'b', 'c', 1, 2, 3]\n"
          ]
        }
      ]
    },
    {
      "cell_type": "markdown",
      "source": [
        "#**Python Tuples**"
      ],
      "metadata": {
        "id": "9gRTst__4hWN"
      }
    },
    {
      "cell_type": "markdown",
      "source": [
        "#Tuple"
      ],
      "metadata": {
        "id": "TZMbPnTK43nw"
      }
    },
    {
      "cell_type": "markdown",
      "source": [
        "#Example\n",
        "Create a Tuple:\n",
        "\n"
      ],
      "metadata": {
        "id": "5sLSwW3G4iex"
      }
    },
    {
      "cell_type": "code",
      "source": [
        "thistuple = (\"anger\", \"fear\", \"sadness\")\n",
        "print(thistuple)"
      ],
      "metadata": {
        "colab": {
          "base_uri": "https://localhost:8080/"
        },
        "id": "VRyO2BTi459U",
        "outputId": "09115ad9-0070-4e59-a7bc-e5a5a3672bba"
      },
      "execution_count": null,
      "outputs": [
        {
          "output_type": "stream",
          "name": "stdout",
          "text": [
            "('anger', 'fear', 'sadness')\n"
          ]
        }
      ]
    },
    {
      "cell_type": "markdown",
      "source": [
        "#Allow Duplicates"
      ],
      "metadata": {
        "id": "Y92LQNLW5wbd"
      }
    },
    {
      "cell_type": "markdown",
      "source": [
        "#Example\n",
        "Tuples allow duplicate values:"
      ],
      "metadata": {
        "id": "V5Vh1ODJ5w7G"
      }
    },
    {
      "cell_type": "code",
      "source": [
        "thistuple = (\"anger\", \"fear\", \"sadness\", \"anger\", \"sadness\")\n",
        "print(thistuple)"
      ],
      "metadata": {
        "colab": {
          "base_uri": "https://localhost:8080/"
        },
        "id": "uVnfpHfZ50gd",
        "outputId": "b70bc7f6-ebdc-4f7a-da65-25f56b651cc0"
      },
      "execution_count": null,
      "outputs": [
        {
          "output_type": "stream",
          "name": "stdout",
          "text": [
            "('anger', 'fear', 'sadness', 'anger', 'sadness')\n"
          ]
        }
      ]
    },
    {
      "cell_type": "markdown",
      "source": [
        "#Tuple Length"
      ],
      "metadata": {
        "id": "x19MqXA36IVJ"
      }
    },
    {
      "cell_type": "markdown",
      "source": [
        "#Example\n",
        "Print the number of items in the tuple:"
      ],
      "metadata": {
        "id": "_ZnBLmk56I0f"
      }
    },
    {
      "cell_type": "code",
      "source": [
        "thistuple = tuple((\"anger\", \"fear\", \"sadness\"))\n",
        "print(len(thistuple))"
      ],
      "metadata": {
        "colab": {
          "base_uri": "https://localhost:8080/"
        },
        "id": "9IpslEDB6Qiv",
        "outputId": "bd089026-e24d-4cbc-e51a-0e07308cd72d"
      },
      "execution_count": null,
      "outputs": [
        {
          "output_type": "stream",
          "name": "stdout",
          "text": [
            "3\n"
          ]
        }
      ]
    },
    {
      "cell_type": "markdown",
      "source": [
        "#Create Tuple With One Item"
      ],
      "metadata": {
        "id": "62-j23om6ueZ"
      }
    },
    {
      "cell_type": "markdown",
      "source": [
        "#Example\n",
        "One item tuple, remember the comma:"
      ],
      "metadata": {
        "id": "CJPwQaK67JP1"
      }
    },
    {
      "cell_type": "code",
      "source": [
        "thistuple = (\"anger\",)\n",
        "print(type(thistuple))\n",
        "\n",
        "#NOT a tuple\n",
        "thistuple = (\"anger\")\n",
        "print(type(thistuple))"
      ],
      "metadata": {
        "colab": {
          "base_uri": "https://localhost:8080/"
        },
        "id": "eQUwpRx47HNR",
        "outputId": "3ce026c4-bba9-43af-cfca-078f5cb06203"
      },
      "execution_count": null,
      "outputs": [
        {
          "output_type": "stream",
          "name": "stdout",
          "text": [
            "<class 'tuple'>\n",
            "<class 'str'>\n"
          ]
        }
      ]
    },
    {
      "cell_type": "markdown",
      "source": [
        "#**Tuple Items - Data Types**"
      ],
      "metadata": {
        "id": "iiFHtt8h7bBs"
      }
    },
    {
      "cell_type": "markdown",
      "source": [
        "#Example\n",
        "String, int and boolean data types:"
      ],
      "metadata": {
        "id": "cnh9qICf7c7s"
      }
    },
    {
      "cell_type": "code",
      "source": [
        "tuple1 = (\"anger\", \"fear\", \"sadness\")\n",
        "tuple2 = (1, 5, 7, 9, 3)\n",
        "tuple3 = (True, False, False)\n",
        "\n",
        "print(tuple1)\n",
        "print(tuple2)\n",
        "print(tuple3)\n"
      ],
      "metadata": {
        "colab": {
          "base_uri": "https://localhost:8080/"
        },
        "id": "wTRJ7c8Z7rja",
        "outputId": "9aa583ea-b825-420b-8f55-896611468e3c"
      },
      "execution_count": null,
      "outputs": [
        {
          "output_type": "stream",
          "name": "stdout",
          "text": [
            "('anger', 'fear', 'sadness')\n",
            "(1, 5, 7, 9, 3)\n",
            "(True, False, False)\n"
          ]
        }
      ]
    },
    {
      "cell_type": "markdown",
      "source": [
        "#Example\n",
        "A tuple with strings, integers and boolean values:"
      ],
      "metadata": {
        "id": "8oeN7S65_1V7"
      }
    },
    {
      "cell_type": "code",
      "source": [
        "tuple1 = (\"abc\", 34, True, 40, \"male\")\n",
        "\n",
        "print(tuple1)"
      ],
      "metadata": {
        "colab": {
          "base_uri": "https://localhost:8080/"
        },
        "id": "h4HNnR0r_1xH",
        "outputId": "24b60c8a-3b70-4a54-f933-5a50d1b90f42"
      },
      "execution_count": null,
      "outputs": [
        {
          "output_type": "stream",
          "name": "stdout",
          "text": [
            "('abc', 34, True, 40, 'male')\n"
          ]
        }
      ]
    },
    {
      "cell_type": "markdown",
      "source": [
        "#**type()**"
      ],
      "metadata": {
        "id": "ITZhBqrUBQpM"
      }
    },
    {
      "cell_type": "markdown",
      "source": [
        "#Example\n",
        "Print the number of items in the tuple:"
      ],
      "metadata": {
        "id": "EeBg72GsBTFn"
      }
    },
    {
      "cell_type": "code",
      "source": [
        "thistuple = tuple((\"anger\", \"fear\", \"sadness\"))\n",
        "print(len(thistuple))\n"
      ],
      "metadata": {
        "colab": {
          "base_uri": "https://localhost:8080/"
        },
        "id": "YFJ92SLxBkbS",
        "outputId": "7e23a76e-54d7-4dee-d304-ea76e0d3ee47"
      },
      "execution_count": null,
      "outputs": [
        {
          "output_type": "stream",
          "name": "stdout",
          "text": [
            "3\n"
          ]
        }
      ]
    },
    {
      "cell_type": "markdown",
      "source": [
        "#**The tuple() Constructor**\n"
      ],
      "metadata": {
        "id": "yyOEv0JLDyaK"
      }
    },
    {
      "cell_type": "markdown",
      "source": [
        "#Example\n",
        "Using the tuple() method to make a tuple:"
      ],
      "metadata": {
        "id": "7hnpyItqD8H0"
      }
    },
    {
      "cell_type": "code",
      "source": [
        "thistuple = tuple((\"anger\", \"fear\", \"sadness\"))\n",
        "print(thistuple)"
      ],
      "metadata": {
        "colab": {
          "base_uri": "https://localhost:8080/"
        },
        "id": "FomNN0qyD80L",
        "outputId": "a2f4b0a9-8ba9-4540-db3a-96c6ab5a1200"
      },
      "execution_count": null,
      "outputs": [
        {
          "output_type": "stream",
          "name": "stdout",
          "text": [
            "('anger', 'fear', 'sadness')\n"
          ]
        }
      ]
    },
    {
      "cell_type": "markdown",
      "source": [
        "#**Python - Access Tuple Items**"
      ],
      "metadata": {
        "id": "C5Fr7tYwGX67"
      }
    },
    {
      "cell_type": "markdown",
      "source": [
        "#**Access Tuple Items**"
      ],
      "metadata": {
        "id": "TifT2kZmG0Nq"
      }
    },
    {
      "cell_type": "markdown",
      "source": [
        "#Example\n",
        "Print the second item in the tuple:"
      ],
      "metadata": {
        "id": "wWHTI4ojGaLR"
      }
    },
    {
      "cell_type": "code",
      "source": [
        "thistuple = (\"anger\", \"fear\", \"sadness\")\n",
        "print(thistuple[1])"
      ],
      "metadata": {
        "colab": {
          "base_uri": "https://localhost:8080/"
        },
        "id": "Rsy4iGRNGZY5",
        "outputId": "11c09764-c3d4-4e2b-d3e0-8080becfb4be"
      },
      "execution_count": null,
      "outputs": [
        {
          "output_type": "stream",
          "name": "stdout",
          "text": [
            "fear\n"
          ]
        }
      ]
    },
    {
      "cell_type": "markdown",
      "source": [
        "#**Negative Indexing**"
      ],
      "metadata": {
        "id": "zraiFul_GwEi"
      }
    },
    {
      "cell_type": "markdown",
      "source": [
        "#Example\n",
        "Print the last item of the tuple:"
      ],
      "metadata": {
        "id": "8Utcq7o0Gygx"
      }
    },
    {
      "cell_type": "code",
      "source": [
        "thistuple = (\"anger\", \"fear\", \"sadness\")\n",
        "print(thistuple[-1])"
      ],
      "metadata": {
        "colab": {
          "base_uri": "https://localhost:8080/"
        },
        "id": "tH27KbcRHYfa",
        "outputId": "9c209ca0-9419-427e-90f5-1fb6048bec05"
      },
      "execution_count": null,
      "outputs": [
        {
          "output_type": "stream",
          "name": "stdout",
          "text": [
            "sadness\n"
          ]
        }
      ]
    },
    {
      "cell_type": "markdown",
      "source": [
        "#**Range of Indexes**"
      ],
      "metadata": {
        "id": "FBUypwGDHio5"
      }
    },
    {
      "cell_type": "markdown",
      "source": [
        "#Example\n",
        "Return the third, fourth, and fifth item:"
      ],
      "metadata": {
        "id": "immeL1a5HkQR"
      }
    },
    {
      "cell_type": "code",
      "source": [
        "thistuple = (\"anger\", \"fear\", \"sadness\", \"happiness\", \"surprise\", \"disgust\")\n",
        "print(thistuple[2:5])"
      ],
      "metadata": {
        "colab": {
          "base_uri": "https://localhost:8080/"
        },
        "id": "pHyqV3JQHmTT",
        "outputId": "6643354e-2a3c-4f92-94fe-899f44ea8105"
      },
      "execution_count": null,
      "outputs": [
        {
          "output_type": "stream",
          "name": "stdout",
          "text": [
            "('sadness', 'happiness', 'surprise')\n"
          ]
        }
      ]
    },
    {
      "cell_type": "markdown",
      "source": [
        "#Example\n",
        "This example returns the items from the beginning to, but NOT included, \"surprise\":"
      ],
      "metadata": {
        "id": "CA1pVK5ba6nz"
      }
    },
    {
      "cell_type": "code",
      "source": [
        "thistuple = (\"anger\", \"fear\", \"sadness\", \"happiness\", \"surprise\", \"disgust\")\n",
        "\n",
        "print(thistuple[:4])"
      ],
      "metadata": {
        "colab": {
          "base_uri": "https://localhost:8080/"
        },
        "id": "dHQgIObva7Rl",
        "outputId": "f8023da4-87d5-4ef1-8b6a-309dd6e5ec13"
      },
      "execution_count": null,
      "outputs": [
        {
          "output_type": "stream",
          "name": "stdout",
          "text": [
            "('anger', 'fear', 'sadness', 'happiness')\n"
          ]
        }
      ]
    },
    {
      "cell_type": "markdown",
      "source": [
        "#Example\n",
        "This example returns the items from \"sadness\" and to the end:"
      ],
      "metadata": {
        "id": "LDPj2mY5bkyZ"
      }
    },
    {
      "cell_type": "code",
      "source": [
        "thistuple = (\"anger\", \"fear\", \"sadness\", \"happiness\", \"surprise\", \"disgust\")\n",
        "\n",
        "print(thistuple[2:])"
      ],
      "metadata": {
        "colab": {
          "base_uri": "https://localhost:8080/"
        },
        "id": "bnPhuDJ-bn0G",
        "outputId": "926bd229-95c9-421b-ad02-d28761779da4"
      },
      "execution_count": null,
      "outputs": [
        {
          "output_type": "stream",
          "name": "stdout",
          "text": [
            "('sadness', 'happiness', 'surprise', 'disgust')\n"
          ]
        }
      ]
    },
    {
      "cell_type": "markdown",
      "source": [
        "#**Range of Negative Indexes**"
      ],
      "metadata": {
        "id": "TizH4bbUcDfA"
      }
    },
    {
      "cell_type": "markdown",
      "source": [
        "#Example\n",
        "This example returns the items from index -4 (included) to index -1 (excluded)"
      ],
      "metadata": {
        "id": "Ym-yBRTZcFFJ"
      }
    },
    {
      "cell_type": "code",
      "source": [
        "thistuple = (\"anger\", \"fear\", \"sadness\", \"surprise\", \"disgust\")\n",
        "print(thistuple[-4:-1])"
      ],
      "metadata": {
        "colab": {
          "base_uri": "https://localhost:8080/"
        },
        "id": "MqS63y3Uci7T",
        "outputId": "630562cf-34ad-4e4a-f3d4-42b566332286"
      },
      "execution_count": null,
      "outputs": [
        {
          "output_type": "stream",
          "name": "stdout",
          "text": [
            "('sadness', 'happiness', 'surprise')\n"
          ]
        }
      ]
    },
    {
      "cell_type": "markdown",
      "source": [
        "#**Check if Item Exists**"
      ],
      "metadata": {
        "id": "9-v-Uji0cv24"
      }
    },
    {
      "cell_type": "markdown",
      "source": [
        "#Example\n",
        "Check if \"anger\" is present in the tuple:"
      ],
      "metadata": {
        "id": "uVmaE09McxsV"
      }
    },
    {
      "cell_type": "code",
      "source": [
        "thistuple = (\"anger\", \"fear\", \"sadness\")\n",
        "if \"anger\" in thistuple:\n",
        "  print(\"Yes, 'anger' is in the fruits tuple\")"
      ],
      "metadata": {
        "colab": {
          "base_uri": "https://localhost:8080/"
        },
        "id": "ueIb5gX4c_tc",
        "outputId": "133dd32b-383d-449d-893e-fe2a735ee40a"
      },
      "execution_count": null,
      "outputs": [
        {
          "output_type": "stream",
          "name": "stdout",
          "text": [
            "Yes, 'anger' is in the fruits tuple\n"
          ]
        }
      ]
    },
    {
      "cell_type": "markdown",
      "source": [
        "#**Python - Update Tuples**"
      ],
      "metadata": {
        "id": "AvHwxnBkdzp6"
      }
    },
    {
      "cell_type": "markdown",
      "source": [
        "#Change Tuple Values"
      ],
      "metadata": {
        "id": "1Tdr2tEzd1wD"
      }
    },
    {
      "cell_type": "markdown",
      "source": [
        "#Example\n",
        "Convert the tuple into a list to be able to change it:"
      ],
      "metadata": {
        "id": "itnwhx54d37R"
      }
    },
    {
      "cell_type": "code",
      "source": [
        "x = (\"anger\", \"fear\", \"sadness\")\n",
        "y = list(x)\n",
        "y[1] = \"sadness\"\n",
        "x = tuple(y)\n",
        "\n",
        "print(x)"
      ],
      "metadata": {
        "colab": {
          "base_uri": "https://localhost:8080/"
        },
        "id": "KVvw6oY8eQxq",
        "outputId": "840a458f-8c19-4016-dac0-9513b105be19"
      },
      "execution_count": null,
      "outputs": [
        {
          "output_type": "stream",
          "name": "stdout",
          "text": [
            "('anger', 'sadness', 'sadness')\n"
          ]
        }
      ]
    },
    {
      "cell_type": "markdown",
      "source": [
        "#**Add Items**"
      ],
      "metadata": {
        "id": "D65cJMGme97c"
      }
    },
    {
      "cell_type": "markdown",
      "source": [
        "#Example\n",
        "Convert the tuple into a list, add \"orange\", and convert it back into a tuple:"
      ],
      "metadata": {
        "id": "7NZJIiJ4fCeD"
      }
    },
    {
      "cell_type": "code",
      "source": [
        "thistuple = (\"anger\", \"fear\", \"sadness\")\n",
        "y = list(thistuple)\n",
        "y.append(\"sadness\")\n",
        "thistuple = tuple(y)\n",
        "\n",
        "print(thistuple)"
      ],
      "metadata": {
        "colab": {
          "base_uri": "https://localhost:8080/"
        },
        "id": "Y8ECpylBe_wf",
        "outputId": "e382d22c-937e-4aa8-f159-641eb1738e61"
      },
      "execution_count": null,
      "outputs": [
        {
          "output_type": "stream",
          "name": "stdout",
          "text": [
            "('anger', 'fear', 'sadness', 'sadness')\n"
          ]
        }
      ]
    },
    {
      "cell_type": "markdown",
      "source": [
        "#Example\n",
        "Create a new tuple with the value \"orange\", and add that tuple:"
      ],
      "metadata": {
        "id": "1_faFIG-fdC7"
      }
    },
    {
      "cell_type": "code",
      "source": [
        "thistuple = (\"anger\", \"fear\", \"sadness\")\n",
        "y = (\"sadness\",)\n",
        "thistuple += y\n",
        "\n",
        "print(thistuple)"
      ],
      "metadata": {
        "colab": {
          "base_uri": "https://localhost:8080/"
        },
        "id": "BbfYyrTBfdn1",
        "outputId": "7a08f0a3-28ee-41a4-82a9-0cd812b3a5c6"
      },
      "execution_count": null,
      "outputs": [
        {
          "output_type": "stream",
          "name": "stdout",
          "text": [
            "('anger', 'fear', 'sadness', 'sadness')\n"
          ]
        }
      ]
    },
    {
      "cell_type": "markdown",
      "source": [
        "#**Remove Items**"
      ],
      "metadata": {
        "id": "W99NiIyQPK-W"
      }
    },
    {
      "cell_type": "markdown",
      "source": [
        "#Example\n",
        "Convert the tuple into a list, remove \"anger\", and convert it back into a tuple:"
      ],
      "metadata": {
        "id": "_4-7d4qJPHk_"
      }
    },
    {
      "cell_type": "code",
      "source": [
        "thistuple = (\"anger\", \"fear\", \"sadness\")\n",
        "y = list(thistuple)\n",
        "y.remove(\"anger\")\n",
        "thistuple = tuple(y)\n",
        "\n",
        "print(thistuple)\n"
      ],
      "metadata": {
        "colab": {
          "base_uri": "https://localhost:8080/"
        },
        "id": "Ci96nOCcPQAr",
        "outputId": "64046341-9d29-494f-c91d-522a8488a1b7"
      },
      "execution_count": null,
      "outputs": [
        {
          "output_type": "stream",
          "name": "stdout",
          "text": [
            "('fear', 'sadness')\n"
          ]
        }
      ]
    },
    {
      "cell_type": "markdown",
      "source": [
        "#Example\n",
        "The del keyword can delete the tuple completely:"
      ],
      "metadata": {
        "id": "aM-rFTlPXlCV"
      }
    },
    {
      "cell_type": "code",
      "source": [
        "thistuple = (\"anger\", \"fear\", \"sadness\")\n",
        "del thistuple\n",
        "print(thistuple)"
      ],
      "metadata": {
        "colab": {
          "base_uri": "https://localhost:8080/",
          "height": 201
        },
        "id": "jBQZdRqjXl6Q",
        "outputId": "c8e52523-c2a2-4ce7-c7a4-e126b86788de"
      },
      "execution_count": null,
      "outputs": [
        {
          "output_type": "error",
          "ename": "NameError",
          "evalue": "ignored",
          "traceback": [
            "\u001b[0;31m---------------------------------------------------------------------------\u001b[0m",
            "\u001b[0;31mNameError\u001b[0m                                 Traceback (most recent call last)",
            "\u001b[0;32m<ipython-input-3-b5fee61f7add>\u001b[0m in \u001b[0;36m<module>\u001b[0;34m\u001b[0m\n\u001b[1;32m      1\u001b[0m \u001b[0mthistuple\u001b[0m \u001b[0;34m=\u001b[0m \u001b[0;34m(\u001b[0m\u001b[0;34m\"anger\"\u001b[0m\u001b[0;34m,\u001b[0m \u001b[0;34m\"fear\"\u001b[0m\u001b[0;34m,\u001b[0m \u001b[0;34m\"sadness\"\u001b[0m\u001b[0;34m)\u001b[0m\u001b[0;34m\u001b[0m\u001b[0;34m\u001b[0m\u001b[0m\n\u001b[1;32m      2\u001b[0m \u001b[0;32mdel\u001b[0m \u001b[0mthistuple\u001b[0m\u001b[0;34m\u001b[0m\u001b[0;34m\u001b[0m\u001b[0m\n\u001b[0;32m----> 3\u001b[0;31m \u001b[0mprint\u001b[0m\u001b[0;34m(\u001b[0m\u001b[0mthistuple\u001b[0m\u001b[0;34m)\u001b[0m\u001b[0;34m\u001b[0m\u001b[0;34m\u001b[0m\u001b[0m\n\u001b[0m",
            "\u001b[0;31mNameError\u001b[0m: name 'thistuple' is not defined"
          ]
        }
      ]
    },
    {
      "cell_type": "markdown",
      "source": [
        "#**Python - Unpack Tuples**"
      ],
      "metadata": {
        "id": "Y7VdAQnqYsO4"
      }
    },
    {
      "cell_type": "markdown",
      "source": [
        "#Unpacking a Tuple"
      ],
      "metadata": {
        "id": "7RU-WwGkYuJY"
      }
    },
    {
      "cell_type": "code",
      "source": [
        "fruits = (\"anger\", \"fear\", \"sadness\")\n",
        "\n",
        "print(fruits)"
      ],
      "metadata": {
        "colab": {
          "base_uri": "https://localhost:8080/"
        },
        "id": "p42S7FsRaxPw",
        "outputId": "c6c22b6d-8f1d-4950-aa7b-ab668f73a615"
      },
      "execution_count": null,
      "outputs": [
        {
          "output_type": "stream",
          "name": "stdout",
          "text": [
            "('anger', 'fear', 'sadness')\n"
          ]
        }
      ]
    },
    {
      "cell_type": "markdown",
      "source": [
        "#Example\n",
        "Unpacking a tuple:"
      ],
      "metadata": {
        "id": "Oiz4TX_qf5WR"
      }
    },
    {
      "cell_type": "code",
      "source": [
        "emotions = (\"anger\", \"fear\", \"sadness\")\n",
        "\n",
        "(green, yellow, red) = emotions\n",
        "\n",
        "print(green)\n",
        "print(yellow)\n",
        "print(red)\n"
      ],
      "metadata": {
        "colab": {
          "base_uri": "https://localhost:8080/"
        },
        "id": "qv2eYYTUf59T",
        "outputId": "3490410e-28e3-4a5a-f3cc-c321068a3ff6"
      },
      "execution_count": null,
      "outputs": [
        {
          "output_type": "stream",
          "name": "stdout",
          "text": [
            "anger\n",
            "fear\n",
            "sadness\n"
          ]
        }
      ]
    },
    {
      "cell_type": "markdown",
      "source": [
        "#**Using Asterisk**"
      ],
      "metadata": {
        "id": "JBmceQ8Kf5Rs"
      }
    },
    {
      "cell_type": "markdown",
      "source": [
        "#Example\n",
        "Assign the rest of the values as a list called \"red\":"
      ],
      "metadata": {
        "id": "eR2IAgW7LR6N"
      }
    },
    {
      "cell_type": "code",
      "source": [
        "emotions = (\"anger\", \"fear\", \"sadness\", \"happiness\", \"surprise\", \"disgust\")\n",
        "\n",
        "(green, yellow, *red) = emotions\n",
        "\n",
        "print(green)\n",
        "print(yellow)\n",
        "print(red)"
      ],
      "metadata": {
        "colab": {
          "base_uri": "https://localhost:8080/"
        },
        "id": "cXcEWb9tLZJI",
        "outputId": "d55ea78d-230b-4bf2-d8b7-067b2e95bf67"
      },
      "execution_count": null,
      "outputs": [
        {
          "output_type": "stream",
          "name": "stdout",
          "text": [
            "anger\n",
            "fear\n",
            "['sadness', 'happiness', 'surprise', 'disgust']\n"
          ]
        }
      ]
    },
    {
      "cell_type": "markdown",
      "source": [
        "#Example\n",
        "Add a list of values the \"tropic\" variable:"
      ],
      "metadata": {
        "id": "tjLE0LBnMEbF"
      }
    },
    {
      "cell_type": "code",
      "source": [
        "emotions = (\"anger\", \"fear\", \"sadness\", \"happiness\", \"surprise\", \"disgust\")\n",
        "\n",
        "(green, *tropic, red) = emotions\n",
        "\n",
        "print(green)\n",
        "print(tropic)\n",
        "print(red)"
      ],
      "metadata": {
        "colab": {
          "base_uri": "https://localhost:8080/"
        },
        "id": "M6yrJiXnMap3",
        "outputId": "f16af905-576c-4082-bcdb-d9120a1e9fa8"
      },
      "execution_count": null,
      "outputs": [
        {
          "output_type": "stream",
          "name": "stdout",
          "text": [
            "anger\n",
            "['fear', 'sadness', 'happiness', 'surprise']\n",
            "disgust\n"
          ]
        }
      ]
    },
    {
      "cell_type": "markdown",
      "source": [
        "#**Python - Loop Tuples**"
      ],
      "metadata": {
        "id": "VErTPjBFM-8u"
      }
    },
    {
      "cell_type": "markdown",
      "source": [
        "#Loop Through a Tuple"
      ],
      "metadata": {
        "id": "d3F19r9kNA63"
      }
    },
    {
      "cell_type": "markdown",
      "source": [
        "#Example\n",
        "Iterate through the items and print the values:"
      ],
      "metadata": {
        "id": "TmGPMV0_NRt3"
      }
    },
    {
      "cell_type": "code",
      "source": [
        "thistuple = (\"anger\", \"fear\", \"sadness\")\n",
        "for x in thistuple:\n",
        "  print(x)"
      ],
      "metadata": {
        "colab": {
          "base_uri": "https://localhost:8080/"
        },
        "id": "1-EFQDytNPVC",
        "outputId": "979acadb-8f2a-4815-84a6-354dbeb1f191"
      },
      "execution_count": null,
      "outputs": [
        {
          "output_type": "stream",
          "name": "stdout",
          "text": [
            "anger\n",
            "fear\n",
            "sadness\n"
          ]
        }
      ]
    },
    {
      "cell_type": "markdown",
      "source": [
        "#**Loop Through the Index Numbers**"
      ],
      "metadata": {
        "id": "EBks5VEuNgbu"
      }
    },
    {
      "cell_type": "markdown",
      "source": [
        "#Example\n",
        "Print all items by referring to their index number:"
      ],
      "metadata": {
        "id": "8BHPF2wGNjnS"
      }
    },
    {
      "cell_type": "code",
      "source": [
        "thistuple = (\"anger\", \"fear\", \"sadness\")\n",
        "for i in range(len(thistuple)):\n",
        "  print(thistuple[i])"
      ],
      "metadata": {
        "colab": {
          "base_uri": "https://localhost:8080/"
        },
        "id": "kOqOEUWKNg1W",
        "outputId": "8a65e8e8-df32-4477-8634-80d84f7ccd93"
      },
      "execution_count": null,
      "outputs": [
        {
          "output_type": "stream",
          "name": "stdout",
          "text": [
            "anger\n",
            "fear\n",
            "sadness\n"
          ]
        }
      ]
    },
    {
      "cell_type": "markdown",
      "source": [
        "#**Using a While Loop**"
      ],
      "metadata": {
        "id": "TCWgVpBhOd8R"
      }
    },
    {
      "cell_type": "markdown",
      "source": [
        "#Example\n",
        "Print all items, using a while loop to go through all the index numbers:"
      ],
      "metadata": {
        "id": "XdK_vFonOgmX"
      }
    },
    {
      "cell_type": "code",
      "source": [
        "thistuple = (\"anger\", \"fear\", \"sadness\")\n",
        "i = 0\n",
        "while i < len(thistuple):\n",
        "  print(thistuple[i])\n",
        "  i = i + 1"
      ],
      "metadata": {
        "colab": {
          "base_uri": "https://localhost:8080/"
        },
        "id": "TIl7KhPMOiPp",
        "outputId": "c1620846-1ff1-4f94-a60b-dcaab5549bf2"
      },
      "execution_count": null,
      "outputs": [
        {
          "output_type": "stream",
          "name": "stdout",
          "text": [
            "anger\n",
            "fear\n",
            "sadness\n"
          ]
        }
      ]
    },
    {
      "cell_type": "markdown",
      "source": [
        "#**Python - Join Tuples**"
      ],
      "metadata": {
        "id": "yFnoYExNPEr2"
      }
    },
    {
      "cell_type": "markdown",
      "source": [
        "#**Join Two Tuples**"
      ],
      "metadata": {
        "id": "rI87nLJgPCxw"
      }
    },
    {
      "cell_type": "markdown",
      "source": [
        "#Example\n",
        "Join two tuples:"
      ],
      "metadata": {
        "id": "lsVv544CPExO"
      }
    },
    {
      "cell_type": "code",
      "source": [
        "tuple1 = (\"a\", \"b\" , \"c\")\n",
        "tuple2 = (1, 2, 3)\n",
        "\n",
        "tuple3 = tuple1 + tuple2\n",
        "print(tuple3)"
      ],
      "metadata": {
        "colab": {
          "base_uri": "https://localhost:8080/"
        },
        "id": "HBlSROMhPsab",
        "outputId": "1a4f2097-918c-4fd7-efab-90b313192df2"
      },
      "execution_count": null,
      "outputs": [
        {
          "output_type": "stream",
          "name": "stdout",
          "text": [
            "('a', 'b', 'c', 1, 2, 3)\n"
          ]
        }
      ]
    },
    {
      "cell_type": "markdown",
      "source": [
        "#**Multiply Tuples**"
      ],
      "metadata": {
        "id": "2TWjjjhDQFpw"
      }
    },
    {
      "cell_type": "markdown",
      "source": [
        "#Example\n",
        "Multiply the fruits tuple by 2:"
      ],
      "metadata": {
        "id": "jYTWjNhhQHHC"
      }
    },
    {
      "cell_type": "code",
      "source": [
        "emotions = (\"anger\", \"fear\", \"sadness\")\n",
        "mytuple = emotions * 2\n",
        "\n",
        "print(mytuple)"
      ],
      "metadata": {
        "colab": {
          "base_uri": "https://localhost:8080/"
        },
        "id": "Y6szeM-XQI-C",
        "outputId": "27b1bb2f-8836-4ea2-8eb6-413bbece358c"
      },
      "execution_count": null,
      "outputs": [
        {
          "output_type": "stream",
          "name": "stdout",
          "text": [
            "('anger', 'fear', 'sadness', 'anger', 'fear', 'sadness')\n"
          ]
        }
      ]
    },
    {
      "cell_type": "markdown",
      "source": [
        "#**Python Sets**"
      ],
      "metadata": {
        "id": "dfL65S2pRnBO"
      }
    },
    {
      "cell_type": "markdown",
      "source": [
        "#**Set**"
      ],
      "metadata": {
        "id": "x8XH4Pt4RoYe"
      }
    },
    {
      "cell_type": "markdown",
      "source": [
        "#Example\n",
        "Create a Set:"
      ],
      "metadata": {
        "id": "-iRZiFrtSTli"
      }
    },
    {
      "cell_type": "code",
      "source": [
        "thisset = {\"anger\", \"fear\", \"sadness\"}\n",
        "print(thisset)"
      ],
      "metadata": {
        "colab": {
          "base_uri": "https://localhost:8080/"
        },
        "id": "WTZoZsiGSEHZ",
        "outputId": "59492a4b-da3f-4eb7-e393-6d4bc658957c"
      },
      "execution_count": null,
      "outputs": [
        {
          "output_type": "stream",
          "name": "stdout",
          "text": [
            "{'anger', 'sadness', 'fear'}\n"
          ]
        }
      ]
    },
    {
      "cell_type": "markdown",
      "source": [
        "#**Duplicates Not Allowed**"
      ],
      "metadata": {
        "id": "aC0lSKCsS1_r"
      }
    },
    {
      "cell_type": "markdown",
      "source": [
        "#Example\n",
        "Duplicate values will be ignored:"
      ],
      "metadata": {
        "id": "sb93himxS3gQ"
      }
    },
    {
      "cell_type": "code",
      "source": [
        "thisset = {\"anger\", \"fear\", \"sadness\"}\n",
        "\n",
        "print(thisset)"
      ],
      "metadata": {
        "colab": {
          "base_uri": "https://localhost:8080/"
        },
        "id": "39roiM-fS5tK",
        "outputId": "60d36444-4f81-4f11-b934-7504d74e8bef"
      },
      "execution_count": null,
      "outputs": [
        {
          "output_type": "stream",
          "name": "stdout",
          "text": [
            "{'anger', 'sadness', 'fear'}\n"
          ]
        }
      ]
    },
    {
      "cell_type": "markdown",
      "source": [
        "#**Get the Length of a Set**"
      ],
      "metadata": {
        "id": "B9otKWr-T2dO"
      }
    },
    {
      "cell_type": "markdown",
      "source": [
        "#Example\n",
        "Get the number of items in a set:"
      ],
      "metadata": {
        "id": "6Fvxn-tTT3um"
      }
    },
    {
      "cell_type": "code",
      "source": [
        "thisset = {\"anger\", \"fear\", \"sadness\"}\n",
        "\n",
        "print(len(thisset))"
      ],
      "metadata": {
        "colab": {
          "base_uri": "https://localhost:8080/"
        },
        "id": "l2kMIEj8T5SZ",
        "outputId": "eeacca7e-6e87-4fdb-e8e7-403919c7ec24"
      },
      "execution_count": null,
      "outputs": [
        {
          "output_type": "stream",
          "name": "stdout",
          "text": [
            "3\n"
          ]
        }
      ]
    },
    {
      "cell_type": "markdown",
      "source": [
        "#**Set Items - Data Types**"
      ],
      "metadata": {
        "id": "yR7n1ZJEUtZx"
      }
    },
    {
      "cell_type": "markdown",
      "source": [
        "#Example\n",
        "String, int and boolean data types:"
      ],
      "metadata": {
        "id": "3fX_4OXGWQ3v"
      }
    },
    {
      "cell_type": "code",
      "source": [
        "set1 = {\"anger\", \"fear\", \"sadness\"}\n",
        "set2 = {1, 5, 7, 9, 3}\n",
        "set3 = {True, False, False}\n",
        "\n",
        "print(set1)\n",
        "print(set2)\n",
        "print(set3)"
      ],
      "metadata": {
        "colab": {
          "base_uri": "https://localhost:8080/"
        },
        "id": "18K-OldeWTFG",
        "outputId": "3c573fe2-dfcb-4248-c700-906c2c7807b2"
      },
      "execution_count": null,
      "outputs": [
        {
          "output_type": "stream",
          "name": "stdout",
          "text": [
            "{'anger', 'sadness', 'fear'}\n",
            "{1, 3, 5, 7, 9}\n",
            "{False, True}\n"
          ]
        }
      ]
    },
    {
      "cell_type": "markdown",
      "source": [
        "#Example\n",
        "A set with strings, integers and boolean values:"
      ],
      "metadata": {
        "id": "S6sny_vsWsKd"
      }
    },
    {
      "cell_type": "code",
      "source": [
        "set1 = {\"abc\", 34, True, 40, \"male\"}\n",
        "\n",
        "print(set1)\n"
      ],
      "metadata": {
        "colab": {
          "base_uri": "https://localhost:8080/"
        },
        "id": "7EzB_0GfW-Bv",
        "outputId": "2c645645-ae39-4f41-ae54-0cd3a0047bcd"
      },
      "execution_count": null,
      "outputs": [
        {
          "output_type": "stream",
          "name": "stdout",
          "text": [
            "{True, 34, 40, 'male', 'abc'}\n"
          ]
        }
      ]
    },
    {
      "cell_type": "markdown",
      "source": [
        "#**type()**"
      ],
      "metadata": {
        "id": "FL7aIqFTYSxX"
      }
    },
    {
      "cell_type": "markdown",
      "source": [
        "#Example\n",
        "What is the data type of a set?"
      ],
      "metadata": {
        "id": "OL3OnL92Ym7F"
      }
    },
    {
      "cell_type": "code",
      "source": [
        "myset = {\"anger\", \"fear\", \"sadness\"}\n",
        "\n",
        "print(type(myset))"
      ],
      "metadata": {
        "id": "aKvgIUatYW18"
      },
      "execution_count": null,
      "outputs": []
    },
    {
      "cell_type": "markdown",
      "source": [
        "#**The set() Constructor**"
      ],
      "metadata": {
        "id": "ZbGjCtfZZSrn"
      }
    },
    {
      "cell_type": "markdown",
      "source": [
        "#Example\n",
        "Using the set() constructor to make a set:"
      ],
      "metadata": {
        "id": "83sm_hs3ZUK7"
      }
    },
    {
      "cell_type": "code",
      "source": [
        "thisset = set((\"anger\", \"fear\", \"sadness\"))\n",
        "print(thisset)"
      ],
      "metadata": {
        "colab": {
          "base_uri": "https://localhost:8080/"
        },
        "id": "QFOIum1QZWmF",
        "outputId": "f4f4ef40-c00f-41da-97a9-365636099f05"
      },
      "execution_count": null,
      "outputs": [
        {
          "output_type": "stream",
          "name": "stdout",
          "text": [
            "{'anger', 'sadness', 'fear'}\n"
          ]
        }
      ]
    },
    {
      "cell_type": "markdown",
      "source": [
        "#**Python - Access Set Items**"
      ],
      "metadata": {
        "id": "tUPRk-tEaHJO"
      }
    },
    {
      "cell_type": "markdown",
      "source": [
        "#**Access Items**"
      ],
      "metadata": {
        "id": "M6l3ElVBbhaU"
      }
    },
    {
      "cell_type": "markdown",
      "source": [
        "#Example\n",
        "Loop through the set, and print the values:"
      ],
      "metadata": {
        "id": "u64usLwoaIwR"
      }
    },
    {
      "cell_type": "code",
      "source": [
        "thisset = {\"anger\", \"fear\", \"sadness\"}\n",
        "\n",
        "for x in thisset:\n",
        "  print(x)\n"
      ],
      "metadata": {
        "colab": {
          "base_uri": "https://localhost:8080/"
        },
        "id": "4r3DVK1UbMXU",
        "outputId": "88587767-1c97-4d27-f1f1-5dc33db92b71"
      },
      "execution_count": null,
      "outputs": [
        {
          "output_type": "stream",
          "name": "stdout",
          "text": [
            "anger\n",
            "sadness\n",
            "fear\n"
          ]
        }
      ]
    },
    {
      "cell_type": "markdown",
      "source": [
        "#Example\n",
        "Check if \"fear\" is present in the set:"
      ],
      "metadata": {
        "id": "6P-j5wxAbkxC"
      }
    },
    {
      "cell_type": "code",
      "source": [
        "thisset = {\"anger\", \"fear\", \"sadness\"}\n",
        "\n",
        "print(\"fear\" in thisset)"
      ],
      "metadata": {
        "colab": {
          "base_uri": "https://localhost:8080/"
        },
        "id": "cPzjsdkhdH8U",
        "outputId": "c6e77bd5-1b6e-48b0-a851-64bab11825f8"
      },
      "execution_count": null,
      "outputs": [
        {
          "output_type": "stream",
          "name": "stdout",
          "text": [
            "True\n"
          ]
        }
      ]
    },
    {
      "cell_type": "markdown",
      "source": [
        "#**Python - Add Set Items**"
      ],
      "metadata": {
        "id": "1MGXTeSpdbuc"
      }
    },
    {
      "cell_type": "markdown",
      "source": [
        "#**Add Items**"
      ],
      "metadata": {
        "id": "tIExQU94ddlc"
      }
    },
    {
      "cell_type": "markdown",
      "source": [
        "#Example\n",
        "Add an item to a set, using the add() method:"
      ],
      "metadata": {
        "id": "gLPDC32ImQr3"
      }
    },
    {
      "cell_type": "code",
      "source": [
        "thisset = {\"anger\", \"fear\", \"sadness\"}\n",
        "\n",
        "thisset.add(\"happiness\")\n",
        "\n",
        "print(thisset)"
      ],
      "metadata": {
        "colab": {
          "base_uri": "https://localhost:8080/"
        },
        "id": "ZwL7E_9OnEQl",
        "outputId": "0ff7534c-ce8e-4c71-8796-7486500459c1"
      },
      "execution_count": null,
      "outputs": [
        {
          "output_type": "stream",
          "name": "stdout",
          "text": [
            "{'anger', 'sadness', 'fear', 'happiness'}\n"
          ]
        }
      ]
    },
    {
      "cell_type": "markdown",
      "source": [
        "#**Add Sets**"
      ],
      "metadata": {
        "id": "RSaF17phncZu"
      }
    },
    {
      "cell_type": "markdown",
      "source": [
        "#Example\n",
        "Add elements from tropical into thisset:"
      ],
      "metadata": {
        "id": "ScP9vJ4cnd_f"
      }
    },
    {
      "cell_type": "code",
      "source": [
        "thisset = {\"anger\", \"fear\", \"sadness\"}\n",
        "emtions = {\"happiness\", \"surprise\", \"disgust\"}\n",
        "\n",
        "thisset.update(emotions)\n",
        "\n",
        "print(thisset)\n"
      ],
      "metadata": {
        "colab": {
          "base_uri": "https://localhost:8080/"
        },
        "id": "5QaepCk8nvzd",
        "outputId": "85d4c9c2-f915-4743-bc25-648e3be63962"
      },
      "execution_count": null,
      "outputs": [
        {
          "output_type": "stream",
          "name": "stdout",
          "text": [
            "{'sadness', 'anger', 'disgust', 'surprise', 'fear', 'happiness'}\n"
          ]
        }
      ]
    },
    {
      "cell_type": "markdown",
      "source": [
        "#**Add Any Iterable**"
      ],
      "metadata": {
        "id": "-YL6lHA4pJJN"
      }
    },
    {
      "cell_type": "markdown",
      "source": [
        "#Example\n",
        "Add elements of a list to at set:"
      ],
      "metadata": {
        "id": "mjvTFLuhpLzm"
      }
    },
    {
      "cell_type": "code",
      "source": [
        "thisset = {\"anger\", \"fear\", \"sadness\"}\n",
        "mylist = {\"happiness\", \"surprise\", \"disgust\"}\n",
        "\n",
        "thisset.update(mylist)\n",
        "\n",
        "print(thisset)"
      ],
      "metadata": {
        "colab": {
          "base_uri": "https://localhost:8080/"
        },
        "id": "NmkbUxN1pNki",
        "outputId": "6c3c8b5f-9ba5-41a8-e203-7119debdbbbf"
      },
      "execution_count": null,
      "outputs": [
        {
          "output_type": "stream",
          "name": "stdout",
          "text": [
            "{'sadness', 'anger', 'disgust', 'surprise', 'fear', 'happiness'}\n"
          ]
        }
      ]
    },
    {
      "cell_type": "markdown",
      "source": [
        "#**Python - Remove Set Items**"
      ],
      "metadata": {
        "id": "8Qrqdojupopl"
      }
    },
    {
      "cell_type": "markdown",
      "source": [
        "#Remove Item\n"
      ],
      "metadata": {
        "id": "O83uJu9fpphM"
      }
    },
    {
      "cell_type": "markdown",
      "source": [
        "#Example\n",
        "Remove \"fear\" by using the remove() method:"
      ],
      "metadata": {
        "id": "TcRjEQWdqWgv"
      }
    },
    {
      "cell_type": "code",
      "source": [
        "thisset = {\"anger\", \"fear\", \"sadness\"}\n",
        "\n",
        "thisset.remove(\"fear\")\n",
        "\n",
        "print(thisset)"
      ],
      "metadata": {
        "colab": {
          "base_uri": "https://localhost:8080/"
        },
        "id": "P1reO-LvqXGY",
        "outputId": "7801fcc6-1072-4651-8d91-82beaef0c5a3"
      },
      "execution_count": null,
      "outputs": [
        {
          "output_type": "stream",
          "name": "stdout",
          "text": [
            "{'anger', 'sadness'}\n"
          ]
        }
      ]
    },
    {
      "cell_type": "markdown",
      "source": [
        "#Example\n",
        "Remove \"banana\" by using the discard() method:"
      ],
      "metadata": {
        "id": "y0ISJAltxkR9"
      }
    },
    {
      "cell_type": "code",
      "source": [
        "thisset = {\"anger\", \"fear\", \"sadness\"}\n",
        "\n",
        "thisset.discard(\"fear\")\n",
        "\n",
        "print(thisset)"
      ],
      "metadata": {
        "colab": {
          "base_uri": "https://localhost:8080/"
        },
        "id": "xf1e3aOCxj2k",
        "outputId": "3a0dc8ed-b007-4681-ca55-4c5a1b207f78"
      },
      "execution_count": 23,
      "outputs": [
        {
          "output_type": "stream",
          "name": "stdout",
          "text": [
            "{'anger', 'sadness'}\n"
          ]
        }
      ]
    },
    {
      "cell_type": "markdown",
      "source": [
        "#Example\n",
        "Remove the last item by using the pop() method:"
      ],
      "metadata": {
        "id": "__h93CPXy_z5"
      }
    },
    {
      "cell_type": "code",
      "source": [
        "thisset = {\"anger\", \"fear\", \"sadness\"}\n",
        "\n",
        "x = thisset.pop()\n",
        "\n",
        "print(x)\n",
        "\n",
        "print(thisset)"
      ],
      "metadata": {
        "colab": {
          "base_uri": "https://localhost:8080/"
        },
        "id": "0dBQyiQ4zATB",
        "outputId": "732c6dc1-53b8-4e9e-e955-11b7c077763f"
      },
      "execution_count": 24,
      "outputs": [
        {
          "output_type": "stream",
          "name": "stdout",
          "text": [
            "anger\n",
            "{'sadness', 'fear'}\n"
          ]
        }
      ]
    },
    {
      "cell_type": "markdown",
      "source": [
        "#Example\n",
        "The clear() method empties the set:"
      ],
      "metadata": {
        "id": "Th5Qna-bzrC_"
      }
    },
    {
      "cell_type": "code",
      "source": [
        "thisset = {\"anger\", \"fear\", \"sadness\"}\n",
        "\n",
        "thisset.clear()\n",
        "\n",
        "print(thisset)"
      ],
      "metadata": {
        "colab": {
          "base_uri": "https://localhost:8080/"
        },
        "id": "dDkRDGYRzsO3",
        "outputId": "cc012a47-cc41-448e-930c-3b9009289788"
      },
      "execution_count": 32,
      "outputs": [
        {
          "output_type": "stream",
          "name": "stdout",
          "text": [
            "set()\n"
          ]
        }
      ]
    },
    {
      "cell_type": "markdown",
      "source": [
        "#Example\n",
        "The del keyword will delete the set completely:"
      ],
      "metadata": {
        "id": "Fr20-_nq0cda"
      }
    },
    {
      "cell_type": "code",
      "source": [
        "thisset = {\"anger\", \"fear\", \"sadness\"}\n",
        "\n",
        "del thisset\n",
        "\n",
        "print(thisset)"
      ],
      "metadata": {
        "colab": {
          "base_uri": "https://localhost:8080/",
          "height": 207
        },
        "id": "RBHB6cRS0dE2",
        "outputId": "b98288b0-56e8-4194-b973-2016323ffb76"
      },
      "execution_count": 34,
      "outputs": [
        {
          "output_type": "error",
          "ename": "NameError",
          "evalue": "ignored",
          "traceback": [
            "\u001b[0;31m---------------------------------------------------------------------------\u001b[0m",
            "\u001b[0;31mNameError\u001b[0m                                 Traceback (most recent call last)",
            "\u001b[0;32m<ipython-input-34-84ecc7648a28>\u001b[0m in \u001b[0;36m<module>\u001b[0;34m\u001b[0m\n\u001b[1;32m      3\u001b[0m \u001b[0;32mdel\u001b[0m \u001b[0mthisset\u001b[0m\u001b[0;34m\u001b[0m\u001b[0;34m\u001b[0m\u001b[0m\n\u001b[1;32m      4\u001b[0m \u001b[0;34m\u001b[0m\u001b[0m\n\u001b[0;32m----> 5\u001b[0;31m \u001b[0mprint\u001b[0m\u001b[0;34m(\u001b[0m\u001b[0mthisset\u001b[0m\u001b[0;34m)\u001b[0m\u001b[0;34m\u001b[0m\u001b[0;34m\u001b[0m\u001b[0m\n\u001b[0m",
            "\u001b[0;31mNameError\u001b[0m: name 'thisset' is not defined"
          ]
        }
      ]
    },
    {
      "cell_type": "markdown",
      "source": [
        "#**Python - Loop Sets**\n",
        "\n",
        "\n",
        "\n"
      ],
      "metadata": {
        "id": "r0xnT2_i1zPG"
      }
    },
    {
      "cell_type": "markdown",
      "source": [
        "#**Loop Items**"
      ],
      "metadata": {
        "id": "YK1bb35q103W"
      }
    },
    {
      "cell_type": "markdown",
      "source": [
        "#Example\n",
        "Loop through the set, and print the values:"
      ],
      "metadata": {
        "id": "kVud_w4E2BH3"
      }
    },
    {
      "cell_type": "code",
      "source": [
        "thisset = {\"anger\", \"fear\", \"sadness\"}\n",
        "\n",
        "for x in thisset:\n",
        "  print(x)\n"
      ],
      "metadata": {
        "colab": {
          "base_uri": "https://localhost:8080/"
        },
        "id": "kLwHs7Q-2GHR",
        "outputId": "3637171b-4063-43aa-8d54-01573b1ab4c8"
      },
      "execution_count": 35,
      "outputs": [
        {
          "output_type": "stream",
          "name": "stdout",
          "text": [
            "anger\n",
            "sadness\n",
            "fear\n"
          ]
        }
      ]
    },
    {
      "cell_type": "markdown",
      "source": [
        "#**Python - Join Sets**"
      ],
      "metadata": {
        "id": "_HpK8-O53ETH"
      }
    },
    {
      "cell_type": "markdown",
      "source": [
        "#**Join Two Sets**"
      ],
      "metadata": {
        "id": "MjRLgu8S3GUX"
      }
    },
    {
      "cell_type": "markdown",
      "source": [
        "#Example\n",
        "The union() method returns a new set with all items from both sets:"
      ],
      "metadata": {
        "id": "nBbdM1pR3JPg"
      }
    },
    {
      "cell_type": "code",
      "source": [
        "set1 = {\"a\", \"b\" , \"c\"}\n",
        "set2 = {1, 2, 3}\n",
        "\n",
        "set3 = set1.union(set2)\n",
        "print(set3)\n"
      ],
      "metadata": {
        "colab": {
          "base_uri": "https://localhost:8080/"
        },
        "id": "1OyP9bXL3O9G",
        "outputId": "539af653-063e-4eee-9d07-b888bdf1dd8a"
      },
      "execution_count": 36,
      "outputs": [
        {
          "output_type": "stream",
          "name": "stdout",
          "text": [
            "{1, 2, 3, 'b', 'c', 'a'}\n"
          ]
        }
      ]
    },
    {
      "cell_type": "markdown",
      "source": [
        "#Example\n",
        "The update() method inserts the items in set2 into set1:"
      ],
      "metadata": {
        "id": "tB4EI-Nc40dV"
      }
    },
    {
      "cell_type": "code",
      "source": [
        "set1 = {\"a\", \"b\" , \"c\"}\n",
        "set2 = {1, 2, 3}\n",
        "\n",
        "set1.update(set2)\n",
        "print(set1)\n"
      ],
      "metadata": {
        "colab": {
          "base_uri": "https://localhost:8080/"
        },
        "id": "3XA8MFY741rv",
        "outputId": "56abe91e-cc35-43e1-8e00-0959223c61d1"
      },
      "execution_count": 37,
      "outputs": [
        {
          "output_type": "stream",
          "name": "stdout",
          "text": [
            "{1, 2, 3, 'b', 'c', 'a'}\n"
          ]
        }
      ]
    },
    {
      "cell_type": "markdown",
      "source": [
        "#**Keep ONLY the Duplicates**"
      ],
      "metadata": {
        "id": "kO4JJji95Gj-"
      }
    },
    {
      "cell_type": "markdown",
      "source": [
        "#Example\n",
        "Keep the items that exist in both set x, and set y:"
      ],
      "metadata": {
        "id": "ipRo07VS5H2U"
      }
    },
    {
      "cell_type": "code",
      "source": [
        "x = {\"anger\", \"fear\", \"sadness\"}\n",
        "y = {\"sadness\", \"guilt\", \"pain\"}\n",
        "\n",
        "x.intersection_update(y)\n",
        "\n",
        "print(x)\n"
      ],
      "metadata": {
        "colab": {
          "base_uri": "https://localhost:8080/"
        },
        "id": "wjjNhfSu5Im1",
        "outputId": "829a60b8-937b-4739-ce87-af7a0853b150"
      },
      "execution_count": 39,
      "outputs": [
        {
          "output_type": "stream",
          "name": "stdout",
          "text": [
            "{'sadness'}\n"
          ]
        }
      ]
    },
    {
      "cell_type": "markdown",
      "source": [
        "#Example\n",
        "Return a set that contains the items that exist in both set x, and set y:"
      ],
      "metadata": {
        "id": "DWQij_vp6jJZ"
      }
    },
    {
      "cell_type": "code",
      "source": [
        "x = {\"anger\", \"fear\", \"sadness\"}\n",
        "y = {\"sadness\", \"guilt\", \"pain\"}\n",
        "\n",
        "z = x.intersection(y)\n",
        "\n",
        "print(z)"
      ],
      "metadata": {
        "colab": {
          "base_uri": "https://localhost:8080/"
        },
        "id": "DzhS8vOf6kHX",
        "outputId": "c5a06a7f-7c1c-453f-9ad7-b3d03f9d74ba"
      },
      "execution_count": 40,
      "outputs": [
        {
          "output_type": "stream",
          "name": "stdout",
          "text": [
            "{'sadness'}\n"
          ]
        }
      ]
    },
    {
      "cell_type": "markdown",
      "source": [
        "#**Keep All, But NOT the Duplicates**"
      ],
      "metadata": {
        "id": "jUiwsL7l6vDm"
      }
    },
    {
      "cell_type": "markdown",
      "source": [
        "#Example\n",
        "Keep the items that are not present in both sets:"
      ],
      "metadata": {
        "id": "W0TsLZCB6wtx"
      }
    },
    {
      "cell_type": "code",
      "source": [
        "x = {\"anger\", \"fear\", \"sadness\"}\n",
        "y = {\"sadness\", \"guilt\", \"pain\"}\n",
        "\n",
        "x.symmetric_difference_update(y)\n",
        "\n",
        "print(x)"
      ],
      "metadata": {
        "colab": {
          "base_uri": "https://localhost:8080/"
        },
        "id": "YBlrIju1605B",
        "outputId": "6a93c984-e520-47d6-c169-962322bf8401"
      },
      "execution_count": 41,
      "outputs": [
        {
          "output_type": "stream",
          "name": "stdout",
          "text": [
            "{'fear', 'guilt', 'anger', 'pain'}\n"
          ]
        }
      ]
    },
    {
      "cell_type": "markdown",
      "source": [
        "#Example\n",
        "Return a set that contains all items from both sets, except items that are present in both:"
      ],
      "metadata": {
        "id": "5j1xD0oP70PP"
      }
    },
    {
      "cell_type": "code",
      "source": [
        "x = {\"anger\", \"fear\", \"sadness\"}\n",
        "y = {\"sadness\", \"guilt\", \"pain\"}\n",
        "\n",
        "z = x.symmetric_difference(y)\n",
        "\n",
        "print(z)\n"
      ],
      "metadata": {
        "colab": {
          "base_uri": "https://localhost:8080/"
        },
        "id": "Hhil_t--70qO",
        "outputId": "84b5aff2-bc0e-4ffe-aa19-2d7e9dcc3053"
      },
      "execution_count": 42,
      "outputs": [
        {
          "output_type": "stream",
          "name": "stdout",
          "text": [
            "{'fear', 'guilt', 'anger', 'pain'}\n"
          ]
        }
      ]
    },
    {
      "cell_type": "markdown",
      "source": [],
      "metadata": {
        "id": "RvSJDvOvO0_v"
      }
    },
    {
      "cell_type": "markdown",
      "source": [
        "#**Python Dictionaries**"
      ],
      "metadata": {
        "id": "3UofrukSO4oo"
      }
    },
    {
      "cell_type": "markdown",
      "source": [
        "#**Dictionary**"
      ],
      "metadata": {
        "id": "9k6Rvr8tO6q6"
      }
    },
    {
      "cell_type": "markdown",
      "source": [
        "#Example\n",
        "Create and print a dictionary:"
      ],
      "metadata": {
        "id": "tp0-QsgdP6Xk"
      }
    },
    {
      "cell_type": "code",
      "source": [
        "thisdict =\t{\n",
        "  \"brand\": \"Ford\",\n",
        "  \"model\": \"Mustang\",\n",
        "  \"year\": 1964\n",
        "}\n",
        "print(thisdict)"
      ],
      "metadata": {
        "colab": {
          "base_uri": "https://localhost:8080/"
        },
        "id": "wTT2mc7tP6N5",
        "outputId": "c2a88823-82cd-439c-8123-b9a6e05a5814"
      },
      "execution_count": 43,
      "outputs": [
        {
          "output_type": "stream",
          "name": "stdout",
          "text": [
            "{'brand': 'Ford', 'model': 'Mustang', 'year': 1964}\n"
          ]
        }
      ]
    },
    {
      "cell_type": "markdown",
      "source": [
        "#**Dictionary Items** "
      ],
      "metadata": {
        "id": "u8EulZs2QSmp"
      }
    },
    {
      "cell_type": "markdown",
      "source": [
        "#Example\n",
        "Print the \"brand\" value of the dictionary:"
      ],
      "metadata": {
        "id": "cDQpwBGYQT2i"
      }
    },
    {
      "cell_type": "code",
      "source": [
        "thisdict = {\n",
        "  \"brand\": \"Ford\",\n",
        "  \"model\": \"Mustang\",\n",
        "  \"year\": 1964\n",
        "}\n",
        "print(thisdict[\"brand\"])"
      ],
      "metadata": {
        "colab": {
          "base_uri": "https://localhost:8080/"
        },
        "id": "pIDkLhQeQX_L",
        "outputId": "c1eda341-a62e-4396-fc4a-50b52fdbe401"
      },
      "execution_count": 44,
      "outputs": [
        {
          "output_type": "stream",
          "name": "stdout",
          "text": [
            "Ford\n"
          ]
        }
      ]
    },
    {
      "cell_type": "markdown",
      "source": [
        "#**Duplicates Not Allowed**"
      ],
      "metadata": {
        "id": "kPcSHUkbQuWN"
      }
    },
    {
      "cell_type": "markdown",
      "source": [
        "#Example\n",
        "Duplicate values will overwrite existing values:"
      ],
      "metadata": {
        "id": "926UYkJeQ6jZ"
      }
    },
    {
      "cell_type": "code",
      "source": [
        "thisdict = {\n",
        "  \"brand\": \"Ford\",\n",
        "  \"model\": \"Mustang\",\n",
        "  \"year\": 1964,\n",
        "  \"year\": 2020\n",
        "}\n",
        "print(thisdict)"
      ],
      "metadata": {
        "colab": {
          "base_uri": "https://localhost:8080/"
        },
        "id": "UXf3YpxDQ8kW",
        "outputId": "cdb493b3-6c71-45df-a51d-808418ff7815"
      },
      "execution_count": 45,
      "outputs": [
        {
          "output_type": "stream",
          "name": "stdout",
          "text": [
            "{'brand': 'Ford', 'model': 'Mustang', 'year': 2020}\n"
          ]
        }
      ]
    },
    {
      "cell_type": "markdown",
      "source": [
        "#**Dictionary Length**"
      ],
      "metadata": {
        "id": "ortx_pzMRg2B"
      }
    },
    {
      "cell_type": "markdown",
      "source": [
        "#Example\n",
        "Print the number of items in the dictionary:"
      ],
      "metadata": {
        "id": "jLPk3G0fRhvD"
      }
    },
    {
      "cell_type": "code",
      "source": [
        "thisdict = {\n",
        "  \"brand\": \"Ford\",\n",
        "  \"model\": \"Mustang\",\n",
        "  \"year\": 1964,\n",
        "  \"year\": 2020\n",
        "}\n",
        "print(len(thisdict))"
      ],
      "metadata": {
        "colab": {
          "base_uri": "https://localhost:8080/"
        },
        "id": "YdPeJEOBRkBo",
        "outputId": "baf6bcb4-f77e-49a1-fda2-607fcaed00c4"
      },
      "execution_count": 46,
      "outputs": [
        {
          "output_type": "stream",
          "name": "stdout",
          "text": [
            "3\n"
          ]
        }
      ]
    },
    {
      "cell_type": "markdown",
      "source": [
        "#**Dictionary Items - Data Types**"
      ],
      "metadata": {
        "id": "PzrBYoXvRvQ0"
      }
    },
    {
      "cell_type": "markdown",
      "source": [
        "#Example\n",
        "String, int, boolean, and list data types:"
      ],
      "metadata": {
        "id": "1ipcSp0TRw3h"
      }
    },
    {
      "cell_type": "code",
      "source": [
        "thisdict = {\n",
        "  \"brand\": \"Ford\",\n",
        "  \"electric\": False,\n",
        "  \"year\": 1964,\n",
        "  \"colors\": [\"red\", \"white\", \"blue\"]\n",
        "}\n",
        "\n",
        "print(thisdict)\n"
      ],
      "metadata": {
        "colab": {
          "base_uri": "https://localhost:8080/"
        },
        "id": "o63sAEGoRzPg",
        "outputId": "f59df842-a507-47ad-d15e-2dee59932438"
      },
      "execution_count": 47,
      "outputs": [
        {
          "output_type": "stream",
          "name": "stdout",
          "text": [
            "{'brand': 'Ford', 'electric': False, 'year': 1964, 'colors': ['red', 'white', 'blue']}\n"
          ]
        }
      ]
    },
    {
      "cell_type": "markdown",
      "source": [
        "#**type()**"
      ],
      "metadata": {
        "id": "TNBS-ISHSTn9"
      }
    },
    {
      "cell_type": "markdown",
      "source": [
        "#Example\n",
        "Print the data type of a dictionary:\n",
        "\n"
      ],
      "metadata": {
        "id": "AfYGiGKHSVM3"
      }
    },
    {
      "cell_type": "code",
      "source": [
        "thisdict = {\n",
        "  \"brand\": \"Ford\",\n",
        "  \"model\": \"Mustang\",\n",
        "  \"year\": 1964\n",
        "}\n",
        "print(type(thisdict))"
      ],
      "metadata": {
        "colab": {
          "base_uri": "https://localhost:8080/"
        },
        "id": "P_ER5J_KSX6c",
        "outputId": "3e1ee563-7a35-4a51-b5cc-5fc7a6c2428f"
      },
      "execution_count": 48,
      "outputs": [
        {
          "output_type": "stream",
          "name": "stdout",
          "text": [
            "<class 'dict'>\n"
          ]
        }
      ]
    },
    {
      "cell_type": "markdown",
      "source": [
        "#**The dict() Constructor**"
      ],
      "metadata": {
        "id": "ZlGgIiuQSzBG"
      }
    },
    {
      "cell_type": "markdown",
      "source": [
        "#Example\n",
        "Using the dict() method to make a dictionary:"
      ],
      "metadata": {
        "id": "cAY1oNoOSz-v"
      }
    },
    {
      "cell_type": "code",
      "source": [
        "thisdict = dict(name = \"John\", age = 36, country = \"Norway\")\n",
        "\n",
        "print(thisdict) "
      ],
      "metadata": {
        "colab": {
          "base_uri": "https://localhost:8080/"
        },
        "id": "dEC1I-ZpS16R",
        "outputId": "5b0542b7-19e7-41d1-fb21-cb9464a19774"
      },
      "execution_count": 49,
      "outputs": [
        {
          "output_type": "stream",
          "name": "stdout",
          "text": [
            "{'name': 'John', 'age': 36, 'country': 'Norway'}\n"
          ]
        }
      ]
    },
    {
      "cell_type": "markdown",
      "source": [
        "#**Python - Access Dictionary Items**"
      ],
      "metadata": {
        "id": "aKzpUv4tTGW3"
      }
    },
    {
      "cell_type": "markdown",
      "source": [
        "#**Accessing Items**"
      ],
      "metadata": {
        "id": "SHGOCRr-THud"
      }
    },
    {
      "cell_type": "markdown",
      "source": [
        "#Example\n",
        "Get the value of the \"model\" key:"
      ],
      "metadata": {
        "id": "PUNLgC3-TS-v"
      }
    },
    {
      "cell_type": "code",
      "source": [
        "thisdict =\t{\n",
        "  \"brand\": \"Ford\",\n",
        "  \"model\": \"Mustang\",\n",
        "  \"year\": 1964\n",
        "}\n",
        "x = thisdict[\"model\"]\n",
        "print(x)"
      ],
      "metadata": {
        "colab": {
          "base_uri": "https://localhost:8080/"
        },
        "id": "bpj5_-tUTSzX",
        "outputId": "78fd537a-1af0-42af-8743-1261c6472103"
      },
      "execution_count": 50,
      "outputs": [
        {
          "output_type": "stream",
          "name": "stdout",
          "text": [
            "Mustang\n"
          ]
        }
      ]
    },
    {
      "cell_type": "markdown",
      "source": [
        "#Example\n",
        "Get the value of the \"model\" key:"
      ],
      "metadata": {
        "id": "f6fO6fN4UIYH"
      }
    },
    {
      "cell_type": "code",
      "source": [
        "thisdict =\t{\n",
        "  \"brand\": \"Ford\",\n",
        "  \"model\": \"Mustang\",\n",
        "  \"year\": 1964\n",
        "}\n",
        "x = thisdict.get(\"model\")\n",
        "print(x)\n"
      ],
      "metadata": {
        "colab": {
          "base_uri": "https://localhost:8080/"
        },
        "id": "-0Je3-tLURYa",
        "outputId": "6d5afdd4-bbaf-48ca-f095-fa441b7fe988"
      },
      "execution_count": 51,
      "outputs": [
        {
          "output_type": "stream",
          "name": "stdout",
          "text": [
            "Mustang\n"
          ]
        }
      ]
    },
    {
      "cell_type": "markdown",
      "source": [
        "#**Get Keys**"
      ],
      "metadata": {
        "id": "6gBlakisUcYG"
      }
    },
    {
      "cell_type": "markdown",
      "source": [
        "#Example\n",
        "Get a list of the keys: "
      ],
      "metadata": {
        "id": "6lPxcFq2UvjU"
      }
    },
    {
      "cell_type": "code",
      "source": [
        "thisdict = {\n",
        "  \"brand\": \"Ford\",\n",
        "  \"model\": \"Mustang\",\n",
        "  \"year\": 1964\n",
        "}\n",
        "\n",
        "x = thisdict.keys()\n",
        "\n",
        "print(x)"
      ],
      "metadata": {
        "colab": {
          "base_uri": "https://localhost:8080/"
        },
        "id": "h1wvDCddU46D",
        "outputId": "433d63de-7e9c-492e-b38e-600239cf12c1"
      },
      "execution_count": 52,
      "outputs": [
        {
          "output_type": "stream",
          "name": "stdout",
          "text": [
            "dict_keys(['brand', 'model', 'year'])\n"
          ]
        }
      ]
    },
    {
      "cell_type": "markdown",
      "source": [
        "#Example\n",
        "Add a new item to the original dictionary, and see that the keys list gets updated as well:"
      ],
      "metadata": {
        "id": "63KI7Mp_VZTT"
      }
    },
    {
      "cell_type": "code",
      "source": [
        "car = {\n",
        "\"brand\": \"Ford\",\n",
        "\"model\": \"Mustang\",\n",
        "\"year\": 1964\n",
        "}\n",
        "\n",
        "x = car.keys()\n",
        "\n",
        "print(x) #before the change\n",
        "\n",
        "car[\"color\"] = \"white\"\n",
        "\n",
        "print(x) #after the change"
      ],
      "metadata": {
        "colab": {
          "base_uri": "https://localhost:8080/"
        },
        "id": "XUUIdsVoVh1a",
        "outputId": "4ac51dc0-a981-4c21-9851-2fb42bd4780c"
      },
      "execution_count": 53,
      "outputs": [
        {
          "output_type": "stream",
          "name": "stdout",
          "text": [
            "dict_keys(['brand', 'model', 'year'])\n",
            "dict_keys(['brand', 'model', 'year', 'color'])\n"
          ]
        }
      ]
    },
    {
      "cell_type": "markdown",
      "source": [
        "#**Get Values**"
      ],
      "metadata": {
        "id": "ikk1CAMfVyYp"
      }
    },
    {
      "cell_type": "markdown",
      "source": [
        "#Example\n",
        "Get a list of the values:"
      ],
      "metadata": {
        "id": "33hinpDsV0yq"
      }
    },
    {
      "cell_type": "code",
      "source": [
        "thisdict = {\n",
        "  \"brand\": \"Ford\",\n",
        "  \"model\": \"Mustang\",\n",
        "  \"year\": 1964\n",
        "}\n",
        "\n",
        "x = thisdict.values()\n",
        "\n",
        "print(x)"
      ],
      "metadata": {
        "colab": {
          "base_uri": "https://localhost:8080/"
        },
        "id": "DOV1de-tV3b9",
        "outputId": "c03a71db-505c-43e9-d0fe-34602587b499"
      },
      "execution_count": 54,
      "outputs": [
        {
          "output_type": "stream",
          "name": "stdout",
          "text": [
            "dict_values(['Ford', 'Mustang', 1964])\n"
          ]
        }
      ]
    },
    {
      "cell_type": "markdown",
      "source": [
        "#Example\n",
        "Make a change in the original dictionary, and see that the values list gets updated as well:"
      ],
      "metadata": {
        "id": "LkEy-ApMWfNW"
      }
    },
    {
      "cell_type": "code",
      "source": [
        "car = {\n",
        "\"brand\": \"Ford\",\n",
        "\"model\": \"Mustang\",\n",
        "\"year\": 1964\n",
        "}\n",
        "\n",
        "x = car.values()\n",
        "\n",
        "print(x) #before the change\n",
        "\n",
        "car[\"year\"] = 2020\n",
        "\n",
        "print(x) #after the change"
      ],
      "metadata": {
        "colab": {
          "base_uri": "https://localhost:8080/"
        },
        "id": "o5p-H4gUWfpT",
        "outputId": "eb1748a5-302a-43c2-e6c4-c2271253e3af"
      },
      "execution_count": 55,
      "outputs": [
        {
          "output_type": "stream",
          "name": "stdout",
          "text": [
            "dict_values(['Ford', 'Mustang', 1964])\n",
            "dict_values(['Ford', 'Mustang', 2020])\n"
          ]
        }
      ]
    },
    {
      "cell_type": "markdown",
      "source": [
        "#Example\n",
        "Add a new item to the original dictionary, and see that the values list gets updated as well:"
      ],
      "metadata": {
        "id": "YF3qVGY7XLTi"
      }
    },
    {
      "cell_type": "code",
      "source": [
        "car = {\n",
        "\"brand\": \"Ford\",\n",
        "\"model\": \"Mustang\",\n",
        "\"year\": 1964\n",
        "}\n",
        "\n",
        "x = car.values()\n",
        "\n",
        "print(x) #before the change\n",
        "\n",
        "car[\"color\"] = \"red\"\n",
        "\n",
        "print(x) #after the change"
      ],
      "metadata": {
        "colab": {
          "base_uri": "https://localhost:8080/"
        },
        "id": "tYQYq5SbXMNU",
        "outputId": "7caaf8a3-7cea-47c0-e19e-6bc1de0cc557"
      },
      "execution_count": 56,
      "outputs": [
        {
          "output_type": "stream",
          "name": "stdout",
          "text": [
            "dict_values(['Ford', 'Mustang', 1964])\n",
            "dict_values(['Ford', 'Mustang', 1964, 'red'])\n"
          ]
        }
      ]
    },
    {
      "cell_type": "markdown",
      "source": [
        "#**Get Items**"
      ],
      "metadata": {
        "id": "22-L8QUCXZqb"
      }
    },
    {
      "cell_type": "markdown",
      "source": [
        "#Example\n",
        "Get a list of the key:value pairs"
      ],
      "metadata": {
        "id": "C4J9XYAzXeEw"
      }
    },
    {
      "cell_type": "code",
      "source": [
        "thisdict = {\n",
        "  \"brand\": \"Ford\",\n",
        "  \"model\": \"Mustang\",\n",
        "  \"year\": 1964\n",
        "}\n",
        "\n",
        "x = thisdict.items()\n",
        "\n",
        "print(x)"
      ],
      "metadata": {
        "colab": {
          "base_uri": "https://localhost:8080/"
        },
        "id": "LUYJy_oBXiYU",
        "outputId": "d6f257df-4cf7-4f0f-d4a5-d7f77f0b7404"
      },
      "execution_count": 57,
      "outputs": [
        {
          "output_type": "stream",
          "name": "stdout",
          "text": [
            "dict_items([('brand', 'Ford'), ('model', 'Mustang'), ('year', 1964)])\n"
          ]
        }
      ]
    },
    {
      "cell_type": "markdown",
      "source": [
        "#Example\n",
        "Make a change in the original dictionary, and see that the items list gets updated as well:"
      ],
      "metadata": {
        "id": "x3PjCqReX9s5"
      }
    },
    {
      "cell_type": "code",
      "source": [
        "car = {\n",
        "\"brand\": \"Ford\",\n",
        "\"model\": \"Mustang\",\n",
        "\"year\": 1964\n",
        "}\n",
        "\n",
        "x = car.items()\n",
        "\n",
        "print(x) #before the change\n",
        "\n",
        "car[\"year\"] = 2020\n",
        "\n",
        "print(x) #after the change"
      ],
      "metadata": {
        "colab": {
          "base_uri": "https://localhost:8080/"
        },
        "id": "nFmveUuWX-dS",
        "outputId": "24110f90-2a1c-4873-d542-9ca3fadd5818"
      },
      "execution_count": 58,
      "outputs": [
        {
          "output_type": "stream",
          "name": "stdout",
          "text": [
            "dict_items([('brand', 'Ford'), ('model', 'Mustang'), ('year', 1964)])\n",
            "dict_items([('brand', 'Ford'), ('model', 'Mustang'), ('year', 2020)])\n"
          ]
        }
      ]
    },
    {
      "cell_type": "markdown",
      "source": [
        "#Example\n",
        "Add a new item to the original dictionary, and see that the items list gets updated as well:"
      ],
      "metadata": {
        "id": "yrNVXpR0YKqH"
      }
    },
    {
      "cell_type": "code",
      "source": [
        "car = {\n",
        "\"brand\": \"Ford\",\n",
        "\"model\": \"Mustang\",\n",
        "\"year\": 1964\n",
        "}\n",
        "\n",
        "x = car.items()\n",
        "\n",
        "print(x) #before the change\n",
        "\n",
        "car[\"color\"] = \"red\"\n",
        "\n",
        "print(x) #after the change"
      ],
      "metadata": {
        "colab": {
          "base_uri": "https://localhost:8080/"
        },
        "id": "C8qpJj0_YLNI",
        "outputId": "cc8e49f1-40a6-4b35-82c8-494da255d8c2"
      },
      "execution_count": 59,
      "outputs": [
        {
          "output_type": "stream",
          "name": "stdout",
          "text": [
            "dict_items([('brand', 'Ford'), ('model', 'Mustang'), ('year', 1964)])\n",
            "dict_items([('brand', 'Ford'), ('model', 'Mustang'), ('year', 1964), ('color', 'red')])\n"
          ]
        }
      ]
    },
    {
      "cell_type": "markdown",
      "source": [
        "#**Check if Key Exists**"
      ],
      "metadata": {
        "id": "SJ05xCKiYd27"
      }
    },
    {
      "cell_type": "markdown",
      "source": [
        "#Example\n",
        "Check if \"model\" is present in the dictionary:\n",
        "\n"
      ],
      "metadata": {
        "id": "eu6jjR-pYexV"
      }
    },
    {
      "cell_type": "code",
      "source": [
        "thisdict = {\n",
        "  \"brand\": \"Ford\",\n",
        "  \"model\": \"Mustang\",\n",
        "  \"year\": 1964\n",
        "}\n",
        "if \"model\" in thisdict:\n",
        "  print(\"Yes, 'model' is one of the keys in the thisdict dictionary\")"
      ],
      "metadata": {
        "colab": {
          "base_uri": "https://localhost:8080/"
        },
        "id": "DNMyT3MbYnlN",
        "outputId": "400031c7-f8f9-42db-9463-b44f9f772625"
      },
      "execution_count": 60,
      "outputs": [
        {
          "output_type": "stream",
          "name": "stdout",
          "text": [
            "Yes, 'model' is one of the keys in the thisdict dictionary\n"
          ]
        }
      ]
    },
    {
      "cell_type": "markdown",
      "source": [
        "#**Python - Change Dictionary Items**"
      ],
      "metadata": {
        "id": "89YrBKqTZKwE"
      }
    },
    {
      "cell_type": "markdown",
      "source": [
        "#**Change Values**"
      ],
      "metadata": {
        "id": "fo9HNV-fZNEU"
      }
    },
    {
      "cell_type": "markdown",
      "source": [
        "#Example\n",
        "Change the \"year\" to 2018:"
      ],
      "metadata": {
        "id": "BHvZAvm7ZYa9"
      }
    },
    {
      "cell_type": "code",
      "source": [
        "thisdict =\t{\n",
        "  \"brand\": \"Ford\",\n",
        "  \"model\": \"Mustang\",\n",
        "  \"year\": 1964\n",
        "}\n",
        "\n",
        "thisdict[\"year\"] = 2018\n",
        "\n",
        "print(thisdict)"
      ],
      "metadata": {
        "colab": {
          "base_uri": "https://localhost:8080/"
        },
        "id": "5fRdyH3kZaB1",
        "outputId": "1a0e985d-8483-418f-f010-adcea14016a6"
      },
      "execution_count": 61,
      "outputs": [
        {
          "output_type": "stream",
          "name": "stdout",
          "text": [
            "{'brand': 'Ford', 'model': 'Mustang', 'year': 2018}\n"
          ]
        }
      ]
    },
    {
      "cell_type": "markdown",
      "source": [
        "#**Update Dictionary**"
      ],
      "metadata": {
        "id": "YYQvBbMVaG8v"
      }
    },
    {
      "cell_type": "markdown",
      "source": [
        "#Example\n",
        "Update the \"year\" of the car by using the update() method:"
      ],
      "metadata": {
        "id": "CWF2RX8UaJtl"
      }
    },
    {
      "cell_type": "code",
      "source": [
        "thisdict = {\n",
        "  \"brand\": \"Ford\",\n",
        "  \"model\": \"Mustang\",\n",
        "  \"year\": 1964\n",
        "}\n",
        "thisdict.update({\"year\": 2020})\n",
        "\n",
        "print(thisdict)"
      ],
      "metadata": {
        "colab": {
          "base_uri": "https://localhost:8080/"
        },
        "id": "I417ccw1aM02",
        "outputId": "73ce730e-d85d-4344-d649-50ae5a48dee4"
      },
      "execution_count": 62,
      "outputs": [
        {
          "output_type": "stream",
          "name": "stdout",
          "text": [
            "{'brand': 'Ford', 'model': 'Mustang', 'year': 2020}\n"
          ]
        }
      ]
    },
    {
      "cell_type": "markdown",
      "source": [
        "#**Python - Add Dictionary Items**"
      ],
      "metadata": {
        "id": "FseWgkE8a6T9"
      }
    },
    {
      "cell_type": "markdown",
      "source": [
        "#**Adding Items**"
      ],
      "metadata": {
        "id": "IcQnOu1La7sN"
      }
    },
    {
      "cell_type": "markdown",
      "source": [
        "#Example"
      ],
      "metadata": {
        "id": "ScBT-Mcua-8s"
      }
    },
    {
      "cell_type": "code",
      "source": [
        "thisdict =\t{\n",
        "  \"brand\": \"Ford\",\n",
        "  \"model\": \"Mustang\",\n",
        "  \"year\": 1964\n",
        "}\n",
        "thisdict[\"color\"] = \"red\"\n",
        "print(thisdict)"
      ],
      "metadata": {
        "colab": {
          "base_uri": "https://localhost:8080/"
        },
        "id": "vq-Smyr6bBBk",
        "outputId": "8d2a27d4-af94-4168-d44c-eaf0e5df0235"
      },
      "execution_count": 63,
      "outputs": [
        {
          "output_type": "stream",
          "name": "stdout",
          "text": [
            "{'brand': 'Ford', 'model': 'Mustang', 'year': 1964, 'color': 'red'}\n"
          ]
        }
      ]
    },
    {
      "cell_type": "markdown",
      "source": [
        "#**Update Dictionary**"
      ],
      "metadata": {
        "id": "REnsNjzObmQq"
      }
    },
    {
      "cell_type": "markdown",
      "source": [
        "#Example\n",
        "Add a color item to the dictionary by using the update() method:"
      ],
      "metadata": {
        "id": "R516tqDEbqJs"
      }
    },
    {
      "cell_type": "code",
      "source": [
        "thisdict = {\n",
        "  \"brand\": \"Ford\",\n",
        "  \"model\": \"Mustang\",\n",
        "  \"year\": 1964\n",
        "}\n",
        "thisdict.update({\"color\": \"red\"})\n",
        "\n",
        "print(thisdict)"
      ],
      "metadata": {
        "colab": {
          "base_uri": "https://localhost:8080/"
        },
        "id": "8_OjKl4tbriS",
        "outputId": "0404103a-3bed-4306-a2c8-7af0a300713a"
      },
      "execution_count": 64,
      "outputs": [
        {
          "output_type": "stream",
          "name": "stdout",
          "text": [
            "{'brand': 'Ford', 'model': 'Mustang', 'year': 1964, 'color': 'red'}\n"
          ]
        }
      ]
    },
    {
      "cell_type": "markdown",
      "source": [
        "#**Python - Remove Dictionary Items**"
      ],
      "metadata": {
        "id": "j7WdeIy1cETS"
      }
    },
    {
      "cell_type": "markdown",
      "source": [
        "#**Removing Items**"
      ],
      "metadata": {
        "id": "qJ0s_OdecGM6"
      }
    },
    {
      "cell_type": "markdown",
      "source": [
        "#Example\n",
        "The pop() method removes the item with the specified key name:"
      ],
      "metadata": {
        "id": "DnA0h4VscWj2"
      }
    },
    {
      "cell_type": "code",
      "source": [
        "thisdict =\t{\n",
        "  \"brand\": \"Ford\",\n",
        "  \"model\": \"Mustang\",\n",
        "  \"year\": 1964\n",
        "}\n",
        "thisdict.pop(\"model\")\n",
        "print(thisdict)"
      ],
      "metadata": {
        "colab": {
          "base_uri": "https://localhost:8080/"
        },
        "id": "8aeSZ06ucXXU",
        "outputId": "90c33df7-9479-4abb-ae11-52d4a6f04d05"
      },
      "execution_count": 65,
      "outputs": [
        {
          "output_type": "stream",
          "name": "stdout",
          "text": [
            "{'brand': 'Ford', 'year': 1964}\n"
          ]
        }
      ]
    },
    {
      "cell_type": "markdown",
      "source": [
        "#Example\n",
        "The popitem() method removes the last inserted item (in versions before 3.7, a random item is removed instead):"
      ],
      "metadata": {
        "id": "KP2JipAwclqt"
      }
    },
    {
      "cell_type": "code",
      "source": [
        "thisdict =\t{\n",
        "  \"brand\": \"Ford\",\n",
        "  \"model\": \"Mustang\",\n",
        "  \"year\": 1964\n",
        "}\n",
        "thisdict.popitem()\n",
        "print(thisdict)\n"
      ],
      "metadata": {
        "colab": {
          "base_uri": "https://localhost:8080/"
        },
        "id": "GH_6ZB1fcmNg",
        "outputId": "bdb4a630-5814-480f-8677-c6ab131f556c"
      },
      "execution_count": 66,
      "outputs": [
        {
          "output_type": "stream",
          "name": "stdout",
          "text": [
            "{'brand': 'Ford', 'model': 'Mustang'}\n"
          ]
        }
      ]
    },
    {
      "cell_type": "markdown",
      "source": [
        "#Example\n",
        "The del keyword removes the item with the specified key name:"
      ],
      "metadata": {
        "id": "LCndb4KMctmG"
      }
    },
    {
      "cell_type": "code",
      "source": [
        "thisdict =\t{\n",
        "  \"brand\": \"Ford\",\n",
        "  \"model\": \"Mustang\",\n",
        "  \"year\": 1964\n",
        "}\n",
        "del thisdict[\"model\"]\n",
        "print(thisdict)"
      ],
      "metadata": {
        "colab": {
          "base_uri": "https://localhost:8080/"
        },
        "id": "Ch0nn8R7cuZi",
        "outputId": "eaa008ed-cbbc-4f61-da69-0d36f1711840"
      },
      "execution_count": 67,
      "outputs": [
        {
          "output_type": "stream",
          "name": "stdout",
          "text": [
            "{'brand': 'Ford', 'year': 1964}\n"
          ]
        }
      ]
    },
    {
      "cell_type": "markdown",
      "source": [
        "#Example\n",
        "The del keyword can also delete the dictionary completely:"
      ],
      "metadata": {
        "id": "wKVvFFq6c2Q9"
      }
    },
    {
      "cell_type": "code",
      "source": [
        "thisdict =\t{\n",
        "  \"brand\": \"Ford\",\n",
        "  \"model\": \"Mustang\",\n",
        "  \"year\": 1964\n",
        "}\n",
        "del thisdict\n",
        "print(thisdict)"
      ],
      "metadata": {
        "colab": {
          "base_uri": "https://localhost:8080/",
          "height": 207
        },
        "id": "JH67qORLc3QA",
        "outputId": "a9f18626-4029-48c3-ab73-60c1c39eb2d9"
      },
      "execution_count": 68,
      "outputs": [
        {
          "output_type": "error",
          "ename": "NameError",
          "evalue": "ignored",
          "traceback": [
            "\u001b[0;31m---------------------------------------------------------------------------\u001b[0m",
            "\u001b[0;31mNameError\u001b[0m                                 Traceback (most recent call last)",
            "\u001b[0;32m<ipython-input-68-bde8ef6f368b>\u001b[0m in \u001b[0;36m<module>\u001b[0;34m\u001b[0m\n\u001b[1;32m      5\u001b[0m }\n\u001b[1;32m      6\u001b[0m \u001b[0;32mdel\u001b[0m \u001b[0mthisdict\u001b[0m\u001b[0;34m\u001b[0m\u001b[0;34m\u001b[0m\u001b[0m\n\u001b[0;32m----> 7\u001b[0;31m \u001b[0mprint\u001b[0m\u001b[0;34m(\u001b[0m\u001b[0mthisdict\u001b[0m\u001b[0;34m)\u001b[0m\u001b[0;34m\u001b[0m\u001b[0;34m\u001b[0m\u001b[0m\n\u001b[0m",
            "\u001b[0;31mNameError\u001b[0m: name 'thisdict' is not defined"
          ]
        }
      ]
    },
    {
      "cell_type": "markdown",
      "source": [
        "#Example\n",
        "The clear() method empties the dictionary:"
      ],
      "metadata": {
        "id": "Ka2R3gwwdOnU"
      }
    },
    {
      "cell_type": "code",
      "source": [
        "thisdict =\t{\n",
        "  \"brand\": \"Ford\",\n",
        "  \"model\": \"Mustang\",\n",
        "  \"year\": 1964\n",
        "}\n",
        "thisdict.clear()\n",
        "print(thisdict)"
      ],
      "metadata": {
        "colab": {
          "base_uri": "https://localhost:8080/"
        },
        "id": "2emmQQetdPxW",
        "outputId": "deb20244-0d20-4bee-f2b3-dc1f284a8749"
      },
      "execution_count": 69,
      "outputs": [
        {
          "output_type": "stream",
          "name": "stdout",
          "text": [
            "{}\n"
          ]
        }
      ]
    },
    {
      "cell_type": "markdown",
      "source": [
        "#**Python - Loop Dictionaries**"
      ],
      "metadata": {
        "id": "4wuOWtMUdqfm"
      }
    },
    {
      "cell_type": "markdown",
      "source": [
        "#**Loop Through a Dictionary**"
      ],
      "metadata": {
        "id": "YoxRLcStdsIk"
      }
    },
    {
      "cell_type": "markdown",
      "source": [
        "#Example\n",
        "Print all key names in the dictionary, one by one:"
      ],
      "metadata": {
        "id": "MekyZkVidvvs"
      }
    },
    {
      "cell_type": "code",
      "source": [
        "thisdict =\t{\n",
        "  \"brand\": \"Ford\",\n",
        "  \"model\": \"Mustang\",\n",
        "  \"year\": 1964\n",
        "}\n",
        "for x in thisdict:\n",
        "  print(x)"
      ],
      "metadata": {
        "colab": {
          "base_uri": "https://localhost:8080/"
        },
        "id": "g5qnjgwbd8MN",
        "outputId": "c552fc3d-99e2-41f8-8e2b-ffaa2c9f973d"
      },
      "execution_count": 70,
      "outputs": [
        {
          "output_type": "stream",
          "name": "stdout",
          "text": [
            "brand\n",
            "model\n",
            "year\n"
          ]
        }
      ]
    },
    {
      "cell_type": "markdown",
      "source": [
        "#Example\n",
        "Print all values in the dictionary, one by one:"
      ],
      "metadata": {
        "id": "QsS1sBHWe64t"
      }
    },
    {
      "cell_type": "code",
      "source": [
        "thisdict =\t{\n",
        "  \"brand\": \"Ford\",\n",
        "  \"model\": \"Mustang\",\n",
        "  \"year\": 1964\n",
        "}\n",
        "for x in thisdict:\n",
        "  print(thisdict[x])\n"
      ],
      "metadata": {
        "colab": {
          "base_uri": "https://localhost:8080/"
        },
        "id": "H8YV2sQCe7lq",
        "outputId": "041a11c7-28e0-477c-e1f0-2694bbf4462e"
      },
      "execution_count": 71,
      "outputs": [
        {
          "output_type": "stream",
          "name": "stdout",
          "text": [
            "Ford\n",
            "Mustang\n",
            "1964\n"
          ]
        }
      ]
    },
    {
      "cell_type": "markdown",
      "source": [
        "#Example\n",
        "You can also use the values() method to return values of a dictionary:"
      ],
      "metadata": {
        "id": "rdsiPNWOfcMW"
      }
    },
    {
      "cell_type": "code",
      "source": [
        "thisdict =\t{\n",
        "  \"brand\": \"Ford\",\n",
        "  \"model\": \"Mustang\",\n",
        "  \"year\": 1964\n",
        "}\n",
        "for x in thisdict.values():\n",
        "  print(x)"
      ],
      "metadata": {
        "colab": {
          "base_uri": "https://localhost:8080/"
        },
        "id": "5Bnew1VPfc9D",
        "outputId": "cce957df-69af-4e67-d953-37edc2ac3e41"
      },
      "execution_count": 72,
      "outputs": [
        {
          "output_type": "stream",
          "name": "stdout",
          "text": [
            "Ford\n",
            "Mustang\n",
            "1964\n"
          ]
        }
      ]
    },
    {
      "cell_type": "markdown",
      "source": [
        "#Example\n",
        "You can use the keys() method to return the keys of a dictionary:"
      ],
      "metadata": {
        "id": "adGXHxPefv_F"
      }
    },
    {
      "cell_type": "code",
      "source": [
        "thisdict =\t{\n",
        "  \"brand\": \"Ford\",\n",
        "  \"model\": \"Mustang\",\n",
        "  \"year\": 1964\n",
        "}\n",
        "for x in thisdict.keys():\n",
        "  print(x)"
      ],
      "metadata": {
        "colab": {
          "base_uri": "https://localhost:8080/"
        },
        "id": "MABzU7qHfwmy",
        "outputId": "36eac6bb-6abf-4b8b-9c94-eb0690eb241c"
      },
      "execution_count": 73,
      "outputs": [
        {
          "output_type": "stream",
          "name": "stdout",
          "text": [
            "brand\n",
            "model\n",
            "year\n"
          ]
        }
      ]
    },
    {
      "cell_type": "markdown",
      "source": [
        "#Example\n",
        "Loop through both keys and values, by using the items() method:"
      ],
      "metadata": {
        "id": "Uq4_x3-WgDej"
      }
    },
    {
      "cell_type": "code",
      "source": [
        "thisdict =\t{\n",
        "  \"brand\": \"Ford\",\n",
        "  \"model\": \"Mustang\",\n",
        "  \"year\": 1964\n",
        "}\n",
        "for x, y in thisdict.items():\n",
        "  print(x, y)"
      ],
      "metadata": {
        "colab": {
          "base_uri": "https://localhost:8080/"
        },
        "id": "wITaRNYpgEJ0",
        "outputId": "8e2ab132-333c-46bc-98ca-b4368973ae67"
      },
      "execution_count": 74,
      "outputs": [
        {
          "output_type": "stream",
          "name": "stdout",
          "text": [
            "brand Ford\n",
            "model Mustang\n",
            "year 1964\n"
          ]
        }
      ]
    },
    {
      "cell_type": "markdown",
      "source": [
        "#**Python - Copy Dictionaries**"
      ],
      "metadata": {
        "id": "gQQ26meeg2IL"
      }
    },
    {
      "cell_type": "markdown",
      "source": [
        "#**Copy a Dictionary**"
      ],
      "metadata": {
        "id": "XKNGYN0tg3G6"
      }
    },
    {
      "cell_type": "markdown",
      "source": [
        "#Example\n",
        "Make a copy of a dictionary with the copy() method:"
      ],
      "metadata": {
        "id": "zeDhfnjKg9Iq"
      }
    },
    {
      "cell_type": "code",
      "source": [
        "thisdict = {\n",
        "  \"brand\": \"Ford\",\n",
        "  \"model\": \"Mustang\",\n",
        "  \"year\": 1964\n",
        "}\n",
        "mydict = thisdict.copy()\n",
        "print(mydict)\n"
      ],
      "metadata": {
        "colab": {
          "base_uri": "https://localhost:8080/"
        },
        "id": "dPITZzzyg5nc",
        "outputId": "222d2d67-4f4b-45ec-9e54-3e7207c1c966"
      },
      "execution_count": 75,
      "outputs": [
        {
          "output_type": "stream",
          "name": "stdout",
          "text": [
            "{'brand': 'Ford', 'model': 'Mustang', 'year': 1964}\n"
          ]
        }
      ]
    },
    {
      "cell_type": "markdown",
      "source": [
        "#Example\n",
        "Make a copy of a dictionary with the dict() function:"
      ],
      "metadata": {
        "id": "7ZO4l8UZhnyG"
      }
    },
    {
      "cell_type": "code",
      "source": [
        "thisdict = {\n",
        "  \"brand\": \"Ford\",\n",
        "  \"model\": \"Mustang\",\n",
        "  \"year\": 1964\n",
        "}\n",
        "mydict = dict(thisdict)\n",
        "print(mydict)"
      ],
      "metadata": {
        "colab": {
          "base_uri": "https://localhost:8080/"
        },
        "id": "I3YdeyV6hoVC",
        "outputId": "52ce944e-2800-4e19-8fde-557c247e27a6"
      },
      "execution_count": 76,
      "outputs": [
        {
          "output_type": "stream",
          "name": "stdout",
          "text": [
            "{'brand': 'Ford', 'model': 'Mustang', 'year': 1964}\n"
          ]
        }
      ]
    },
    {
      "cell_type": "markdown",
      "source": [
        "#**Python - Nested Dictionaries**"
      ],
      "metadata": {
        "id": "23_5FxM4hynU"
      }
    },
    {
      "cell_type": "markdown",
      "source": [
        "#**Nested Dictionaries**"
      ],
      "metadata": {
        "id": "jfaDzEcWh0e5"
      }
    },
    {
      "cell_type": "markdown",
      "source": [
        "#Example\n",
        "Create a dictionary that contain three dictionaries:"
      ],
      "metadata": {
        "id": "KKEKv9kah4md"
      }
    },
    {
      "cell_type": "code",
      "source": [
        "myfamily = {\n",
        "  \"child1\" : {\n",
        "    \"name\" : \"Emil\",\n",
        "    \"year\" : 2004\n",
        "  },\n",
        "  \"child2\" : {\n",
        "    \"name\" : \"Tobias\",\n",
        "    \"year\" : 2007\n",
        "  },\n",
        "  \"child3\" : {\n",
        "    \"name\" : \"Linus\",\n",
        "    \"year\" : 2011\n",
        "  }\n",
        "}\n",
        "\n",
        "print(myfamily)"
      ],
      "metadata": {
        "colab": {
          "base_uri": "https://localhost:8080/"
        },
        "id": "DBwp2EKEh4WJ",
        "outputId": "bf2e1b1d-91ab-48b4-91d7-9f7661c1fd46"
      },
      "execution_count": 77,
      "outputs": [
        {
          "output_type": "stream",
          "name": "stdout",
          "text": [
            "{'child1': {'name': 'Emil', 'year': 2004}, 'child2': {'name': 'Tobias', 'year': 2007}, 'child3': {'name': 'Linus', 'year': 2011}}\n"
          ]
        }
      ]
    },
    {
      "cell_type": "markdown",
      "source": [
        "#Example\n",
        "Create three dictionaries, then create one dictionary that will contain the other three dictionaries:"
      ],
      "metadata": {
        "id": "kpzjYXpLim4d"
      }
    },
    {
      "cell_type": "code",
      "source": [
        "child1 = {\n",
        "  \"name\" : \"Emil\",\n",
        "  \"year\" : 2004\n",
        "}\n",
        "child2 = {\n",
        "  \"name\" : \"Tobias\",\n",
        "  \"year\" : 2007\n",
        "}\n",
        "child3 = {\n",
        "  \"name\" : \"Linus\",\n",
        "  \"year\" : 2011\n",
        "}\n",
        "\n",
        "myfamily = {\n",
        "  \"child1\" : child1,\n",
        "  \"child2\" : child2,\n",
        "  \"child3\" : child3\n",
        "}\n",
        "\n",
        "print(myfamily)\n"
      ],
      "metadata": {
        "colab": {
          "base_uri": "https://localhost:8080/"
        },
        "id": "o4P1kYEhinU2",
        "outputId": "f249039d-3bd3-4a7b-aa5b-8db9bda91d2c"
      },
      "execution_count": 78,
      "outputs": [
        {
          "output_type": "stream",
          "name": "stdout",
          "text": [
            "{'child1': {'name': 'Emil', 'year': 2004}, 'child2': {'name': 'Tobias', 'year': 2007}, 'child3': {'name': 'Linus', 'year': 2011}}\n"
          ]
        }
      ]
    }
  ]
}